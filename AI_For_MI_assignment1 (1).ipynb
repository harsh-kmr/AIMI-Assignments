{
  "cells": [
    {
      "cell_type": "markdown",
      "source": [
        "# Assignment -1 AI for MI"
      ],
      "metadata": {
        "id": "FkjD8np8XZQH"
      }
    },
    {
      "cell_type": "markdown",
      "source": [
        "## Installation and Import"
      ],
      "metadata": {
        "id": "cmFn_CAsXjw9"
      }
    },
    {
      "cell_type": "code",
      "source": [
        "!pip install nibabel numpy matplotlib"
      ],
      "outputs": [
        {
          "output_type": "stream",
          "name": "stdout",
          "text": "Requirement already satisfied: nibabel in /usr/local/lib/python3.10/dist-packages (5.0.1)\nRequirement already satisfied: numpy in /usr/local/lib/python3.10/dist-packages (1.26.4)\nRequirement already satisfied: matplotlib in /usr/local/lib/python3.10/dist-packages (3.7.1)\nRequirement already satisfied: packaging>=17 in /usr/local/lib/python3.10/dist-packages (from nibabel) (24.1)\nRequirement already satisfied: setuptools in /usr/local/lib/python3.10/dist-packages (from nibabel) (71.0.4)\nRequirement already satisfied: contourpy>=1.0.1 in /usr/local/lib/python3.10/dist-packages (from matplotlib) (1.3.0)\nRequirement already satisfied: cycler>=0.10 in /usr/local/lib/python3.10/dist-packages (from matplotlib) (0.12.1)\nRequirement already satisfied: fonttools>=4.22.0 in /usr/local/lib/python3.10/dist-packages (from matplotlib) (4.53.1)\nRequirement already satisfied: kiwisolver>=1.0.1 in /usr/local/lib/python3.10/dist-packages (from matplotlib) (1.4.7)\nRequirement already satisfied: pillow>=6.2.0 in /usr/local/lib/python3.10/dist-packages (from matplotlib) (9.4.0)\nRequirement already satisfied: pyparsing>=2.3.1 in /usr/local/lib/python3.10/dist-packages (from matplotlib) (3.1.4)\nRequirement already satisfied: python-dateutil>=2.7 in /usr/local/lib/python3.10/dist-packages (from matplotlib) (2.8.2)\nRequirement already satisfied: six>=1.5 in /usr/local/lib/python3.10/dist-packages (from python-dateutil>=2.7->matplotlib) (1.16.0)\n"
        }
      ],
      "execution_count": null,
      "metadata": {
        "colab": {
          "base_uri": "https://localhost:8080/"
        },
        "id": "vpdqGnkfXi91",
        "outputId": "8115cc30-8aed-4077-f758-3579c7769511"
      }
    },
    {
      "cell_type": "code",
      "source": [
        "import nibabel as nib\n",
        "import numpy as np\n",
        "import matplotlib.pyplot as plt\n",
        "import seaborn as sns\n",
        "import pandas as pd\n",
        "import logging\n",
        "import os\n",
        "import random\n",
        "from tqdm.notebook import tqdm\n",
        "import torch"
      ],
      "outputs": [],
      "execution_count": null,
      "metadata": {
        "id": "ZadACDlRXvij"
      }
    },
    {
      "cell_type": "code",
      "source": [
        "question_folder = \"/content/drive/MyDrive/datasets/AIMI_ASS1_Files\"\n",
        "ground_truth = \"/content/drive/MyDrive/datasets/GroundTruth\""
      ],
      "outputs": [],
      "execution_count": null,
      "metadata": {
        "id": "0zwbBJQnX_Ne"
      }
    },
    {
      "cell_type": "markdown",
      "source": [
        "## helper functions"
      ],
      "metadata": {
        "id": "CkCtOu4oKahx"
      }
    },
    {
      "cell_type": "code",
      "source": [
        "# Configure logging\n",
        "logging.basicConfig(\n",
        "    level=logging.INFO,\n",
        "    format='%(asctime)s [%(levelname)s] %(message)s',\n",
        "    handlers=[\n",
        "        logging.StreamHandler()\n",
        "    ]\n",
        ")\n",
        "logger = logging.getLogger(__name__)"
      ],
      "outputs": [],
      "execution_count": null,
      "metadata": {
        "id": "TBaUKwAEZLNo"
      }
    },
    {
      "cell_type": "code",
      "source": [
        "def get_sequences(file_name):\n",
        "    file_name = file_name.lower()\n",
        "    if 't1' in file_name:\n",
        "        return 't1'\n",
        "    elif 't2' in file_name:\n",
        "        return 't2'\n",
        "    elif 'flair' in file_name:\n",
        "        return 'flair'\n",
        "    else:\n",
        "        return \"Exception\"\n",
        "\n",
        "def calculate_distance(point, center):\n",
        "    return (point - center) ** 2"
      ],
      "outputs": [],
      "execution_count": null,
      "metadata": {
        "id": "xJRStA_6ZNjc"
      }
    },
    {
      "cell_type": "code",
      "source": [
        "def file_processer(directory, k, save_dir, max_iterations=1000):\n",
        "    file_list = []\n",
        "    for root, dirs, files in os.walk(directory):\n",
        "        for file in files:\n",
        "            #print(file)\n",
        "            if file.endswith('.nii.gz'):\n",
        "                file_list.append((file, root, k, save_dir, max_iterations))\n",
        "\n",
        "    logger.info(f\"Starting sequential k-means processing\")\n",
        "    #print(file_list)\n",
        "\n",
        "    results = []\n",
        "    for file_info in tqdm(file_list):\n",
        "        result = k_means(file_info)\n",
        "        if result is not None:\n",
        "            results.append(result)\n",
        "\n",
        "    logger.info(\"k-means clustering completed for all files\")\n",
        "    return results"
      ],
      "outputs": [],
      "execution_count": null,
      "metadata": {
        "id": "Ur_SKOjhZWgz"
      }
    },
    {
      "cell_type": "markdown",
      "source": [
        "## Kmeans from Scratch"
      ],
      "metadata": {
        "id": "whAcAsycX2PF"
      }
    },
    {
      "cell_type": "code",
      "source": [
        "def k_means(file_info):\n",
        "    file, directory, k, save_dir, max_iterations = file_info\n",
        "    #print(file)\n",
        "\n",
        "    # Run on few samples to get empirical centers for faster convergence\n",
        "    empirical_centers = {\n",
        "        't1': { 2 : [790, 457],\n",
        "                3: [291, 832.0, 590.5],},\n",
        "        't2': { 2 : [363, 181],\n",
        "                3: [168.5, 409, 227.0],},\n",
        "        'flair': { 2 : [140, 83],\n",
        "                   3: [71, 152, 127.4],},\n",
        "        'Exeption' : {2: [random.randint(11, 300) for i in range(2)],\n",
        "                      3: [random.randint(11, 300) for i in range(3)],\n",
        "                      },\n",
        "    }\n",
        "\n",
        "    sequences = get_sequences(file)\n",
        "\n",
        "    if sequences == \"Exception\":\n",
        "        logger.warning(f\"Resetting center to random values for {file}: Unable to determine sequences\")\n",
        "\n",
        "    if sequences not in empirical_centers or k not in empirical_centers[sequences]:\n",
        "        raise ValueError(f\"Unsupported model or k for file {file}: sequences={sequences}, k={k}\")\n",
        "\n",
        "    centres = np.array(empirical_centers[sequences][k], dtype=np.float32)\n",
        "\n",
        "    file_path = os.path.join(directory, file)\n",
        "    img = nib.load(file_path)\n",
        "    data = img.get_fdata()\n",
        "\n",
        "    flattened_data = data.flatten()\n",
        "\n",
        "    # Allocate labels\n",
        "    labels = np.zeros_like(flattened_data, dtype=np.int8)\n",
        "\n",
        "    for iteration in range(max_iterations):\n",
        "        old_labels = np.copy(labels)\n",
        "\n",
        "        # Assign each point to the nearest center\n",
        "        for i, point in enumerate(flattened_data):\n",
        "            if point != 0:  # Ignore background voxels\n",
        "                distances = [calculate_distance(point, center) for center in centres]\n",
        "                labels[i] = np.argmin(distances) + 1\n",
        "        #print(\"distance calculated\")\n",
        "\n",
        "        # Update centers\n",
        "        for j in range(k):\n",
        "            mask = labels == (j + 1)\n",
        "            if np.sum(mask) > 0:\n",
        "                centres[j] = np.mean(flattened_data[mask])\n",
        "\n",
        "        #print(\"center updated\")\n",
        "        if np.array_equal(old_labels, labels):\n",
        "            break\n",
        "        #print(\"loop over\")\n",
        "\n",
        "        segmented_data = labels.reshape(data.shape)\n",
        "\n",
        "        # Save segmented data\n",
        "        segmented_img = nib.Nifti1Image(segmented_data, img.affine, img.header)\n",
        "        subject_name = os.path.basename(os.path.dirname(file_path))\n",
        "        # naming covention \tii) Naming Convention for output segmentation masks - Sub_{subNo}_{SeqName}_{K_value}.nii.gz\n",
        "        k_folder = os.path.join(save_dir, f\"k={k}\", subject_name)\n",
        "        output_folder = os.path.join(k_folder, \"segmented\")\n",
        "        os.makedirs(output_folder, exist_ok=True)\n",
        "        output_folder2 = os.path.join(save_dir, \"segmented\")\n",
        "        os.makedirs(output_folder2, exist_ok=True)\n",
        "        output_file2 = os.path.join(output_folder2, f\"{subject_name[:3]}_{subject_name[3:]}_{sequences.upper()}_{k}.nii.gz\")\n",
        "\n",
        "        output_file = os.path.join(output_folder, f\"segmented_{k}_{file}\")\n",
        "        nib.save(segmented_img, output_file)\n",
        "        nib.save(segmented_img, output_file2)\n",
        "\n",
        "        print(f\"Segmentation completed for {file} with k={k}, model={sequences}, centers={centres.tolist()} at iteration {iteration}\")\n",
        "\n",
        "        return centres.tolist()"
      ],
      "outputs": [],
      "execution_count": null,
      "metadata": {
        "id": "NR2qIlixWhZO"
      }
    },
    {
      "cell_type": "markdown",
      "source": [
        "## segmentation, metric calculation and Observation"
      ],
      "metadata": {
        "id": "QPmaqoKwLpKE"
      }
    },
    {
      "cell_type": "code",
      "source": [
        "if __name__ == \"__main__\":\n",
        "\n",
        "    k_values = [2, 3]\n",
        "    for k in k_values:\n",
        "        directory = \"/content/drive/MyDrive/datasets/AIMI_ASS1_Files\"\n",
        "        save_dir = \"/content/drive/MyDrive/model prediction AIMI/final_run\"\n",
        "        final_centres = file_processer(directory, k, save_dir)\n",
        "        print(f\"Final centres for k={k}: {final_centres}\")"
      ],
      "outputs": [
        {
          "output_type": "display_data",
          "data": {
            "text/plain": "  0%|          | 0/60 [00:00<?, ?it/s]",
            "application/vnd.jupyter.widget-view+json": {
              "version_major": 2,
              "version_minor": 0,
              "model_id": "a9ca032a0f8e4b648510e10aa04cfee0"
            }
          },
          "metadata": {}
        },
        {
          "output_type": "stream",
          "name": "stdout",
          "text": "Segmentation completed for T1_pre_restore.nii.gz with k=2, model=t1, centers=[803.5606079101562, 434.605712890625] at iteration 0\nSegmentation completed for T2_pre_restore.nii.gz with k=2, model=t2, centers=[376.474609375, 179.7407684326172] at iteration 0\nSegmentation completed for FLAIR_pre_restore.nii.gz with k=2, model=flair, centers=[140.5082550048828, 78.18310546875] at iteration 0\nSegmentation completed for T1_pre_restore.nii.gz with k=2, model=t1, centers=[809.3873901367188, 456.08306884765625] at iteration 0\nSegmentation completed for T2_pre_restore.nii.gz with k=2, model=t2, centers=[355.15936279296875, 205.2095947265625] at iteration 0\nSegmentation completed for FLAIR_pre_restore.nii.gz with k=2, model=flair, centers=[149.3914031982422, 81.41079711914062] at iteration 0\nSegmentation completed for T1_pre_restore.nii.gz with k=2, model=t1, centers=[780.0728149414062, 467.32574462890625] at iteration 0\nSegmentation completed for T2_pre_restore.nii.gz with k=2, model=t2, centers=[356.2275085449219, 182.78707885742188] at iteration 0\nSegmentation completed for FLAIR_pre_restore.nii.gz with k=2, model=flair, centers=[144.55335998535156, 84.76068115234375] at iteration 0\nSegmentation completed for T1_pre_restore.nii.gz with k=2, model=t1, centers=[748.9459838867188, 451.24346923828125] at iteration 0\nSegmentation completed for T2_pre_restore.nii.gz with k=2, model=t2, centers=[349.3432922363281, 162.4097900390625] at iteration 0\nSegmentation completed for FLAIR_pre_restore.nii.gz with k=2, model=flair, centers=[132.1254119873047, 84.1909408569336] at iteration 0\nSegmentation completed for T1_pre_restore.nii.gz with k=2, model=t1, centers=[810.1292114257812, 442.078369140625] at iteration 0\nSegmentation completed for T2_pre_restore.nii.gz with k=2, model=t2, centers=[361.5224609375, 171.5655975341797] at iteration 0\nSegmentation completed for FLAIR_pre_restore.nii.gz with k=2, model=flair, centers=[142.49134826660156, 80.5926513671875] at iteration 0\nSegmentation completed for T1_pre_restore.nii.gz with k=2, model=t1, centers=[706.3496704101562, 467.9542541503906] at iteration 0\nSegmentation completed for T2_pre_restore.nii.gz with k=2, model=t2, centers=[315.0726623535156, 223.66490173339844] at iteration 0\nSegmentation completed for FLAIR_pre_restore.nii.gz with k=2, model=flair, centers=[158.68881225585938, 84.46871185302734] at iteration 0\nSegmentation completed for T1_pre_restore.nii.gz with k=2, model=t1, centers=[868.1522216796875, 406.8883361816406] at iteration 0\nSegmentation completed for T2_pre_restore.nii.gz with k=2, model=t2, centers=[393.916748046875, 211.25035095214844] at iteration 0\nSegmentation completed for FLAIR_pre_restore.nii.gz with k=2, model=flair, centers=[158.8780059814453, 76.64300537109375] at iteration 0\nSegmentation completed for T1_pre_restore.nii.gz with k=2, model=t1, centers=[828.0863647460938, 406.84796142578125] at iteration 0\nSegmentation completed for T2_pre_restore.nii.gz with k=2, model=t2, centers=[387.3934326171875, 186.64981079101562] at iteration 0\nSegmentation completed for FLAIR_pre_restore.nii.gz with k=2, model=flair, centers=[153.9626922607422, 74.77738952636719] at iteration 0\nSegmentation completed for T1_pre_restore.nii.gz with k=2, model=t1, centers=[822.6608276367188, 445.40545654296875] at iteration 0\nSegmentation completed for T2_pre_restore.nii.gz with k=2, model=t2, centers=[362.8252868652344, 224.84222412109375] at iteration 0\nSegmentation completed for FLAIR_pre_restore.nii.gz with k=2, model=flair, centers=[167.5006103515625, 78.75775146484375] at iteration 0\nSegmentation completed for T1_pre_restore.nii.gz with k=2, model=t1, centers=[789.8530883789062, 457.1077575683594] at iteration 0\nSegmentation completed for T2_pre_restore.nii.gz with k=2, model=t2, centers=[362.8572998046875, 181.04989624023438] at iteration 0\nSegmentation completed for FLAIR_pre_restore.nii.gz with k=2, model=flair, centers=[140.08917236328125, 82.92791748046875] at iteration 0\nSegmentation completed for T1_pre_restore.nii.gz with k=2, model=t1, centers=[802.56787109375, 463.9983825683594] at iteration 0\nSegmentation completed for T2_pre_restore.nii.gz with k=2, model=t2, centers=[351.175537109375, 180.97479248046875] at iteration 0\nSegmentation completed for FLAIR_pre_restore.nii.gz with k=2, model=flair, centers=[145.53915405273438, 82.63314056396484] at iteration 0\nSegmentation completed for T1_pre_restore.nii.gz with k=2, model=t1, centers=[810.060546875, 432.4873962402344] at iteration 0\nSegmentation completed for T2_pre_restore.nii.gz with k=2, model=t2, centers=[367.1212463378906, 177.24899291992188] at iteration 0\nSegmentation completed for FLAIR_pre_restore.nii.gz with k=2, model=flair, centers=[140.8203125, 79.1207275390625] at iteration 0\nSegmentation completed for T1_pre_restore.nii.gz with k=2, model=t1, centers=[803.2587280273438, 455.9923095703125] at iteration 0\nSegmentation completed for T2_pre_restore.nii.gz with k=2, model=t2, centers=[355.1509704589844, 174.3509063720703] at iteration 0\nSegmentation completed for FLAIR_pre_restore.nii.gz with k=2, model=flair, centers=[133.54147338867188, 89.41574096679688] at iteration 0\nSegmentation completed for T1_pre_restore.nii.gz with k=2, model=t1, centers=[730.5810546875, 444.9366455078125] at iteration 0\nSegmentation completed for T2_pre_restore.nii.gz with k=2, model=t2, centers=[341.9903869628906, 159.29135131835938] at iteration 0\nSegmentation completed for FLAIR_pre_restore.nii.gz with k=2, model=flair, centers=[130.43667602539062, 87.52439880371094] at iteration 0\nSegmentation completed for T1_pre_restore.nii.gz with k=2, model=t1, centers=[781.97705078125, 466.9056091308594] at iteration 0\nSegmentation completed for T2_pre_restore.nii.gz with k=2, model=t2, centers=[361.576171875, 177.8860321044922] at iteration 0\nSegmentation completed for FLAIR_pre_restore.nii.gz with k=2, model=flair, centers=[139.4635467529297, 81.20500183105469] at iteration 0\nSegmentation completed for T1_pre_restore.nii.gz with k=2, model=t1, centers=[834.477294921875, 429.10400390625] at iteration 0\nSegmentation completed for T2_pre_restore.nii.gz with k=2, model=t2, centers=[376.0542297363281, 194.74620056152344] at iteration 0\nSegmentation completed for FLAIR_pre_restore.nii.gz with k=2, model=flair, centers=[153.3982696533203, 77.34312438964844] at iteration 0\nSegmentation completed for T1_pre_restore.nii.gz with k=2, model=t1, centers=[677.1889038085938, 443.1336364746094] at iteration 0\nSegmentation completed for T2_pre_restore.nii.gz with k=2, model=t2, centers=[335.8149108886719, 138.0706787109375] at iteration 0\nSegmentation completed for FLAIR_pre_restore.nii.gz with k=2, model=flair, centers=[120.4063949584961, 95.13532257080078] at iteration 0\nSegmentation completed for T1_pre_restore.nii.gz with k=2, model=t1, centers=[801.9495239257812, 440.836669921875] at iteration 0\nSegmentation completed for T2_pre_restore.nii.gz with k=2, model=t2, centers=[380.3140869140625, 186.7770538330078] at iteration 0\nSegmentation completed for FLAIR_pre_restore.nii.gz with k=2, model=flair, centers=[146.9330291748047, 77.52667999267578] at iteration 0\nSegmentation completed for T1_pre_restore.nii.gz with k=2, model=t1, centers=[752.844482421875, 437.12176513671875] at iteration 0\nSegmentation completed for T2_pre_restore.nii.gz with k=2, model=t2, centers=[364.2904052734375, 183.45407104492188] at iteration 0\nSegmentation completed for FLAIR_pre_restore.nii.gz with k=2, model=flair, centers=[140.65870666503906, 80.22351837158203] at iteration 0\nSegmentation completed for T1_pre_restore.nii.gz with k=2, model=t1, centers=[750.6942138671875, 416.5703125] at iteration 0\nSegmentation completed for T2_pre_restore.nii.gz with k=2, model=t2, centers=[364.8518981933594, 164.68641662597656] at iteration 0\nSegmentation completed for FLAIR_pre_restore.nii.gz with k=2, model=flair, centers=[131.33299255371094, 83.87147521972656] at iteration 0\nFinal centres for k=2: [[803.5606079101562, 434.605712890625], [376.474609375, 179.7407684326172], [140.5082550048828, 78.18310546875], [809.3873901367188, 456.08306884765625], [355.15936279296875, 205.2095947265625], [149.3914031982422, 81.41079711914062], [780.0728149414062, 467.32574462890625], [356.2275085449219, 182.78707885742188], [144.55335998535156, 84.76068115234375], [748.9459838867188, 451.24346923828125], [349.3432922363281, 162.4097900390625], [132.1254119873047, 84.1909408569336], [810.1292114257812, 442.078369140625], [361.5224609375, 171.5655975341797], [142.49134826660156, 80.5926513671875], [706.3496704101562, 467.9542541503906], [315.0726623535156, 223.66490173339844], [158.68881225585938, 84.46871185302734], [868.1522216796875, 406.8883361816406], [393.916748046875, 211.25035095214844], [158.8780059814453, 76.64300537109375], [828.0863647460938, 406.84796142578125], [387.3934326171875, 186.64981079101562], [153.9626922607422, 74.77738952636719], [822.6608276367188, 445.40545654296875], [362.8252868652344, 224.84222412109375], [167.5006103515625, 78.75775146484375], [789.8530883789062, 457.1077575683594], [362.8572998046875, 181.04989624023438], [140.08917236328125, 82.92791748046875], [802.56787109375, 463.9983825683594], [351.175537109375, 180.97479248046875], [145.53915405273438, 82.63314056396484], [810.060546875, 432.4873962402344], [367.1212463378906, 177.24899291992188], [140.8203125, 79.1207275390625], [803.2587280273438, 455.9923095703125], [355.1509704589844, 174.3509063720703], [133.54147338867188, 89.41574096679688], [730.5810546875, 444.9366455078125], [341.9903869628906, 159.29135131835938], [130.43667602539062, 87.52439880371094], [781.97705078125, 466.9056091308594], [361.576171875, 177.8860321044922], [139.4635467529297, 81.20500183105469], [834.477294921875, 429.10400390625], [376.0542297363281, 194.74620056152344], [153.3982696533203, 77.34312438964844], [677.1889038085938, 443.1336364746094], [335.8149108886719, 138.0706787109375], [120.4063949584961, 95.13532257080078], [801.9495239257812, 440.836669921875], [380.3140869140625, 186.7770538330078], [146.9330291748047, 77.52667999267578], [752.844482421875, 437.12176513671875], [364.2904052734375, 183.45407104492188], [140.65870666503906, 80.22351837158203], [750.6942138671875, 416.5703125], [364.8518981933594, 164.68641662597656], [131.33299255371094, 83.87147521972656]]\n"
        },
        {
          "output_type": "display_data",
          "data": {
            "text/plain": "  0%|          | 0/60 [00:00<?, ?it/s]",
            "application/vnd.jupyter.widget-view+json": {
              "version_major": 2,
              "version_minor": 0,
              "model_id": "7664b4a1cf6047b49e58338abce88d1b"
            }
          },
          "metadata": {}
        },
        {
          "output_type": "stream",
          "name": "stdout",
          "text": "Segmentation completed for T1_pre_restore.nii.gz with k=3, model=t1, centers=[274.1185607910156, 843.3353271484375, 594.3216552734375] at iteration 0\nSegmentation completed for T2_pre_restore.nii.gz with k=3, model=t2, centers=[164.6622772216797, 420.1759338378906, 230.1355438232422] at iteration 0\nSegmentation completed for FLAIR_pre_restore.nii.gz with k=3, model=flair, centers=[67.38141632080078, 154.1797637939453, 126.47822570800781] at iteration 0\nSegmentation completed for T1_pre_restore.nii.gz with k=3, model=t1, centers=[287.0351257324219, 853.3856811523438, 592.9067993164062] at iteration 0\nSegmentation completed for T2_pre_restore.nii.gz with k=3, model=t2, centers=[175.7545166015625, 406.6795349121094, 232.14178466796875] at iteration 0\nSegmentation completed for FLAIR_pre_restore.nii.gz with k=3, model=flair, centers=[69.94258117675781, 158.64743041992188, 127.53414916992188] at iteration 0\nSegmentation completed for T1_pre_restore.nii.gz with k=3, model=t1, centers=[299.7257995605469, 824.259765625, 587.3014526367188] at iteration 0\nSegmentation completed for T2_pre_restore.nii.gz with k=3, model=t2, centers=[170.18540954589844, 405.5090026855469, 226.1858673095703] at iteration 0\nSegmentation completed for FLAIR_pre_restore.nii.gz with k=3, model=flair, centers=[73.29083251953125, 153.85345458984375, 129.5440673828125] at iteration 0\nSegmentation completed for T1_pre_restore.nii.gz with k=3, model=t1, centers=[290.04742431640625, 795.6560668945312, 588.046630859375] at iteration 0\nSegmentation completed for T2_pre_restore.nii.gz with k=3, model=t2, centers=[153.89163208007812, 389.3759460449219, 230.7278289794922] at iteration 0\nSegmentation completed for FLAIR_pre_restore.nii.gz with k=3, model=flair, centers=[69.37351989746094, 149.24163818359375, 124.29627227783203] at iteration 0\nSegmentation completed for T1_pre_restore.nii.gz with k=3, model=t1, centers=[279.2727966308594, 855.3079833984375, 589.5595092773438] at iteration 0\nSegmentation completed for T2_pre_restore.nii.gz with k=3, model=t2, centers=[155.4152069091797, 407.1042785644531, 232.5963134765625] at iteration 0\nSegmentation completed for FLAIR_pre_restore.nii.gz with k=3, model=flair, centers=[68.10713195800781, 156.1130828857422, 125.74067687988281] at iteration 0\nSegmentation completed for T1_pre_restore.nii.gz with k=3, model=t1, centers=[333.834228515625, 767.2713623046875, 580.8836059570312] at iteration 0\nSegmentation completed for T2_pre_restore.nii.gz with k=3, model=t2, centers=[153.48922729492188, 391.1588134765625, 250.91964721679688] at iteration 0\nSegmentation completed for FLAIR_pre_restore.nii.gz with k=3, model=flair, centers=[74.71533966064453, 164.10533142089844, 128.525146484375] at iteration 0\nSegmentation completed for T1_pre_restore.nii.gz with k=3, model=t1, centers=[263.95361328125, 908.6661987304688, 599.7654418945312] at iteration 0\nSegmentation completed for T2_pre_restore.nii.gz with k=3, model=t2, centers=[177.18812561035156, 440.5481262207031, 232.12290954589844] at iteration 0\nSegmentation completed for FLAIR_pre_restore.nii.gz with k=3, model=flair, centers=[68.05741882324219, 164.87890625, 126.00618743896484] at iteration 0\nSegmentation completed for T1_pre_restore.nii.gz with k=3, model=t1, centers=[257.0667724609375, 869.7885131835938, 593.56201171875] at iteration 0\nSegmentation completed for T2_pre_restore.nii.gz with k=3, model=t2, centers=[167.6214141845703, 429.218994140625, 233.716064453125] at iteration 0\nSegmentation completed for FLAIR_pre_restore.nii.gz with k=3, model=flair, centers=[66.08399200439453, 162.0587615966797, 126.49783325195312] at iteration 0\nSegmentation completed for T1_pre_restore.nii.gz with k=3, model=t1, centers=[278.77978515625, 865.4234008789062, 597.1161499023438] at iteration 0\nSegmentation completed for T2_pre_restore.nii.gz with k=3, model=t2, centers=[172.8844451904297, 431.09735107421875, 237.99623107910156] at iteration 0\nSegmentation completed for FLAIR_pre_restore.nii.gz with k=3, model=flair, centers=[69.19889068603516, 170.8567657470703, 124.3934555053711] at iteration 0\nSegmentation completed for T1_pre_restore.nii.gz with k=3, model=t1, centers=[291.0734558105469, 832.0701904296875, 590.4505004882812] at iteration 0\nSegmentation completed for T2_pre_restore.nii.gz with k=3, model=t2, centers=[168.41036987304688, 408.8013000488281, 227.12200927734375] at iteration 0\nSegmentation completed for FLAIR_pre_restore.nii.gz with k=3, model=flair, centers=[71.09911346435547, 152.0400848388672, 127.35018157958984] at iteration 0\nSegmentation completed for T1_pre_restore.nii.gz with k=3, model=t1, centers=[294.93853759765625, 845.5361938476562, 589.3240356445312] at iteration 0\nSegmentation completed for T2_pre_restore.nii.gz with k=3, model=t2, centers=[164.0465545654297, 400.1605529785156, 228.9470672607422] at iteration 0\nSegmentation completed for FLAIR_pre_restore.nii.gz with k=3, model=flair, centers=[70.85734558105469, 155.02005004882812, 127.5838623046875] at iteration 0\nSegmentation completed for T1_pre_restore.nii.gz with k=3, model=t1, centers=[264.0020446777344, 851.2008666992188, 593.1422729492188] at iteration 0\nSegmentation completed for T2_pre_restore.nii.gz with k=3, model=t2, centers=[165.55848693847656, 402.673095703125, 230.7571563720703] at iteration 0\nSegmentation completed for FLAIR_pre_restore.nii.gz with k=3, model=flair, centers=[68.17745971679688, 153.11936950683594, 126.66997528076172] at iteration 0\nSegmentation completed for T1_pre_restore.nii.gz with k=3, model=t1, centers=[291.4887390136719, 844.0469360351562, 592.4985961914062] at iteration 0\nSegmentation completed for T2_pre_restore.nii.gz with k=3, model=t2, centers=[160.8237762451172, 396.8052062988281, 232.069580078125] at iteration 0\nSegmentation completed for FLAIR_pre_restore.nii.gz with k=3, model=flair, centers=[72.96166229248047, 150.232421875, 123.93974304199219] at iteration 0\nSegmentation completed for T1_pre_restore.nii.gz with k=3, model=t1, centers=[296.5837707519531, 785.2689208984375, 581.9616088867188] at iteration 0\nSegmentation completed for T2_pre_restore.nii.gz with k=3, model=t2, centers=[149.34002685546875, 381.15838623046875, 233.07679748535156] at iteration 0\nSegmentation completed for FLAIR_pre_restore.nii.gz with k=3, model=flair, centers=[69.4330825805664, 150.06060791015625, 121.8966293334961] at iteration 0\nSegmentation completed for T1_pre_restore.nii.gz with k=3, model=t1, centers=[291.823974609375, 825.3530883789062, 591.3505249023438] at iteration 0\nSegmentation completed for T2_pre_restore.nii.gz with k=3, model=t2, centers=[165.38902282714844, 406.850830078125, 225.2167205810547] at iteration 0\nSegmentation completed for FLAIR_pre_restore.nii.gz with k=3, model=flair, centers=[68.783935546875, 151.20611572265625, 127.3158187866211] at iteration 0\nSegmentation completed for T1_pre_restore.nii.gz with k=3, model=t1, centers=[275.4144592285156, 875.0059814453125, 597.6536865234375] at iteration 0\nSegmentation completed for T2_pre_restore.nii.gz with k=3, model=t2, centers=[170.4569549560547, 418.8440856933594, 233.8438262939453] at iteration 0\nSegmentation completed for FLAIR_pre_restore.nii.gz with k=3, model=flair, centers=[68.2442398071289, 161.156494140625, 126.84779357910156] at iteration 0\nSegmentation completed for T1_pre_restore.nii.gz with k=3, model=t1, centers=[330.2738037109375, 745.7595825195312, 561.4932861328125] at iteration 0\nSegmentation completed for T2_pre_restore.nii.gz with k=3, model=t2, centers=[133.30929565429688, 374.640380859375, 237.87088012695312] at iteration 0\nSegmentation completed for FLAIR_pre_restore.nii.gz with k=3, model=flair, centers=[89.54732513427734, 155.5642852783203, 108.38262176513672] at iteration 0\nSegmentation completed for T1_pre_restore.nii.gz with k=3, model=t1, centers=[274.8660888671875, 843.20166015625, 589.958984375] at iteration 0\nSegmentation completed for T2_pre_restore.nii.gz with k=3, model=t2, centers=[173.0492401123047, 421.7758483886719, 229.47198486328125] at iteration 0\nSegmentation completed for FLAIR_pre_restore.nii.gz with k=3, model=flair, centers=[67.15911102294922, 156.2529754638672, 127.7695541381836] at iteration 0\nSegmentation completed for T1_pre_restore.nii.gz with k=3, model=t1, centers=[274.4925231933594, 802.7435302734375, 585.6654663085938] at iteration 0\nSegmentation completed for T2_pre_restore.nii.gz with k=3, model=t2, centers=[167.1641845703125, 405.1554260253906, 229.44851684570312] at iteration 0\nSegmentation completed for FLAIR_pre_restore.nii.gz with k=3, model=flair, centers=[68.33132934570312, 153.32485961914062, 126.36724090576172] at iteration 0\nSegmentation completed for T1_pre_restore.nii.gz with k=3, model=t1, centers=[266.6241760253906, 807.0513305664062, 581.8798217773438] at iteration 0\nSegmentation completed for T2_pre_restore.nii.gz with k=3, model=t2, centers=[152.9173583984375, 395.4329528808594, 239.0457763671875] at iteration 0\nSegmentation completed for FLAIR_pre_restore.nii.gz with k=3, model=flair, centers=[68.68257141113281, 155.74075317382812, 120.95864868164062] at iteration 0\nFinal centres for k=3: [[274.1185607910156, 843.3353271484375, 594.3216552734375], [164.6622772216797, 420.1759338378906, 230.1355438232422], [67.38141632080078, 154.1797637939453, 126.47822570800781], [287.0351257324219, 853.3856811523438, 592.9067993164062], [175.7545166015625, 406.6795349121094, 232.14178466796875], [69.94258117675781, 158.64743041992188, 127.53414916992188], [299.7257995605469, 824.259765625, 587.3014526367188], [170.18540954589844, 405.5090026855469, 226.1858673095703], [73.29083251953125, 153.85345458984375, 129.5440673828125], [290.04742431640625, 795.6560668945312, 588.046630859375], [153.89163208007812, 389.3759460449219, 230.7278289794922], [69.37351989746094, 149.24163818359375, 124.29627227783203], [279.2727966308594, 855.3079833984375, 589.5595092773438], [155.4152069091797, 407.1042785644531, 232.5963134765625], [68.10713195800781, 156.1130828857422, 125.74067687988281], [333.834228515625, 767.2713623046875, 580.8836059570312], [153.48922729492188, 391.1588134765625, 250.91964721679688], [74.71533966064453, 164.10533142089844, 128.525146484375], [263.95361328125, 908.6661987304688, 599.7654418945312], [177.18812561035156, 440.5481262207031, 232.12290954589844], [68.05741882324219, 164.87890625, 126.00618743896484], [257.0667724609375, 869.7885131835938, 593.56201171875], [167.6214141845703, 429.218994140625, 233.716064453125], [66.08399200439453, 162.0587615966797, 126.49783325195312], [278.77978515625, 865.4234008789062, 597.1161499023438], [172.8844451904297, 431.09735107421875, 237.99623107910156], [69.19889068603516, 170.8567657470703, 124.3934555053711], [291.0734558105469, 832.0701904296875, 590.4505004882812], [168.41036987304688, 408.8013000488281, 227.12200927734375], [71.09911346435547, 152.0400848388672, 127.35018157958984], [294.93853759765625, 845.5361938476562, 589.3240356445312], [164.0465545654297, 400.1605529785156, 228.9470672607422], [70.85734558105469, 155.02005004882812, 127.5838623046875], [264.0020446777344, 851.2008666992188, 593.1422729492188], [165.55848693847656, 402.673095703125, 230.7571563720703], [68.17745971679688, 153.11936950683594, 126.66997528076172], [291.4887390136719, 844.0469360351562, 592.4985961914062], [160.8237762451172, 396.8052062988281, 232.069580078125], [72.96166229248047, 150.232421875, 123.93974304199219], [296.5837707519531, 785.2689208984375, 581.9616088867188], [149.34002685546875, 381.15838623046875, 233.07679748535156], [69.4330825805664, 150.06060791015625, 121.8966293334961], [291.823974609375, 825.3530883789062, 591.3505249023438], [165.38902282714844, 406.850830078125, 225.2167205810547], [68.783935546875, 151.20611572265625, 127.3158187866211], [275.4144592285156, 875.0059814453125, 597.6536865234375], [170.4569549560547, 418.8440856933594, 233.8438262939453], [68.2442398071289, 161.156494140625, 126.84779357910156], [330.2738037109375, 745.7595825195312, 561.4932861328125], [133.30929565429688, 374.640380859375, 237.87088012695312], [89.54732513427734, 155.5642852783203, 108.38262176513672], [274.8660888671875, 843.20166015625, 589.958984375], [173.0492401123047, 421.7758483886719, 229.47198486328125], [67.15911102294922, 156.2529754638672, 127.7695541381836], [274.4925231933594, 802.7435302734375, 585.6654663085938], [167.1641845703125, 405.1554260253906, 229.44851684570312], [68.33132934570312, 153.32485961914062, 126.36724090576172], [266.6241760253906, 807.0513305664062, 581.8798217773438], [152.9173583984375, 395.4329528808594, 239.0457763671875], [68.68257141113281, 155.74075317382812, 120.95864868164062]]\n"
        }
      ],
      "execution_count": null,
      "metadata": {
        "id": "glM3Nqq4wAkW",
        "colab": {
          "base_uri": "https://localhost:8080/",
          "height": 1000,
          "referenced_widgets": [
            "a9ca032a0f8e4b648510e10aa04cfee0",
            "ea3e99ef112a43559b3971b21336cc69",
            "7a90131be0e84be1a10bc9dbc59c56b7",
            "6fda3cbac11a4b6bb534393265a5a041",
            "cf093cfd3765407b9a075dba341b4575",
            "abad86e05629418cbcff3cc1a721deab",
            "f53062b1b4104e748eda1fc2166f6761",
            "43f25dc3a0f749a385603859fd7e43cf",
            "f6b68889aac544b6a079308969e73c29",
            "cf29f2c570a846ee9725031afe6ac3d0",
            "a11375687aff470886adf079ba1c8e34",
            "7664b4a1cf6047b49e58338abce88d1b",
            "bd23b72a6f6f42b6b8534d06da8e1e09",
            "dd58105ff8c1403798bdbdaa78f556d1",
            "f78aba44f2034cbdb035c49d3ff312b8",
            "e3bea0d91aa84e7fbbaf2cc5a22819a1",
            "5afbd84110914c34aad5546075e62ee0",
            "82628fc20b8b45f8b4af32286467b5fd",
            "bbaed39130e64bd3a638aa47e852b477",
            "8eaaa336ae7f4852beeaa8ff45a63c30",
            "17e8fe3d4815482982d34a04b73a5cd5",
            "3d107fe4fbec4330adafc796eaa68fbb"
          ]
        },
        "outputId": "9314bc67-79b6-4d32-be1d-d53ea84719f7"
      }
    },
    {
      "cell_type": "code",
      "source": [
        "device = torch.device('cuda' if torch.cuda.is_available() else 'cpu')\n",
        "\n",
        "def tpr(gt_class, seg_class, data, ground_truth):\n",
        "    gt_array = torch.tensor(ground_truth, device=device)\n",
        "    seg_array = torch.tensor(data, device=device)\n",
        "\n",
        "    gt_mask = (gt_array == gt_class)\n",
        "    tp = torch.sum((seg_array == seg_class) & gt_mask).item()\n",
        "    fn = torch.sum((seg_array != seg_class) & gt_mask).item()\n",
        "\n",
        "    if tp + fn == 0:\n",
        "        tpr = 0.0\n",
        "    else:\n",
        "        tpr = tp / (tp + fn)\n",
        "\n",
        "    return {\n",
        "        \"TP_tpr\": tp,\n",
        "        \"FN_tpr\": fn,\n",
        "        \"TPR\": tpr,\n",
        "    }\n",
        "\n",
        "def dice_score(gt_class, seg_class, data, ground_truth):\n",
        "    gt_array = torch.tensor(ground_truth, device=device)\n",
        "    seg_array = torch.tensor(data, device=device)\n",
        "\n",
        "    gt_mask = (gt_array == gt_class)\n",
        "    seg_mask = (seg_array == seg_class)\n",
        "\n",
        "    tp = torch.sum(gt_mask & seg_mask).item()\n",
        "    fp = torch.sum((~gt_mask) & seg_mask).item()\n",
        "    fn = torch.sum(gt_mask & (~seg_mask)).item()\n",
        "\n",
        "    denominator = tp + fp + fn\n",
        "    if denominator == 0:\n",
        "        dice = 0.0\n",
        "    else:\n",
        "        dice = 2 * tp / denominator\n",
        "\n",
        "    return {\n",
        "        \"TP_dice\": tp,\n",
        "        \"FN_dice\": fn,\n",
        "        \"FP_dice\": fp,\n",
        "        \"Dice\": dice,\n",
        "    }\n",
        "\n",
        "def process_subject(subject_folder, gt_parent_folder, seg_parent_folder, k):\n",
        "    results = []\n",
        "\n",
        "    gt_path = os.path.join(gt_parent_folder, subject_folder, 'Gt.nii.gz')\n",
        "    seg_subject_folder = f\"Sub{subject_folder[3:]}\"\n",
        "    seg_folder = os.path.join(seg_parent_folder, seg_subject_folder, 'segmented')\n",
        "\n",
        "    gt_img = nib.load(gt_path)\n",
        "    gt_data = gt_img.get_fdata()\n",
        "    try:\n",
        "        for modality in ['T1', 'T2', 'FLAIR']:\n",
        "            seg_files = [f for f in os.listdir(seg_folder) if f.startswith(f'segmented_{k}_{modality}')]\n",
        "\n",
        "            if not seg_files:\n",
        "                continue\n",
        "\n",
        "            seg_path = os.path.join(seg_folder, seg_files[0])\n",
        "            seg_img = nib.load(seg_path)\n",
        "            seg_data = seg_img.get_fdata()\n",
        "\n",
        "            for gt_class in range(1, 4):\n",
        "                for seg_class in range(1, k+1):\n",
        "                    tpr_value = tpr(gt_class, seg_class, seg_data, gt_data)\n",
        "                    dice_value = dice_score(gt_class, seg_class, seg_data, gt_data)\n",
        "\n",
        "                    data = {\n",
        "                        'Subject': subject_folder,\n",
        "                        'sequences': modality,\n",
        "                        'k': k,\n",
        "                        'GT_Class': gt_class,\n",
        "                        'Seg_Class': seg_class,\n",
        "                    }\n",
        "\n",
        "                    data.update(tpr_value)\n",
        "                    data.update(dice_value)\n",
        "\n",
        "                    results.append(data)\n",
        "\n",
        "        return results\n",
        "    except:\n",
        "      return [{'Subject': subject_folder,}]\n",
        "\n",
        "def process_segmentation_results(gt_parent_folder, seg_parent_folder, k):\n",
        "    subject_folders = [f for f in os.listdir(gt_parent_folder) if f.startswith('Sub')]\n",
        "\n",
        "    all_results = []\n",
        "    for subject in tqdm(subject_folders, desc=\"Processing Subjects\"):\n",
        "        all_results.extend(process_subject(subject, gt_parent_folder, seg_parent_folder, k))\n",
        "\n",
        "    df = pd.DataFrame(all_results)\n",
        "    return df"
      ],
      "outputs": [],
      "execution_count": null,
      "metadata": {
        "id": "_Fn-ehXGXveL"
      }
    },
    {
      "cell_type": "code",
      "source": [
        "if __name__ == '__main__':\n",
        "    gt_parent_folder = \"/content/drive/MyDrive/datasets/GroundTruth/\"\n",
        "    seg_parent_folder = \"/content/drive/MyDrive/model prediction AIMI/final_run/k=2\"\n",
        "    k = 2\n",
        "\n",
        "    results_df_k2 = process_segmentation_results(gt_parent_folder, seg_parent_folder, k)\n",
        "\n",
        "    #print(\"Detailed Results:\")\n",
        "    #print(results_df_k2)\n",
        "    seg_parent_folder = \"/content/drive/MyDrive/model prediction AIMI/final_run/k=3\"\n",
        "    k = 3\n",
        "\n",
        "    results_df_k3 = process_segmentation_results(gt_parent_folder, seg_parent_folder, k)\n",
        "\n",
        "    #print(\"Detailed Results:\")\n",
        "    #print(results_df_k2)\n"
      ],
      "outputs": [
        {
          "output_type": "display_data",
          "data": {
            "text/plain": "Processing Subjects:   0%|          | 0/20 [00:00<?, ?it/s]",
            "application/vnd.jupyter.widget-view+json": {
              "version_major": 2,
              "version_minor": 0,
              "model_id": "4001dd06f82040a4af2fa29aa517e58f"
            }
          },
          "metadata": {}
        },
        {
          "output_type": "display_data",
          "data": {
            "text/plain": "Processing Subjects:   0%|          | 0/20 [00:00<?, ?it/s]",
            "application/vnd.jupyter.widget-view+json": {
              "version_major": 2,
              "version_minor": 0,
              "model_id": "ea99480a16374af196433c6146b45e99"
            }
          },
          "metadata": {}
        }
      ],
      "execution_count": null,
      "metadata": {
        "colab": {
          "base_uri": "https://localhost:8080/",
          "height": 81,
          "referenced_widgets": [
            "4001dd06f82040a4af2fa29aa517e58f",
            "1abd42e206ac4550a5ef1bdd5fca4ed7",
            "56343a49360a4e0eac938cef79b6d50f",
            "2018aa76ae3843b39bd9fa9a9de1cf2d",
            "cfe338266984452fbf3a12fde8381080",
            "3c336e06a6904a55bd946c6772997925",
            "a79cbc830b884cf6bc9b8e231066c833",
            "11344693703242fa82b728b721a4795c",
            "1d2e1046ef8740c09c98c1ae52c5f718",
            "66d7e33c84d04c72ac25c2fe779bf860",
            "de532c25555a4116b16827002e604fc8",
            "ea99480a16374af196433c6146b45e99",
            "c0d4216ddd89425cb7778b70b3089dbd",
            "27cfb1baa2e64369b0e04e9cdec0d411",
            "96e337bae58440ea9d38c0783599a016",
            "5d9cf665c8cf4a62912eef0464fa0a1f",
            "757b056e27754b539d923ac25252e024",
            "bba23552943440ba96127ceae9758741",
            "7d6a522c3f574afebf549e3c198970c3",
            "3c5c422be5154bf891dc672fb814663b",
            "b9034c1819ee432d88a8d1308aada2a0",
            "38ef87c9110649bfb0c62eeb2320420d"
          ]
        },
        "id": "geUISCQQXvY3",
        "outputId": "f238cb18-33fb-4f9a-a8f0-232cb51f17a2"
      }
    },
    {
      "cell_type": "code",
      "source": [
        "results_df = pd.concat([results_df_k3, results_df_k2], axis=0)\n",
        "\n",
        "print(results_df)"
      ],
      "outputs": [
        {
          "output_type": "stream",
          "name": "stdout",
          "text": "    Subject sequences  k  GT_Class  Seg_Class  TP_tpr  FN_tpr       TPR  \\\n0      Sub8        T1  3         1          1  182261   16761  0.915783   \n1      Sub8        T1  3         1          2     667  198355  0.003351   \n2      Sub8        T1  3         1          3   16094  182928  0.080865   \n3      Sub8        T1  3         2          1    3153  556320  0.005636   \n4      Sub8        T1  3         2          2   28445  531028  0.050842   \n..      ...       ... ..       ...        ...     ...     ...       ...   \n355   Sub14     FLAIR  2         1          2  126186  129273  0.493958   \n356   Sub14     FLAIR  2         2          1  554283   43340  0.927479   \n357   Sub14     FLAIR  2         2          2   43340  554283  0.072521   \n358   Sub14     FLAIR  2         3          1  663998   19436  0.971561   \n359   Sub14     FLAIR  2         3          2   19436  663998  0.028439   \n\n     TP_dice  FN_dice  FP_dice      Dice  \n0     182261    16761     3153  1.803002  \n1        667   198355   615716  0.001637  \n2      16094   182928   550045  0.042971  \n3       3153   556320   182261  0.008502  \n4      28445   531028   587938  0.049581  \n..       ...      ...      ...       ...  \n355   126186   129273    62810  0.792952  \n356   554283    43340   793271  0.797017  \n357    43340   554283   145656  0.116618  \n358   663998    19436   683556  0.971475  \n359    19436   663998   169560  0.045571  \n\n[900 rows x 12 columns]\n"
        }
      ],
      "execution_count": null,
      "metadata": {
        "id": "0c6X4NftXvVr",
        "colab": {
          "base_uri": "https://localhost:8080/"
        },
        "outputId": "3898ad84-211a-4201-f79d-a34c52ffb43c"
      }
    },
    {
      "cell_type": "code",
      "source": [
        "results_df.to_csv(\"/content/drive/MyDrive/model prediction AIMI/final_run/results_df.csv\")"
      ],
      "outputs": [],
      "execution_count": null,
      "metadata": {
        "id": "pLDqsl7DXvS0"
      }
    },
    {
      "cell_type": "code",
      "source": [
        "df_sorted = results_df.sort_values([\"k\", 'Subject', 'sequences', 'Seg_Class', 'GT_Class'])"
      ],
      "outputs": [],
      "execution_count": 8,
      "metadata": {
        "id": "-fOMqpCSXvQP"
      }
    },
    {
      "cell_type": "code",
      "source": [
        "df1 = df_sorted.copy()\n",
        "df2 = df_sorted.copy()\n",
        "\n",
        "\n",
        "# For TPR maximum\n",
        "df_tpr_max = df1.loc[df1.groupby(['Subject', 'sequences', 'k', 'Seg_Class'])['TPR'].idxmax()]\n",
        "\n",
        "# For Dice maximum\n",
        "df_dice_max = df2.loc[df2.groupby(['Subject', 'sequences', 'k', 'Seg_Class'])['Dice'].idxmax()]"
      ],
      "outputs": [],
      "execution_count": 9,
      "metadata": {
        "id": "iw4B10btXvM_"
      }
    },
    {
      "cell_type": "code",
      "source": [
        "df_dice_max"
      ],
      "outputs": [
        {
          "output_type": "execute_result",
          "execution_count": 10,
          "data": {
            "text/plain": "     Unnamed: 0 Subject sequences  k  GT_Class  Seg_Class  TP_tpr  FN_tpr  \\\n770         230    Sub1     FLAIR  2         2          1  483518   37649   \n769         229    Sub1     FLAIR  2         1          2  114286   99155   \n342         342    Sub1     FLAIR  3         1          1   92955  120486   \n346         346    Sub1     FLAIR  3         2          2  289171  231996   \n350         350    Sub1     FLAIR  3         3          3  294974  188149   \n..          ...     ...       ... ..       ...        ...     ...     ...   \n674         134    Sub9        T2  2         2          1  221221  227418   \n677         137    Sub9        T2  2         3          2  415961   42284   \n198         198    Sub9        T2  3         1          1   30515   80816   \n199         199    Sub9        T2  3         1          2   36845   74486   \n203         203    Sub9        T2  3         2          3  399710   48929   \n\n          TPR  TP_dice  FN_dice  FP_dice      Dice  \n770  0.927760   483518    37649   554302  0.899176  \n769  0.535445   114286    99155    65643  0.819008  \n342  0.435507    92955   120486    30316  0.762686  \n346  0.554853   289171   231996   218423  0.781977  \n350  0.610557   294974   188149   291910  0.761191  \n..        ...      ...      ...      ...       ...  \n674  0.493094   221221   227418   102660  0.802545  \n677  0.907726   415961    42284   279150  1.128190  \n198  0.274093    30515    80816    66822  0.342571  \n199  0.330950    36845    74486    43849  0.474868  \n203  0.890939   399710    48929   441251  0.898336  \n\n[300 rows x 13 columns]",
            "text/html": "\n  <div id=\"df-a6311161-5f03-400e-b2fb-74837c6b338f\" class=\"colab-df-container\">\n    <div>\n<style scoped>\n    .dataframe tbody tr th:only-of-type {\n        vertical-align: middle;\n    }\n\n    .dataframe tbody tr th {\n        vertical-align: top;\n    }\n\n    .dataframe thead th {\n        text-align: right;\n    }\n</style>\n<table border=\"1\" class=\"dataframe\">\n  <thead>\n    <tr style=\"text-align: right;\">\n      <th></th>\n      <th>Unnamed: 0</th>\n      <th>Subject</th>\n      <th>sequences</th>\n      <th>k</th>\n      <th>GT_Class</th>\n      <th>Seg_Class</th>\n      <th>TP_tpr</th>\n      <th>FN_tpr</th>\n      <th>TPR</th>\n      <th>TP_dice</th>\n      <th>FN_dice</th>\n      <th>FP_dice</th>\n      <th>Dice</th>\n    </tr>\n  </thead>\n  <tbody>\n    <tr>\n      <th>770</th>\n      <td>230</td>\n      <td>Sub1</td>\n      <td>FLAIR</td>\n      <td>2</td>\n      <td>2</td>\n      <td>1</td>\n      <td>483518</td>\n      <td>37649</td>\n      <td>0.927760</td>\n      <td>483518</td>\n      <td>37649</td>\n      <td>554302</td>\n      <td>0.899176</td>\n    </tr>\n    <tr>\n      <th>769</th>\n      <td>229</td>\n      <td>Sub1</td>\n      <td>FLAIR</td>\n      <td>2</td>\n      <td>1</td>\n      <td>2</td>\n      <td>114286</td>\n      <td>99155</td>\n      <td>0.535445</td>\n      <td>114286</td>\n      <td>99155</td>\n      <td>65643</td>\n      <td>0.819008</td>\n    </tr>\n    <tr>\n      <th>342</th>\n      <td>342</td>\n      <td>Sub1</td>\n      <td>FLAIR</td>\n      <td>3</td>\n      <td>1</td>\n      <td>1</td>\n      <td>92955</td>\n      <td>120486</td>\n      <td>0.435507</td>\n      <td>92955</td>\n      <td>120486</td>\n      <td>30316</td>\n      <td>0.762686</td>\n    </tr>\n    <tr>\n      <th>346</th>\n      <td>346</td>\n      <td>Sub1</td>\n      <td>FLAIR</td>\n      <td>3</td>\n      <td>2</td>\n      <td>2</td>\n      <td>289171</td>\n      <td>231996</td>\n      <td>0.554853</td>\n      <td>289171</td>\n      <td>231996</td>\n      <td>218423</td>\n      <td>0.781977</td>\n    </tr>\n    <tr>\n      <th>350</th>\n      <td>350</td>\n      <td>Sub1</td>\n      <td>FLAIR</td>\n      <td>3</td>\n      <td>3</td>\n      <td>3</td>\n      <td>294974</td>\n      <td>188149</td>\n      <td>0.610557</td>\n      <td>294974</td>\n      <td>188149</td>\n      <td>291910</td>\n      <td>0.761191</td>\n    </tr>\n    <tr>\n      <th>...</th>\n      <td>...</td>\n      <td>...</td>\n      <td>...</td>\n      <td>...</td>\n      <td>...</td>\n      <td>...</td>\n      <td>...</td>\n      <td>...</td>\n      <td>...</td>\n      <td>...</td>\n      <td>...</td>\n      <td>...</td>\n      <td>...</td>\n    </tr>\n    <tr>\n      <th>674</th>\n      <td>134</td>\n      <td>Sub9</td>\n      <td>T2</td>\n      <td>2</td>\n      <td>2</td>\n      <td>1</td>\n      <td>221221</td>\n      <td>227418</td>\n      <td>0.493094</td>\n      <td>221221</td>\n      <td>227418</td>\n      <td>102660</td>\n      <td>0.802545</td>\n    </tr>\n    <tr>\n      <th>677</th>\n      <td>137</td>\n      <td>Sub9</td>\n      <td>T2</td>\n      <td>2</td>\n      <td>3</td>\n      <td>2</td>\n      <td>415961</td>\n      <td>42284</td>\n      <td>0.907726</td>\n      <td>415961</td>\n      <td>42284</td>\n      <td>279150</td>\n      <td>1.128190</td>\n    </tr>\n    <tr>\n      <th>198</th>\n      <td>198</td>\n      <td>Sub9</td>\n      <td>T2</td>\n      <td>3</td>\n      <td>1</td>\n      <td>1</td>\n      <td>30515</td>\n      <td>80816</td>\n      <td>0.274093</td>\n      <td>30515</td>\n      <td>80816</td>\n      <td>66822</td>\n      <td>0.342571</td>\n    </tr>\n    <tr>\n      <th>199</th>\n      <td>199</td>\n      <td>Sub9</td>\n      <td>T2</td>\n      <td>3</td>\n      <td>1</td>\n      <td>2</td>\n      <td>36845</td>\n      <td>74486</td>\n      <td>0.330950</td>\n      <td>36845</td>\n      <td>74486</td>\n      <td>43849</td>\n      <td>0.474868</td>\n    </tr>\n    <tr>\n      <th>203</th>\n      <td>203</td>\n      <td>Sub9</td>\n      <td>T2</td>\n      <td>3</td>\n      <td>2</td>\n      <td>3</td>\n      <td>399710</td>\n      <td>48929</td>\n      <td>0.890939</td>\n      <td>399710</td>\n      <td>48929</td>\n      <td>441251</td>\n      <td>0.898336</td>\n    </tr>\n  </tbody>\n</table>\n<p>300 rows × 13 columns</p>\n</div>\n    <div class=\"colab-df-buttons\">\n\n  <div class=\"colab-df-container\">\n    <button class=\"colab-df-convert\" onclick=\"convertToInteractive('df-a6311161-5f03-400e-b2fb-74837c6b338f')\"\n            title=\"Convert this dataframe to an interactive table.\"\n            style=\"display:none;\">\n\n  <svg xmlns=\"http://www.w3.org/2000/svg\" height=\"24px\" viewBox=\"0 -960 960 960\">\n    <path d=\"M120-120v-720h720v720H120Zm60-500h600v-160H180v160Zm220 220h160v-160H400v160Zm0 220h160v-160H400v160ZM180-400h160v-160H180v160Zm440 0h160v-160H620v160ZM180-180h160v-160H180v160Zm440 0h160v-160H620v160Z\"/>\n  </svg>\n    </button>\n\n  <style>\n    .colab-df-container {\n      display:flex;\n      gap: 12px;\n    }\n\n    .colab-df-convert {\n      background-color: #E8F0FE;\n      border: none;\n      border-radius: 50%;\n      cursor: pointer;\n      display: none;\n      fill: #1967D2;\n      height: 32px;\n      padding: 0 0 0 0;\n      width: 32px;\n    }\n\n    .colab-df-convert:hover {\n      background-color: #E2EBFA;\n      box-shadow: 0px 1px 2px rgba(60, 64, 67, 0.3), 0px 1px 3px 1px rgba(60, 64, 67, 0.15);\n      fill: #174EA6;\n    }\n\n    .colab-df-buttons div {\n      margin-bottom: 4px;\n    }\n\n    [theme=dark] .colab-df-convert {\n      background-color: #3B4455;\n      fill: #D2E3FC;\n    }\n\n    [theme=dark] .colab-df-convert:hover {\n      background-color: #434B5C;\n      box-shadow: 0px 1px 3px 1px rgba(0, 0, 0, 0.15);\n      filter: drop-shadow(0px 1px 2px rgba(0, 0, 0, 0.3));\n      fill: #FFFFFF;\n    }\n  </style>\n\n    <script>\n      const buttonEl =\n        document.querySelector('#df-a6311161-5f03-400e-b2fb-74837c6b338f button.colab-df-convert');\n      buttonEl.style.display =\n        google.colab.kernel.accessAllowed ? 'block' : 'none';\n\n      async function convertToInteractive(key) {\n        const element = document.querySelector('#df-a6311161-5f03-400e-b2fb-74837c6b338f');\n        const dataTable =\n          await google.colab.kernel.invokeFunction('convertToInteractive',\n                                                    [key], {});\n        if (!dataTable) return;\n\n        const docLinkHtml = 'Like what you see? Visit the ' +\n          '<a target=\"_blank\" href=https://colab.research.google.com/notebooks/data_table.ipynb>data table notebook</a>'\n          + ' to learn more about interactive tables.';\n        element.innerHTML = '';\n        dataTable['output_type'] = 'display_data';\n        await google.colab.output.renderOutput(dataTable, element);\n        const docLink = document.createElement('div');\n        docLink.innerHTML = docLinkHtml;\n        element.appendChild(docLink);\n      }\n    </script>\n  </div>\n\n\n<div id=\"df-ca3a4159-b7e3-4d1b-9d61-72eb3dab47d6\">\n  <button class=\"colab-df-quickchart\" onclick=\"quickchart('df-ca3a4159-b7e3-4d1b-9d61-72eb3dab47d6')\"\n            title=\"Suggest charts\"\n            style=\"display:none;\">\n\n<svg xmlns=\"http://www.w3.org/2000/svg\" height=\"24px\"viewBox=\"0 0 24 24\"\n     width=\"24px\">\n    <g>\n        <path d=\"M19 3H5c-1.1 0-2 .9-2 2v14c0 1.1.9 2 2 2h14c1.1 0 2-.9 2-2V5c0-1.1-.9-2-2-2zM9 17H7v-7h2v7zm4 0h-2V7h2v10zm4 0h-2v-4h2v4z\"/>\n    </g>\n</svg>\n  </button>\n\n<style>\n  .colab-df-quickchart {\n      --bg-color: #E8F0FE;\n      --fill-color: #1967D2;\n      --hover-bg-color: #E2EBFA;\n      --hover-fill-color: #174EA6;\n      --disabled-fill-color: #AAA;\n      --disabled-bg-color: #DDD;\n  }\n\n  [theme=dark] .colab-df-quickchart {\n      --bg-color: #3B4455;\n      --fill-color: #D2E3FC;\n      --hover-bg-color: #434B5C;\n      --hover-fill-color: #FFFFFF;\n      --disabled-bg-color: #3B4455;\n      --disabled-fill-color: #666;\n  }\n\n  .colab-df-quickchart {\n    background-color: var(--bg-color);\n    border: none;\n    border-radius: 50%;\n    cursor: pointer;\n    display: none;\n    fill: var(--fill-color);\n    height: 32px;\n    padding: 0;\n    width: 32px;\n  }\n\n  .colab-df-quickchart:hover {\n    background-color: var(--hover-bg-color);\n    box-shadow: 0 1px 2px rgba(60, 64, 67, 0.3), 0 1px 3px 1px rgba(60, 64, 67, 0.15);\n    fill: var(--button-hover-fill-color);\n  }\n\n  .colab-df-quickchart-complete:disabled,\n  .colab-df-quickchart-complete:disabled:hover {\n    background-color: var(--disabled-bg-color);\n    fill: var(--disabled-fill-color);\n    box-shadow: none;\n  }\n\n  .colab-df-spinner {\n    border: 2px solid var(--fill-color);\n    border-color: transparent;\n    border-bottom-color: var(--fill-color);\n    animation:\n      spin 1s steps(1) infinite;\n  }\n\n  @keyframes spin {\n    0% {\n      border-color: transparent;\n      border-bottom-color: var(--fill-color);\n      border-left-color: var(--fill-color);\n    }\n    20% {\n      border-color: transparent;\n      border-left-color: var(--fill-color);\n      border-top-color: var(--fill-color);\n    }\n    30% {\n      border-color: transparent;\n      border-left-color: var(--fill-color);\n      border-top-color: var(--fill-color);\n      border-right-color: var(--fill-color);\n    }\n    40% {\n      border-color: transparent;\n      border-right-color: var(--fill-color);\n      border-top-color: var(--fill-color);\n    }\n    60% {\n      border-color: transparent;\n      border-right-color: var(--fill-color);\n    }\n    80% {\n      border-color: transparent;\n      border-right-color: var(--fill-color);\n      border-bottom-color: var(--fill-color);\n    }\n    90% {\n      border-color: transparent;\n      border-bottom-color: var(--fill-color);\n    }\n  }\n</style>\n\n  <script>\n    async function quickchart(key) {\n      const quickchartButtonEl =\n        document.querySelector('#' + key + ' button');\n      quickchartButtonEl.disabled = true;  // To prevent multiple clicks.\n      quickchartButtonEl.classList.add('colab-df-spinner');\n      try {\n        const charts = await google.colab.kernel.invokeFunction(\n            'suggestCharts', [key], {});\n      } catch (error) {\n        console.error('Error during call to suggestCharts:', error);\n      }\n      quickchartButtonEl.classList.remove('colab-df-spinner');\n      quickchartButtonEl.classList.add('colab-df-quickchart-complete');\n    }\n    (() => {\n      let quickchartButtonEl =\n        document.querySelector('#df-ca3a4159-b7e3-4d1b-9d61-72eb3dab47d6 button');\n      quickchartButtonEl.style.display =\n        google.colab.kernel.accessAllowed ? 'block' : 'none';\n    })();\n  </script>\n</div>\n\n  <div id=\"id_efe035db-7ad9-4e0c-913a-63a607d11c9f\">\n    <style>\n      .colab-df-generate {\n        background-color: #E8F0FE;\n        border: none;\n        border-radius: 50%;\n        cursor: pointer;\n        display: none;\n        fill: #1967D2;\n        height: 32px;\n        padding: 0 0 0 0;\n        width: 32px;\n      }\n\n      .colab-df-generate:hover {\n        background-color: #E2EBFA;\n        box-shadow: 0px 1px 2px rgba(60, 64, 67, 0.3), 0px 1px 3px 1px rgba(60, 64, 67, 0.15);\n        fill: #174EA6;\n      }\n\n      [theme=dark] .colab-df-generate {\n        background-color: #3B4455;\n        fill: #D2E3FC;\n      }\n\n      [theme=dark] .colab-df-generate:hover {\n        background-color: #434B5C;\n        box-shadow: 0px 1px 3px 1px rgba(0, 0, 0, 0.15);\n        filter: drop-shadow(0px 1px 2px rgba(0, 0, 0, 0.3));\n        fill: #FFFFFF;\n      }\n    </style>\n    <button class=\"colab-df-generate\" onclick=\"generateWithVariable('df_dice_max')\"\n            title=\"Generate code using this dataframe.\"\n            style=\"display:none;\">\n\n  <svg xmlns=\"http://www.w3.org/2000/svg\" height=\"24px\"viewBox=\"0 0 24 24\"\n       width=\"24px\">\n    <path d=\"M7,19H8.4L18.45,9,17,7.55,7,17.6ZM5,21V16.75L18.45,3.32a2,2,0,0,1,2.83,0l1.4,1.43a1.91,1.91,0,0,1,.58,1.4,1.91,1.91,0,0,1-.58,1.4L9.25,21ZM18.45,9,17,7.55Zm-12,3A5.31,5.31,0,0,0,4.9,8.1,5.31,5.31,0,0,0,1,6.5,5.31,5.31,0,0,0,4.9,4.9,5.31,5.31,0,0,0,6.5,1,5.31,5.31,0,0,0,8.1,4.9,5.31,5.31,0,0,0,12,6.5,5.46,5.46,0,0,0,6.5,12Z\"/>\n  </svg>\n    </button>\n    <script>\n      (() => {\n      const buttonEl =\n        document.querySelector('#id_efe035db-7ad9-4e0c-913a-63a607d11c9f button.colab-df-generate');\n      buttonEl.style.display =\n        google.colab.kernel.accessAllowed ? 'block' : 'none';\n\n      buttonEl.onclick = () => {\n        google.colab.notebook.generateWithVariable('df_dice_max');\n      }\n      })();\n    </script>\n  </div>\n\n    </div>\n  </div>\n",
            "application/vnd.google.colaboratory.intrinsic+json": {
              "type": "dataframe",
              "variable_name": "df_dice_max",
              "summary": "{\n  \"name\": \"df_dice_max\",\n  \"rows\": 300,\n  \"fields\": [\n    {\n      \"column\": \"Unnamed: 0\",\n      \"properties\": {\n        \"dtype\": \"number\",\n        \"std\": 144,\n        \"min\": 0,\n        \"max\": 539,\n        \"num_unique_values\": 271,\n        \"samples\": [\n          340,\n          296,\n          343\n        ],\n        \"semantic_type\": \"\",\n        \"description\": \"\"\n      }\n    },\n    {\n      \"column\": \"Subject\",\n      \"properties\": {\n        \"dtype\": \"category\",\n        \"num_unique_values\": 20,\n        \"samples\": [\n          \"Sub1\",\n          \"Sub7\",\n          \"Sub5\"\n        ],\n        \"semantic_type\": \"\",\n        \"description\": \"\"\n      }\n    },\n    {\n      \"column\": \"sequences\",\n      \"properties\": {\n        \"dtype\": \"category\",\n        \"num_unique_values\": 3,\n        \"samples\": [\n          \"FLAIR\",\n          \"T1\",\n          \"T2\"\n        ],\n        \"semantic_type\": \"\",\n        \"description\": \"\"\n      }\n    },\n    {\n      \"column\": \"k\",\n      \"properties\": {\n        \"dtype\": \"number\",\n        \"std\": 0,\n        \"min\": 2,\n        \"max\": 3,\n        \"num_unique_values\": 2,\n        \"samples\": [\n          3,\n          2\n        ],\n        \"semantic_type\": \"\",\n        \"description\": \"\"\n      }\n    },\n    {\n      \"column\": \"GT_Class\",\n      \"properties\": {\n        \"dtype\": \"number\",\n        \"std\": 0,\n        \"min\": 1,\n        \"max\": 3,\n        \"num_unique_values\": 3,\n        \"samples\": [\n          2,\n          1\n        ],\n        \"semantic_type\": \"\",\n        \"description\": \"\"\n      }\n    },\n    {\n      \"column\": \"Seg_Class\",\n      \"properties\": {\n        \"dtype\": \"number\",\n        \"std\": 0,\n        \"min\": 1,\n        \"max\": 3,\n        \"num_unique_values\": 3,\n        \"samples\": [\n          1,\n          2\n        ],\n        \"semantic_type\": \"\",\n        \"description\": \"\"\n      }\n    },\n    {\n      \"column\": \"TP_tpr\",\n      \"properties\": {\n        \"dtype\": \"number\",\n        \"std\": 198752,\n        \"min\": 1633,\n        \"max\": 683250,\n        \"num_unique_values\": 300,\n        \"samples\": [\n          540761,\n          531918\n        ],\n        \"semantic_type\": \"\",\n        \"description\": \"\"\n      }\n    },\n    {\n      \"column\": \"FN_tpr\",\n      \"properties\": {\n        \"dtype\": \"number\",\n        \"std\": 118106,\n        \"min\": 1,\n        \"max\": 575399,\n        \"num_unique_values\": 299,\n        \"samples\": [\n          148666,\n          106227\n        ],\n        \"semantic_type\": \"\",\n        \"description\": \"\"\n      }\n    },\n    {\n      \"column\": \"TPR\",\n      \"properties\": {\n        \"dtype\": \"number\",\n        \"std\": 0.3078986300146099,\n        \"min\": 0.0091239754384592,\n        \"max\": 0.9999982114303908,\n        \"num_unique_values\": 300,\n        \"samples\": [\n          0.9749132827091852,\n          0.8335378323108384\n        ],\n        \"semantic_type\": \"\",\n        \"description\": \"\"\n      }\n    },\n    {\n      \"column\": \"TP_dice\",\n      \"properties\": {\n        \"dtype\": \"number\",\n        \"std\": 198752,\n        \"min\": 1633,\n        \"max\": 683250,\n        \"num_unique_values\": 300,\n        \"samples\": [\n          540761,\n          531918\n        ],\n        \"semantic_type\": \"\",\n        \"description\": \"\"\n      }\n    },\n    {\n      \"column\": \"FN_dice\",\n      \"properties\": {\n        \"dtype\": \"number\",\n        \"std\": 118106,\n        \"min\": 1,\n        \"max\": 575399,\n        \"num_unique_values\": 299,\n        \"samples\": [\n          148666,\n          106227\n        ],\n        \"semantic_type\": \"\",\n        \"description\": \"\"\n      }\n    },\n    {\n      \"column\": \"FP_dice\",\n      \"properties\": {\n        \"dtype\": \"number\",\n        \"std\": 206996,\n        \"min\": 110,\n        \"max\": 724419,\n        \"num_unique_values\": 299,\n        \"samples\": [\n          503863,\n          635224\n        ],\n        \"semantic_type\": \"\",\n        \"description\": \"\"\n      }\n    },\n    {\n      \"column\": \"Dice\",\n      \"properties\": {\n        \"dtype\": \"number\",\n        \"std\": 0.4779239284732898,\n        \"min\": 0.0175966035214758,\n        \"max\": 1.8559442773468415,\n        \"num_unique_values\": 300,\n        \"samples\": [\n          1.79671829392484,\n          0.8354498970840346\n        ],\n        \"semantic_type\": \"\",\n        \"description\": \"\"\n      }\n    }\n  ]\n}"
            }
          },
          "metadata": {}
        }
      ],
      "execution_count": 10,
      "metadata": {
        "colab": {
          "base_uri": "https://localhost:8080/",
          "height": 423
        },
        "id": "Bi0zQmQTvfVJ",
        "outputId": "69dce10d-1a85-4045-fa07-3d721ab3b36e"
      }
    },
    {
      "cell_type": "code",
      "source": [
        "df_grouped = df_dice_max.groupby(['sequences', \"k\"])[['TPR', 'Dice']].mean()\n",
        "df_grouped.plot(kind='bar', stacked=False, figsize=(10, 6))\n",
        "plt.title('Average TP, FN, and FP Dice Scores by Sequence')\n",
        "plt.xlabel('Sequence')\n",
        "plt.ylabel('Score')\n",
        "plt.legend(title='Metric')\n",
        "plt.show()"
      ],
      "outputs": [
        {
          "output_type": "display_data",
          "data": {
            "text/plain": "<Figure size 1000x600 with 1 Axes>",
            "image/png": "[encoded data removed]"
          },
          "metadata": {}
        }
      ],
      "execution_count": 11,
      "metadata": {
        "id": "bgU2T9WGigYH",
        "colab": {
          "base_uri": "https://localhost:8080/",
          "height": 618
        },
        "outputId": "69b41bba-335f-43f9-9e69-327cc97203fc"
      }
    },
    {
      "cell_type": "code",
      "source": [
        "df_grouped"
      ],
      "outputs": [
        {
          "output_type": "execute_result",
          "execution_count": 12,
          "data": {
            "text/plain": "                  TPR      Dice\nsequences k                    \nFLAIR     2  0.711833  0.817641\n          3  0.507581  0.703625\nT1        2  0.905735  1.232375\n          3  0.867386  1.560472\nT2        2  0.579114  0.619601\n          3  0.419748  0.530755",
            "text/html": "\n  <div id=\"df-15714a96-966c-4237-b504-213a573e81db\" class=\"colab-df-container\">\n    <div>\n<style scoped>\n    .dataframe tbody tr th:only-of-type {\n        vertical-align: middle;\n    }\n\n    .dataframe tbody tr th {\n        vertical-align: top;\n    }\n\n    .dataframe thead th {\n        text-align: right;\n    }\n</style>\n<table border=\"1\" class=\"dataframe\">\n  <thead>\n    <tr style=\"text-align: right;\">\n      <th></th>\n      <th></th>\n      <th>TPR</th>\n      <th>Dice</th>\n    </tr>\n    <tr>\n      <th>sequences</th>\n      <th>k</th>\n      <th></th>\n      <th></th>\n    </tr>\n  </thead>\n  <tbody>\n    <tr>\n      <th rowspan=\"2\" valign=\"top\">FLAIR</th>\n      <th>2</th>\n      <td>0.711833</td>\n      <td>0.817641</td>\n    </tr>\n    <tr>\n      <th>3</th>\n      <td>0.507581</td>\n      <td>0.703625</td>\n    </tr>\n    <tr>\n      <th rowspan=\"2\" valign=\"top\">T1</th>\n      <th>2</th>\n      <td>0.905735</td>\n      <td>1.232375</td>\n    </tr>\n    <tr>\n      <th>3</th>\n      <td>0.867386</td>\n      <td>1.560472</td>\n    </tr>\n    <tr>\n      <th rowspan=\"2\" valign=\"top\">T2</th>\n      <th>2</th>\n      <td>0.579114</td>\n      <td>0.619601</td>\n    </tr>\n    <tr>\n      <th>3</th>\n      <td>0.419748</td>\n      <td>0.530755</td>\n    </tr>\n  </tbody>\n</table>\n</div>\n    <div class=\"colab-df-buttons\">\n\n  <div class=\"colab-df-container\">\n    <button class=\"colab-df-convert\" onclick=\"convertToInteractive('df-15714a96-966c-4237-b504-213a573e81db')\"\n            title=\"Convert this dataframe to an interactive table.\"\n            style=\"display:none;\">\n\n  <svg xmlns=\"http://www.w3.org/2000/svg\" height=\"24px\" viewBox=\"0 -960 960 960\">\n    <path d=\"M120-120v-720h720v720H120Zm60-500h600v-160H180v160Zm220 220h160v-160H400v160Zm0 220h160v-160H400v160ZM180-400h160v-160H180v160Zm440 0h160v-160H620v160ZM180-180h160v-160H180v160Zm440 0h160v-160H620v160Z\"/>\n  </svg>\n    </button>\n\n  <style>\n    .colab-df-container {\n      display:flex;\n      gap: 12px;\n    }\n\n    .colab-df-convert {\n      background-color: #E8F0FE;\n      border: none;\n      border-radius: 50%;\n      cursor: pointer;\n      display: none;\n      fill: #1967D2;\n      height: 32px;\n      padding: 0 0 0 0;\n      width: 32px;\n    }\n\n    .colab-df-convert:hover {\n      background-color: #E2EBFA;\n      box-shadow: 0px 1px 2px rgba(60, 64, 67, 0.3), 0px 1px 3px 1px rgba(60, 64, 67, 0.15);\n      fill: #174EA6;\n    }\n\n    .colab-df-buttons div {\n      margin-bottom: 4px;\n    }\n\n    [theme=dark] .colab-df-convert {\n      background-color: #3B4455;\n      fill: #D2E3FC;\n    }\n\n    [theme=dark] .colab-df-convert:hover {\n      background-color: #434B5C;\n      box-shadow: 0px 1px 3px 1px rgba(0, 0, 0, 0.15);\n      filter: drop-shadow(0px 1px 2px rgba(0, 0, 0, 0.3));\n      fill: #FFFFFF;\n    }\n  </style>\n\n    <script>\n      const buttonEl =\n        document.querySelector('#df-15714a96-966c-4237-b504-213a573e81db button.colab-df-convert');\n      buttonEl.style.display =\n        google.colab.kernel.accessAllowed ? 'block' : 'none';\n\n      async function convertToInteractive(key) {\n        const element = document.querySelector('#df-15714a96-966c-4237-b504-213a573e81db');\n        const dataTable =\n          await google.colab.kernel.invokeFunction('convertToInteractive',\n                                                    [key], {});\n        if (!dataTable) return;\n\n        const docLinkHtml = 'Like what you see? Visit the ' +\n          '<a target=\"_blank\" href=https://colab.research.google.com/notebooks/data_table.ipynb>data table notebook</a>'\n          + ' to learn more about interactive tables.';\n        element.innerHTML = '';\n        dataTable['output_type'] = 'display_data';\n        await google.colab.output.renderOutput(dataTable, element);\n        const docLink = document.createElement('div');\n        docLink.innerHTML = docLinkHtml;\n        element.appendChild(docLink);\n      }\n    </script>\n  </div>\n\n\n<div id=\"df-05b378f5-749a-47d1-b7e7-f261258a5089\">\n  <button class=\"colab-df-quickchart\" onclick=\"quickchart('df-05b378f5-749a-47d1-b7e7-f261258a5089')\"\n            title=\"Suggest charts\"\n            style=\"display:none;\">\n\n<svg xmlns=\"http://www.w3.org/2000/svg\" height=\"24px\"viewBox=\"0 0 24 24\"\n     width=\"24px\">\n    <g>\n        <path d=\"M19 3H5c-1.1 0-2 .9-2 2v14c0 1.1.9 2 2 2h14c1.1 0 2-.9 2-2V5c0-1.1-.9-2-2-2zM9 17H7v-7h2v7zm4 0h-2V7h2v10zm4 0h-2v-4h2v4z\"/>\n    </g>\n</svg>\n  </button>\n\n<style>\n  .colab-df-quickchart {\n      --bg-color: #E8F0FE;\n      --fill-color: #1967D2;\n      --hover-bg-color: #E2EBFA;\n      --hover-fill-color: #174EA6;\n      --disabled-fill-color: #AAA;\n      --disabled-bg-color: #DDD;\n  }\n\n  [theme=dark] .colab-df-quickchart {\n      --bg-color: #3B4455;\n      --fill-color: #D2E3FC;\n      --hover-bg-color: #434B5C;\n      --hover-fill-color: #FFFFFF;\n      --disabled-bg-color: #3B4455;\n      --disabled-fill-color: #666;\n  }\n\n  .colab-df-quickchart {\n    background-color: var(--bg-color);\n    border: none;\n    border-radius: 50%;\n    cursor: pointer;\n    display: none;\n    fill: var(--fill-color);\n    height: 32px;\n    padding: 0;\n    width: 32px;\n  }\n\n  .colab-df-quickchart:hover {\n    background-color: var(--hover-bg-color);\n    box-shadow: 0 1px 2px rgba(60, 64, 67, 0.3), 0 1px 3px 1px rgba(60, 64, 67, 0.15);\n    fill: var(--button-hover-fill-color);\n  }\n\n  .colab-df-quickchart-complete:disabled,\n  .colab-df-quickchart-complete:disabled:hover {\n    background-color: var(--disabled-bg-color);\n    fill: var(--disabled-fill-color);\n    box-shadow: none;\n  }\n\n  .colab-df-spinner {\n    border: 2px solid var(--fill-color);\n    border-color: transparent;\n    border-bottom-color: var(--fill-color);\n    animation:\n      spin 1s steps(1) infinite;\n  }\n\n  @keyframes spin {\n    0% {\n      border-color: transparent;\n      border-bottom-color: var(--fill-color);\n      border-left-color: var(--fill-color);\n    }\n    20% {\n      border-color: transparent;\n      border-left-color: var(--fill-color);\n      border-top-color: var(--fill-color);\n    }\n    30% {\n      border-color: transparent;\n      border-left-color: var(--fill-color);\n      border-top-color: var(--fill-color);\n      border-right-color: var(--fill-color);\n    }\n    40% {\n      border-color: transparent;\n      border-right-color: var(--fill-color);\n      border-top-color: var(--fill-color);\n    }\n    60% {\n      border-color: transparent;\n      border-right-color: var(--fill-color);\n    }\n    80% {\n      border-color: transparent;\n      border-right-color: var(--fill-color);\n      border-bottom-color: var(--fill-color);\n    }\n    90% {\n      border-color: transparent;\n      border-bottom-color: var(--fill-color);\n    }\n  }\n</style>\n\n  <script>\n    async function quickchart(key) {\n      const quickchartButtonEl =\n        document.querySelector('#' + key + ' button');\n      quickchartButtonEl.disabled = true;  // To prevent multiple clicks.\n      quickchartButtonEl.classList.add('colab-df-spinner');\n      try {\n        const charts = await google.colab.kernel.invokeFunction(\n            'suggestCharts', [key], {});\n      } catch (error) {\n        console.error('Error during call to suggestCharts:', error);\n      }\n      quickchartButtonEl.classList.remove('colab-df-spinner');\n      quickchartButtonEl.classList.add('colab-df-quickchart-complete');\n    }\n    (() => {\n      let quickchartButtonEl =\n        document.querySelector('#df-05b378f5-749a-47d1-b7e7-f261258a5089 button');\n      quickchartButtonEl.style.display =\n        google.colab.kernel.accessAllowed ? 'block' : 'none';\n    })();\n  </script>\n</div>\n\n  <div id=\"id_5ef349b4-fe10-43be-9c0a-5fabdc4ad4fd\">\n    <style>\n      .colab-df-generate {\n        background-color: #E8F0FE;\n        border: none;\n        border-radius: 50%;\n        cursor: pointer;\n        display: none;\n        fill: #1967D2;\n        height: 32px;\n        padding: 0 0 0 0;\n        width: 32px;\n      }\n\n      .colab-df-generate:hover {\n        background-color: #E2EBFA;\n        box-shadow: 0px 1px 2px rgba(60, 64, 67, 0.3), 0px 1px 3px 1px rgba(60, 64, 67, 0.15);\n        fill: #174EA6;\n      }\n\n      [theme=dark] .colab-df-generate {\n        background-color: #3B4455;\n        fill: #D2E3FC;\n      }\n\n      [theme=dark] .colab-df-generate:hover {\n        background-color: #434B5C;\n        box-shadow: 0px 1px 3px 1px rgba(0, 0, 0, 0.15);\n        filter: drop-shadow(0px 1px 2px rgba(0, 0, 0, 0.3));\n        fill: #FFFFFF;\n      }\n    </style>\n    <button class=\"colab-df-generate\" onclick=\"generateWithVariable('df_grouped')\"\n            title=\"Generate code using this dataframe.\"\n            style=\"display:none;\">\n\n  <svg xmlns=\"http://www.w3.org/2000/svg\" height=\"24px\"viewBox=\"0 0 24 24\"\n       width=\"24px\">\n    <path d=\"M7,19H8.4L18.45,9,17,7.55,7,17.6ZM5,21V16.75L18.45,3.32a2,2,0,0,1,2.83,0l1.4,1.43a1.91,1.91,0,0,1,.58,1.4,1.91,1.91,0,0,1-.58,1.4L9.25,21ZM18.45,9,17,7.55Zm-12,3A5.31,5.31,0,0,0,4.9,8.1,5.31,5.31,0,0,0,1,6.5,5.31,5.31,0,0,0,4.9,4.9,5.31,5.31,0,0,0,6.5,1,5.31,5.31,0,0,0,8.1,4.9,5.31,5.31,0,0,0,12,6.5,5.46,5.46,0,0,0,6.5,12Z\"/>\n  </svg>\n    </button>\n    <script>\n      (() => {\n      const buttonEl =\n        document.querySelector('#id_5ef349b4-fe10-43be-9c0a-5fabdc4ad4fd button.colab-df-generate');\n      buttonEl.style.display =\n        google.colab.kernel.accessAllowed ? 'block' : 'none';\n\n      buttonEl.onclick = () => {\n        google.colab.notebook.generateWithVariable('df_grouped');\n      }\n      })();\n    </script>\n  </div>\n\n    </div>\n  </div>\n",
            "application/vnd.google.colaboratory.intrinsic+json": {
              "type": "dataframe",
              "variable_name": "df_grouped",
              "summary": "{\n  \"name\": \"df_grouped\",\n  \"rows\": 6,\n  \"fields\": [\n    {\n      \"column\": \"TPR\",\n      \"properties\": {\n        \"dtype\": \"number\",\n        \"std\": 0.19667838894707754,\n        \"min\": 0.41974840871579316,\n        \"max\": 0.905734709254283,\n        \"num_unique_values\": 6,\n        \"samples\": [\n          0.7118332845571712,\n          0.5075805781330743,\n          0.41974840871579316\n        ],\n        \"semantic_type\": \"\",\n        \"description\": \"\"\n      }\n    },\n    {\n      \"column\": \"Dice\",\n      \"properties\": {\n        \"dtype\": \"number\",\n        \"std\": 0.4015755900192204,\n        \"min\": 0.5307552824952569,\n        \"max\": 1.5604719325357839,\n        \"num_unique_values\": 6,\n        \"samples\": [\n          0.8176412785881219,\n          0.7036253475464653,\n          0.5307552824952569\n        ],\n        \"semantic_type\": \"\",\n        \"description\": \"\"\n      }\n    }\n  ]\n}"
            }
          },
          "metadata": {}
        }
      ],
      "execution_count": 12,
      "metadata": {
        "id": "z-1OtLAOijG1",
        "colab": {
          "base_uri": "https://localhost:8080/",
          "height": 269
        },
        "outputId": "597dec15-b3f7-42e5-8a1e-99575385f9f2"
      }
    },
    {
      "cell_type": "code",
      "source": [
        "df_grouped.to_csv(\"/content/drive/MyDrive/model prediction AIMI/final_run/average.csv\")"
      ],
      "outputs": [],
      "execution_count": 13,
      "metadata": {
        "id": "J2aTvbFDjKCK"
      }
    },
    {
      "cell_type": "code",
      "source": [
        "sns.violinplot(data=df_tpr_max, x='sequences', y='TPR')\n",
        "\n",
        "plt.title('Distribution of TPR Across Sequences')\n",
        "plt.xlabel('Sequences')\n",
        "plt.ylabel('TPR')\n",
        "\n",
        "plt.show()"
      ],
      "outputs": [
        {
          "output_type": "display_data",
          "data": {
            "text/plain": "<Figure size 640x480 with 1 Axes>",
            "image/png": "[encoded data removed]"
          },
          "metadata": {}
        }
      ],
      "execution_count": 24,
      "metadata": {
        "colab": {
          "base_uri": "https://localhost:8080/",
          "height": 472
        },
        "id": "VhgB9O3F1Idj",
        "outputId": "bd633655-4a29-40b8-cd63-ee83fc6b2638"
      }
    },
    {
      "cell_type": "code",
      "source": [
        "sns.violinplot(data=df_tpr_max, x='sequences', y='TPR', hue='k')\n",
        "\n",
        "plt.title('Distribution of TPR Across Sequences and k values')\n",
        "plt.xlabel('Sequences')\n",
        "plt.ylabel('TPR')\n",
        "plt.legend(title='K')\n",
        "\n",
        "plt.show()"
      ],
      "outputs": [
        {
          "output_type": "display_data",
          "data": {
            "text/plain": "<Figure size 640x480 with 1 Axes>",
            "image/png": "[encoded data removed]"
          },
          "metadata": {}
        }
      ],
      "execution_count": 32,
      "metadata": {
        "id": "W2C5yXHxiPZo",
        "colab": {
          "base_uri": "https://localhost:8080/",
          "height": 472
        },
        "outputId": "b4228bd8-06be-4eab-a599-18ff7eebd80c"
      }
    },
    {
      "cell_type": "code",
      "source": [
        "# Violin plot comparing TPR distributions across different sequences\n",
        "sns.violinplot(data=df_dice_max, x='sequences', y='Dice')\n",
        "\n",
        "# Add titles and labels\n",
        "plt.title('Distribution of Dice score Across Sequences')\n",
        "plt.xlabel('Sequences')\n",
        "plt.ylabel('Dice')\n",
        "\n",
        "# Show the plot\n",
        "plt.show()\n"
      ],
      "outputs": [
        {
          "output_type": "display_data",
          "data": {
            "text/plain": "<Figure size 640x480 with 1 Axes>",
            "image/png": "[encoded data removed]"
          },
          "metadata": {}
        }
      ],
      "execution_count": 26,
      "metadata": {
        "id": "lGw7dBuWiPWF",
        "colab": {
          "base_uri": "https://localhost:8080/",
          "height": 472
        },
        "outputId": "2dbae39d-d60f-424d-c0cf-a4c2643165cd"
      }
    },
    {
      "cell_type": "code",
      "source": [
        "sns.violinplot(data=df_dice_max, x='sequences',hue = \"k\", y='Dice')\n",
        "\n",
        "plt.title('Distribution of Dice Across Sequences and k')\n",
        "plt.xlabel('Sequences')\n",
        "plt.ylabel('TPR')\n",
        "plt.legend(title='K')\n",
        "\n",
        "plt.show()"
      ],
      "outputs": [
        {
          "output_type": "display_data",
          "data": {
            "text/plain": "<Figure size 640x480 with 1 Axes>",
            "image/png": "[encoded data removed]"
          },
          "metadata": {}
        }
      ],
      "execution_count": 33,
      "metadata": {
        "outputId": "8aaf8f55-47d1-4c96-e38d-daaa6d838bd0",
        "colab": {
          "base_uri": "https://localhost:8080/",
          "height": 472
        },
        "id": "u1ehWmLA1Qqh"
      }
    },
    {
      "cell_type": "markdown",
      "source": [
        "# 2 sample output for each sequence"
      ],
      "metadata": {
        "id": "ZccPrVkEfKfj"
      }
    },
    {
      "cell_type": "code",
      "source": [
        "!ls /content/drive/MyDrive/datasets/AIMI_ASS1_Files/Sub1"
      ],
      "outputs": [
        {
          "output_type": "stream",
          "name": "stdout",
          "text": "FLAIR_pre_restore.nii.gz  T1_pre_restore.nii.gz  T2_pre_restore.nii.gz\n"
        }
      ],
      "execution_count": null,
      "metadata": {
        "id": "qvqXb8drfpvg",
        "colab": {
          "base_uri": "https://localhost:8080/"
        },
        "outputId": "574931c2-2899-43b7-8b80-91c851627d01"
      }
    },
    {
      "cell_type": "code",
      "source": [
        "file1 = \"/content/drive/MyDrive/dataset/AIMI_ASS1_Files/Sub1/FLAIR_pre_restore.nii.gz\"\n",
        "file2 = \"/content/drive/MyDrive/dataset/AIMI_ASS1_Files/Sub1/T1_pre_restore.nii.gz\"\n",
        "file3 = \"/content/drive/MyDrive/dataset/AIMI_ASS1_Files/Sub1/T2_pre_restore.nii.gz\"\n",
        "file4 = \"/content/drive/MyDrive/dataset/AIMI_ASS1_Files/Sub2/FLAIR_pre_restore.nii.gz\"\n",
        "file5 = \"/content/drive/MyDrive/dataset/AIMI_ASS1_Files/Sub2/T1_pre_restore.nii.gz\"\n",
        "file6 = \"/content/drive/MyDrive/dataset/AIMI_ASS1_Files/Sub2/T2_pre_restore.nii.gz\""
      ],
      "outputs": [],
      "execution_count": null,
      "metadata": {
        "id": "pbGR422HfKNT"
      }
    },
    {
      "cell_type": "code",
      "source": [
        "directory1 = \"/content/drive/MyDrive/datasets/AIMI_ASS1_Files/Sub1\"\n",
        "directory2  = \"/content/drive/MyDrive/datasets/AIMI_ASS1_Files/Sub1\""
      ],
      "outputs": [],
      "execution_count": null,
      "metadata": {
        "id": "ez0H1dM9g_7E"
      }
    },
    {
      "cell_type": "code",
      "source": [
        "if __name__ == \"__main__\":\n",
        "\n",
        "    k_values = [2, 3]\n",
        "    for k in k_values:\n",
        "        directory = directory1\n",
        "        save_dir = \"/content/drive/MyDrive/model prediction AIMI/sample_output\"\n",
        "        final_centres = file_processer(directory, k, save_dir)\n",
        "        print(f\"Final centres for k={k}: {final_centres}\")"
      ],
      "outputs": [
        {
          "output_type": "display_data",
          "data": {
            "text/plain": "  0%|          | 0/3 [00:00<?, ?it/s]",
            "application/vnd.jupyter.widget-view+json": {
              "version_major": 2,
              "version_minor": 0,
              "model_id": "a34be677ee744ae4b62af98bbd3a4bef"
            }
          },
          "metadata": {}
        },
        {
          "output_type": "stream",
          "name": "stdout",
          "text": "Segmentation completed for T1_pre_restore.nii.gz with k=2, model=t1, centers=[752.844482421875, 437.12176513671875] at iteration 0\nSegmentation completed for T2_pre_restore.nii.gz with k=2, model=t2, centers=[364.2904052734375, 183.45407104492188] at iteration 0\nSegmentation completed for FLAIR_pre_restore.nii.gz with k=2, model=flair, centers=[140.65870666503906, 80.22351837158203] at iteration 0\nFinal centres for k=2: [[752.844482421875, 437.12176513671875], [364.2904052734375, 183.45407104492188], [140.65870666503906, 80.22351837158203]]\n"
        },
        {
          "output_type": "display_data",
          "data": {
            "text/plain": "  0%|          | 0/3 [00:00<?, ?it/s]",
            "application/vnd.jupyter.widget-view+json": {
              "version_major": 2,
              "version_minor": 0,
              "model_id": "9ab7d933c5a142bdaf701f5bcf2d57d3"
            }
          },
          "metadata": {}
        },
        {
          "output_type": "stream",
          "name": "stdout",
          "text": "Segmentation completed for T1_pre_restore.nii.gz with k=3, model=t1, centers=[274.4925231933594, 802.7435302734375, 585.6654663085938] at iteration 0\nSegmentation completed for T2_pre_restore.nii.gz with k=3, model=t2, centers=[167.1641845703125, 405.1554260253906, 229.44851684570312] at iteration 0\nSegmentation completed for FLAIR_pre_restore.nii.gz with k=3, model=flair, centers=[68.33132934570312, 153.32485961914062, 126.36724090576172] at iteration 0\nFinal centres for k=3: [[274.4925231933594, 802.7435302734375, 585.6654663085938], [167.1641845703125, 405.1554260253906, 229.44851684570312], [68.33132934570312, 153.32485961914062, 126.36724090576172]]\n"
        }
      ],
      "execution_count": null,
      "metadata": {
        "id": "ZSYqvgZNfKJ8",
        "colab": {
          "base_uri": "https://localhost:8080/",
          "height": 240,
          "referenced_widgets": [
            "a34be677ee744ae4b62af98bbd3a4bef",
            "5cc78a717051441f8aa67b5395411b17",
            "4f40d38ba3e247a996ef4ab0e3cc16ef",
            "a12c8b604fa24b4f8e29c8adbeafa42a",
            "8ee0b4af0d3a4551adfceb1504d24bf9",
            "720417a5fbe446e7b445554b7e7771dd",
            "7c1ba7cb437f4de9bd269eb93bf65a94",
            "a9de9c6998fa4985a1fce466b7facaa8",
            "6f9f503758cc4c4893215515cc11268c",
            "0aff0ae1ff81428f9148b2ad87db4834",
            "b190c349d94142f7aace2b80b00d6644",
            "9ab7d933c5a142bdaf701f5bcf2d57d3",
            "8bf76c72ab614a77a7c4b56f4a04d193",
            "f92264e3edee461b86ef904523bddfd4",
            "7f6d7269e0ee499e87f63925bdea2ad7",
            "bfa97fe2def34877820d95848b22a842",
            "4b1b8deced3047edb6988d91aaf8cb2e",
            "554ea4782228432085ef2f51e8472d4a",
            "2d7419823cb444949c1b259594cb5c60",
            "e9280a58917f410abe638804fa3c1351",
            "3e4a3f8ed0fb4fdc9de9bdcd9b8165b6",
            "ac46171ab13f4f4c8ecbc0e3b1b73731"
          ]
        },
        "outputId": "35eaf9a0-5e41-48f4-bf21-efd5aabaab1e"
      }
    },
    {
      "cell_type": "code",
      "source": [
        "if __name__ == \"__main__\":\n",
        "\n",
        "    k_values = [2, 3]\n",
        "    for k in k_values:\n",
        "        directory = directory2\n",
        "        save_dir = \"/content/drive/MyDrive/model prediction AIMI/sample_output\"\n",
        "        final_centres = file_processer(directory, k, save_dir)\n",
        "        print(f\"Final centres for k={k}: {final_centres}\")"
      ],
      "outputs": [
        {
          "output_type": "display_data",
          "data": {
            "text/plain": "  0%|          | 0/3 [00:00<?, ?it/s]",
            "application/vnd.jupyter.widget-view+json": {
              "version_major": 2,
              "version_minor": 0,
              "model_id": "0f1233f86d4744b59f44eb25e6198a5f"
            }
          },
          "metadata": {}
        },
        {
          "output_type": "stream",
          "name": "stdout",
          "text": "Segmentation completed for T1_pre_restore.nii.gz with k=2, model=t1, centers=[752.844482421875, 437.12176513671875] at iteration 0\nSegmentation completed for T2_pre_restore.nii.gz with k=2, model=t2, centers=[364.2904052734375, 183.45407104492188] at iteration 0\nSegmentation completed for FLAIR_pre_restore.nii.gz with k=2, model=flair, centers=[140.65870666503906, 80.22351837158203] at iteration 0\nFinal centres for k=2: [[752.844482421875, 437.12176513671875], [364.2904052734375, 183.45407104492188], [140.65870666503906, 80.22351837158203]]\n"
        },
        {
          "output_type": "display_data",
          "data": {
            "text/plain": "  0%|          | 0/3 [00:00<?, ?it/s]",
            "application/vnd.jupyter.widget-view+json": {
              "version_major": 2,
              "version_minor": 0,
              "model_id": "7f5e1c63ce854b8b81f214989354b833"
            }
          },
          "metadata": {}
        },
        {
          "output_type": "stream",
          "name": "stdout",
          "text": "Segmentation completed for T1_pre_restore.nii.gz with k=3, model=t1, centers=[274.4925231933594, 802.7435302734375, 585.6654663085938] at iteration 0\nSegmentation completed for T2_pre_restore.nii.gz with k=3, model=t2, centers=[167.1641845703125, 405.1554260253906, 229.44851684570312] at iteration 0\nSegmentation completed for FLAIR_pre_restore.nii.gz with k=3, model=flair, centers=[68.33132934570312, 153.32485961914062, 126.36724090576172] at iteration 0\nFinal centres for k=3: [[274.4925231933594, 802.7435302734375, 585.6654663085938], [167.1641845703125, 405.1554260253906, 229.44851684570312], [68.33132934570312, 153.32485961914062, 126.36724090576172]]\n"
        }
      ],
      "execution_count": null,
      "metadata": {
        "id": "LGvQ91WQfKHC",
        "colab": {
          "base_uri": "https://localhost:8080/",
          "height": 240,
          "referenced_widgets": [
            "0f1233f86d4744b59f44eb25e6198a5f",
            "44abae5d48e74d9db7b6c82c13ba280c",
            "8b1b3dd77ff74aa499ea0c356621e1fd",
            "30829a83976e49f18bd7460f8fc64308",
            "94556943cc4e418bb111d94ba4024a37",
            "be6cb9d021a04f0b85f916128c4a8038",
            "4422fe215a6042ebb008157ef51bf7e4",
            "74b6fc91a4734684af01c031accf55d8",
            "9d2a495e15aa4b7da43ab78a65a9b151",
            "32feebe086034b6691b3f3af9ab71b4b",
            "303379c97bf64e3087aa9fa8170a40f6",
            "7f5e1c63ce854b8b81f214989354b833",
            "1f2a3266a2ac43479e0160df90556f6b",
            "65b6bf46608047e6854953bc4c5b51c4",
            "c8d54f47674c4d048a5018e313618a56",
            "aad2188e63b643638d0ae81d8b1a2e3f",
            "c7c8c1502923433792b70d0d7ac55adc",
            "5e65fa14ee8844e2b24a97ae00365abd",
            "2f950bfc7ee54caaa3ccdf4f52c09e77",
            "d48492836e29474791db5f69d783641b",
            "ffb2323df8144237b519bcef5dc0c1df",
            "82c993fc75de44e1a2f214b3a506e4e6"
          ]
        },
        "outputId": "9c38f702-6562-44f1-9949-164524f4dd30"
      }
    },
    {
      "cell_type": "code",
      "source": [
        "if __name__ == '__main__':\n",
        "    gt_parent_folder = \"/content/drive/MyDrive/datasets/GroundTruth/\"\n",
        "    seg_parent_folder = \"/content/drive/MyDrive/model prediction AIMI/sample_output/k=2\"\n",
        "    k = 2\n",
        "\n",
        "    results_df_k2 = process_segmentation_results(gt_parent_folder, seg_parent_folder, k)\n",
        "\n",
        "    #print(\"Detailed Results:\")\n",
        "    #print(results_df_k2)\n",
        "    seg_parent_folder = \"/content/drive/MyDrive/model prediction AIMI/sample_output/k=3\"\n",
        "    k = 3\n",
        "\n",
        "    results_df_k3 = process_segmentation_results(gt_parent_folder, seg_parent_folder, k)\n",
        "\n",
        "    #print(\"Detailed Results:\")\n",
        "    #print(results_df_k2)\n"
      ],
      "outputs": [
        {
          "output_type": "display_data",
          "data": {
            "text/plain": "Processing Subjects:   0%|          | 0/20 [00:00<?, ?it/s]",
            "application/vnd.jupyter.widget-view+json": {
              "version_major": 2,
              "version_minor": 0,
              "model_id": "7b66ddee8f7647439bee59cab72c50dd"
            }
          },
          "metadata": {}
        },
        {
          "output_type": "display_data",
          "data": {
            "text/plain": "Processing Subjects:   0%|          | 0/20 [00:00<?, ?it/s]",
            "application/vnd.jupyter.widget-view+json": {
              "version_major": 2,
              "version_minor": 0,
              "model_id": "33d2bc156e154c94aabefa92431f7323"
            }
          },
          "metadata": {}
        }
      ],
      "execution_count": null,
      "metadata": {
        "id": "d0DnuPcRfKEI",
        "colab": {
          "base_uri": "https://localhost:8080/",
          "height": 81,
          "referenced_widgets": [
            "7b66ddee8f7647439bee59cab72c50dd",
            "d18baa054daf40a6a4f5648cd33a4669",
            "7410463dfcad46b58ef418cdfec8ec87",
            "885ad1b4ef8b41eeb437b43b6f037ee2",
            "af7e7748e7ba49afb3d98211cc287f68",
            "49a418ee43ab493983535c918509a9cf",
            "8db993d53c054963bf1cb043c4829c1b",
            "1b85fab11d04424c993f02f7e9bc691b",
            "eb4104c65ac94886ac2b2899e5969b08",
            "974e4228f8d342a988dbd1f0205b9c3d",
            "d67d7e7ddd2540d7979a01e086be8b54",
            "33d2bc156e154c94aabefa92431f7323",
            "2940f7cc00014ad8ab9132debc757dda",
            "ac13eaabcf9840cdad0c8e291d2d074d",
            "dc384a0f685a436eaac0f1a5de17d30e",
            "7b00657720754cd892707400c306178f",
            "99b69c6d67114fd7824eaa8f59dee453",
            "28de276d178549479e055969a3560740",
            "1f033f6940f34e119bce3094fadda651",
            "79ceb58b603b4e5495785ba4fec11008",
            "16af17c2ffd04c4db00440d9c52fcbe2",
            "6739b97d1f5346bbb3bd73241367c4c3"
          ]
        },
        "outputId": "eb96cd94-67f2-467f-fe85-16dada75a5fe"
      }
    },
    {
      "cell_type": "code",
      "source": [
        "results_df = pd.concat([results_df_k3, results_df_k2], axis=0)\n",
        "\n",
        "print(results_df)"
      ],
      "outputs": [
        {
          "output_type": "stream",
          "name": "stdout",
          "text": "   Subject sequences   k  GT_Class  Seg_Class  TP_tpr  FN_tpr  TPR  TP_dice  \\\n0     Sub8       NaN NaN       NaN        NaN     NaN     NaN  NaN      NaN   \n1     Sub5       NaN NaN       NaN        NaN     NaN     NaN  NaN      NaN   \n2     Sub7       NaN NaN       NaN        NaN     NaN     NaN  NaN      NaN   \n3    Sub20       NaN NaN       NaN        NaN     NaN     NaN  NaN      NaN   \n4    Sub19       NaN NaN       NaN        NaN     NaN     NaN  NaN      NaN   \n..     ...       ...  ..       ...        ...     ...     ...  ...      ...   \n32   Sub18       NaN NaN       NaN        NaN     NaN     NaN  NaN      NaN   \n33   Sub13       NaN NaN       NaN        NaN     NaN     NaN  NaN      NaN   \n34   Sub12       NaN NaN       NaN        NaN     NaN     NaN  NaN      NaN   \n35   Sub11       NaN NaN       NaN        NaN     NaN     NaN  NaN      NaN   \n36   Sub14       NaN NaN       NaN        NaN     NaN     NaN  NaN      NaN   \n\n    FN_dice  FP_dice  Dice  \n0       NaN      NaN   NaN  \n1       NaN      NaN   NaN  \n2       NaN      NaN   NaN  \n3       NaN      NaN   NaN  \n4       NaN      NaN   NaN  \n..      ...      ...   ...  \n32      NaN      NaN   NaN  \n33      NaN      NaN   NaN  \n34      NaN      NaN   NaN  \n35      NaN      NaN   NaN  \n36      NaN      NaN   NaN  \n\n[83 rows x 12 columns]\n"
        }
      ],
      "execution_count": null,
      "metadata": {
        "id": "HJrUGRQRfJoU",
        "colab": {
          "base_uri": "https://localhost:8080/"
        },
        "outputId": "15374485-af23-4c9c-fa6b-53f9698c6b59"
      }
    },
    {
      "cell_type": "code",
      "source": [
        "clean_df = results_df.dropna()\n",
        "clean_df"
      ],
      "outputs": [
        {
          "output_type": "execute_result",
          "execution_count": 51,
          "data": {
            "text/plain": "   Subject sequences    k  GT_Class  Seg_Class    TP_tpr    FN_tpr       TPR  \\\n12    Sub1        T1  3.0       1.0        1.0  209146.0    4295.0  0.979877   \n13    Sub1        T1  3.0       1.0        2.0     207.0  213234.0  0.000970   \n14    Sub1        T1  3.0       1.0        3.0    4088.0  209353.0  0.019153   \n15    Sub1        T1  3.0       2.0        1.0   41079.0  480088.0  0.078821   \n16    Sub1        T1  3.0       2.0        2.0    3565.0  517602.0  0.006840   \n17    Sub1        T1  3.0       2.0        3.0  476523.0   44644.0  0.914338   \n18    Sub1        T1  3.0       3.0        1.0       0.0  483123.0  0.000000   \n19    Sub1        T1  3.0       3.0        2.0  356903.0  126220.0  0.738741   \n20    Sub1        T1  3.0       3.0        3.0  126220.0  356903.0  0.261259   \n21    Sub1        T2  3.0       1.0        1.0  124535.0   88906.0  0.583463   \n22    Sub1        T2  3.0       1.0        2.0   21385.0  192056.0  0.100192   \n23    Sub1        T2  3.0       1.0        3.0   67521.0  145920.0  0.316345   \n24    Sub1        T2  3.0       2.0        1.0  313223.0  207944.0  0.601003   \n25    Sub1        T2  3.0       2.0        2.0   24289.0  496878.0  0.046605   \n26    Sub1        T2  3.0       2.0        3.0  183655.0  337512.0  0.352392   \n27    Sub1        T2  3.0       3.0        1.0  329358.0  153765.0  0.681727   \n28    Sub1        T2  3.0       3.0        2.0   30183.0  452940.0  0.062475   \n29    Sub1        T2  3.0       3.0        3.0  123582.0  359541.0  0.255798   \n30    Sub1     FLAIR  3.0       1.0        1.0   92955.0  120486.0  0.435507   \n31    Sub1     FLAIR  3.0       1.0        2.0   40060.0  173381.0  0.187687   \n32    Sub1     FLAIR  3.0       1.0        3.0   80426.0  133015.0  0.376807   \n33    Sub1     FLAIR  3.0       2.0        1.0   20518.0  500649.0  0.039369   \n34    Sub1     FLAIR  3.0       2.0        2.0  289171.0  231996.0  0.554853   \n35    Sub1     FLAIR  3.0       2.0        3.0  211478.0  309689.0  0.405778   \n36    Sub1     FLAIR  3.0       3.0        1.0    9788.0  473335.0  0.020260   \n37    Sub1     FLAIR  3.0       3.0        2.0  178361.0  304762.0  0.369183   \n38    Sub1     FLAIR  3.0       3.0        3.0  294974.0  188149.0  0.610557   \n12    Sub1        T1  2.0       1.0        1.0     323.0  213118.0  0.001513   \n13    Sub1        T1  2.0       1.0        2.0  213118.0     323.0  0.998487   \n14    Sub1        T1  2.0       2.0        1.0   93949.0  427218.0  0.180267   \n15    Sub1        T1  2.0       2.0        2.0  427218.0   93949.0  0.819733   \n16    Sub1        T1  2.0       3.0        1.0  480022.0    3101.0  0.993581   \n17    Sub1        T1  2.0       3.0        2.0    3101.0  480022.0  0.006419   \n18    Sub1        T2  2.0       1.0        1.0   32291.0  181150.0  0.151288   \n19    Sub1        T2  2.0       1.0        2.0  181150.0   32291.0  0.848712   \n20    Sub1        T2  2.0       2.0        1.0   43054.0  478113.0  0.082611   \n21    Sub1        T2  2.0       2.0        2.0  478113.0   43054.0  0.917389   \n22    Sub1        T2  2.0       3.0        1.0   43869.0  439254.0  0.090803   \n23    Sub1        T2  2.0       3.0        2.0  439254.0   43869.0  0.909197   \n24    Sub1     FLAIR  2.0       1.0        1.0   99155.0  114286.0  0.464555   \n25    Sub1     FLAIR  2.0       1.0        2.0  114286.0   99155.0  0.535445   \n26    Sub1     FLAIR  2.0       2.0        1.0  483518.0   37649.0  0.927760   \n27    Sub1     FLAIR  2.0       2.0        2.0   37649.0  483518.0  0.072240   \n28    Sub1     FLAIR  2.0       3.0        1.0  455140.0   27983.0  0.942079   \n29    Sub1     FLAIR  2.0       3.0        2.0   27983.0  455140.0  0.057921   \n\n     TP_dice   FN_dice   FP_dice      Dice  \n12  209146.0    4295.0   41079.0  1.643454  \n13     207.0  213234.0  360468.0  0.000721  \n14    4088.0  209353.0  602743.0  0.010017  \n15   41079.0  480088.0  209146.0  0.112497  \n16    3565.0  517602.0  357110.0  0.008118  \n17  476523.0   44644.0  130308.0  1.462905  \n18       0.0  483123.0  250225.0  0.000000  \n19  356903.0  126220.0    3772.0  1.466037  \n20  126220.0  356903.0  480611.0  0.261939  \n21  124535.0   88906.0  642593.0  0.290958  \n22   21385.0  192056.0   54473.0  0.159641  \n23   67521.0  145920.0  307242.0  0.259356  \n24  313223.0  207944.0  453905.0  0.642461  \n25   24289.0  496878.0   51569.0  0.084817  \n26  183655.0  337512.0  191108.0  0.515686  \n27  329358.0  153765.0  437770.0  0.715301  \n28   30183.0  452940.0   45675.0  0.114157  \n29  123582.0  359541.0  251181.0  0.336596  \n30   92955.0  120486.0   30316.0  0.762686  \n31   40060.0  173381.0  467534.0  0.117655  \n32   80426.0  133015.0  506458.0  0.223437  \n33   20518.0  500649.0  102753.0  0.065771  \n34  289171.0  231996.0  218423.0  0.781977  \n35  211478.0  309689.0  375406.0  0.471747  \n36    9788.0  473335.0  113483.0  0.032812  \n37  178361.0  304762.0  329233.0  0.439120  \n38  294974.0  188149.0  291910.0  0.761191  \n12     323.0  213118.0  573971.0  0.000820  \n13  213118.0     323.0  430319.0  0.662104  \n14   93949.0  427218.0  480345.0  0.187614  \n15  427218.0   93949.0  216219.0  1.158736  \n16  480022.0    3101.0   94272.0  1.662716  \n17    3101.0  480022.0  640336.0  0.005520  \n18   32291.0  181150.0   86924.0  0.215012  \n19  181150.0   32291.0  917384.0  0.320386  \n20   43054.0  478113.0   76161.0  0.144155  \n21  478113.0   43054.0  620421.0  0.837628  \n22   43869.0  439254.0   75346.0  0.157105  \n23  439254.0   43869.0  659280.0  0.769000  \n24   99155.0  114286.0  938665.0  0.172128  \n25  114286.0   99155.0   65643.0  0.819008  \n26  483518.0   37649.0  554302.0  0.899176  \n27   37649.0  483518.0  142280.0  0.113495  \n28  455140.0   27983.0  582680.0  0.854079  \n29   27983.0  455140.0  151946.0  0.088126  ",
            "text/html": "\n  <div id=\"df-ccb3e918-c5e6-4398-8fed-c8e4816e3769\" class=\"colab-df-container\">\n    <div>\n<style scoped>\n    .dataframe tbody tr th:only-of-type {\n        vertical-align: middle;\n    }\n\n    .dataframe tbody tr th {\n        vertical-align: top;\n    }\n\n    .dataframe thead th {\n        text-align: right;\n    }\n</style>\n<table border=\"1\" class=\"dataframe\">\n  <thead>\n    <tr style=\"text-align: right;\">\n      <th></th>\n      <th>Subject</th>\n      <th>sequences</th>\n      <th>k</th>\n      <th>GT_Class</th>\n      <th>Seg_Class</th>\n      <th>TP_tpr</th>\n      <th>FN_tpr</th>\n      <th>TPR</th>\n      <th>TP_dice</th>\n      <th>FN_dice</th>\n      <th>FP_dice</th>\n      <th>Dice</th>\n    </tr>\n  </thead>\n  <tbody>\n    <tr>\n      <th>12</th>\n      <td>Sub1</td>\n      <td>T1</td>\n      <td>3.0</td>\n      <td>1.0</td>\n      <td>1.0</td>\n      <td>209146.0</td>\n      <td>4295.0</td>\n      <td>0.979877</td>\n      <td>209146.0</td>\n      <td>4295.0</td>\n      <td>41079.0</td>\n      <td>1.643454</td>\n    </tr>\n    <tr>\n      <th>13</th>\n      <td>Sub1</td>\n      <td>T1</td>\n      <td>3.0</td>\n      <td>1.0</td>\n      <td>2.0</td>\n      <td>207.0</td>\n      <td>213234.0</td>\n      <td>0.000970</td>\n      <td>207.0</td>\n      <td>213234.0</td>\n      <td>360468.0</td>\n      <td>0.000721</td>\n    </tr>\n    <tr>\n      <th>14</th>\n      <td>Sub1</td>\n      <td>T1</td>\n      <td>3.0</td>\n      <td>1.0</td>\n      <td>3.0</td>\n      <td>4088.0</td>\n      <td>209353.0</td>\n      <td>0.019153</td>\n      <td>4088.0</td>\n      <td>209353.0</td>\n      <td>602743.0</td>\n      <td>0.010017</td>\n    </tr>\n    <tr>\n      <th>15</th>\n      <td>Sub1</td>\n      <td>T1</td>\n      <td>3.0</td>\n      <td>2.0</td>\n      <td>1.0</td>\n      <td>41079.0</td>\n      <td>480088.0</td>\n      <td>0.078821</td>\n      <td>41079.0</td>\n      <td>480088.0</td>\n      <td>209146.0</td>\n      <td>0.112497</td>\n    </tr>\n    <tr>\n      <th>16</th>\n      <td>Sub1</td>\n      <td>T1</td>\n      <td>3.0</td>\n      <td>2.0</td>\n      <td>2.0</td>\n      <td>3565.0</td>\n      <td>517602.0</td>\n      <td>0.006840</td>\n      <td>3565.0</td>\n      <td>517602.0</td>\n      <td>357110.0</td>\n      <td>0.008118</td>\n    </tr>\n    <tr>\n      <th>17</th>\n      <td>Sub1</td>\n      <td>T1</td>\n      <td>3.0</td>\n      <td>2.0</td>\n      <td>3.0</td>\n      <td>476523.0</td>\n      <td>44644.0</td>\n      <td>0.914338</td>\n      <td>476523.0</td>\n      <td>44644.0</td>\n      <td>130308.0</td>\n      <td>1.462905</td>\n    </tr>\n    <tr>\n      <th>18</th>\n      <td>Sub1</td>\n      <td>T1</td>\n      <td>3.0</td>\n      <td>3.0</td>\n      <td>1.0</td>\n      <td>0.0</td>\n      <td>483123.0</td>\n      <td>0.000000</td>\n      <td>0.0</td>\n      <td>483123.0</td>\n      <td>250225.0</td>\n      <td>0.000000</td>\n    </tr>\n    <tr>\n      <th>19</th>\n      <td>Sub1</td>\n      <td>T1</td>\n      <td>3.0</td>\n      <td>3.0</td>\n      <td>2.0</td>\n      <td>356903.0</td>\n      <td>126220.0</td>\n      <td>0.738741</td>\n      <td>356903.0</td>\n      <td>126220.0</td>\n      <td>3772.0</td>\n      <td>1.466037</td>\n    </tr>\n    <tr>\n      <th>20</th>\n      <td>Sub1</td>\n      <td>T1</td>\n      <td>3.0</td>\n      <td>3.0</td>\n      <td>3.0</td>\n      <td>126220.0</td>\n      <td>356903.0</td>\n      <td>0.261259</td>\n      <td>126220.0</td>\n      <td>356903.0</td>\n      <td>480611.0</td>\n      <td>0.261939</td>\n    </tr>\n    <tr>\n      <th>21</th>\n      <td>Sub1</td>\n      <td>T2</td>\n      <td>3.0</td>\n      <td>1.0</td>\n      <td>1.0</td>\n      <td>124535.0</td>\n      <td>88906.0</td>\n      <td>0.583463</td>\n      <td>124535.0</td>\n      <td>88906.0</td>\n      <td>642593.0</td>\n      <td>0.290958</td>\n    </tr>\n    <tr>\n      <th>22</th>\n      <td>Sub1</td>\n      <td>T2</td>\n      <td>3.0</td>\n      <td>1.0</td>\n      <td>2.0</td>\n      <td>21385.0</td>\n      <td>192056.0</td>\n      <td>0.100192</td>\n      <td>21385.0</td>\n      <td>192056.0</td>\n      <td>54473.0</td>\n      <td>0.159641</td>\n    </tr>\n    <tr>\n      <th>23</th>\n      <td>Sub1</td>\n      <td>T2</td>\n      <td>3.0</td>\n      <td>1.0</td>\n      <td>3.0</td>\n      <td>67521.0</td>\n      <td>145920.0</td>\n      <td>0.316345</td>\n      <td>67521.0</td>\n      <td>145920.0</td>\n      <td>307242.0</td>\n      <td>0.259356</td>\n    </tr>\n    <tr>\n      <th>24</th>\n      <td>Sub1</td>\n      <td>T2</td>\n      <td>3.0</td>\n      <td>2.0</td>\n      <td>1.0</td>\n      <td>313223.0</td>\n      <td>207944.0</td>\n      <td>0.601003</td>\n      <td>313223.0</td>\n      <td>207944.0</td>\n      <td>453905.0</td>\n      <td>0.642461</td>\n    </tr>\n    <tr>\n      <th>25</th>\n      <td>Sub1</td>\n      <td>T2</td>\n      <td>3.0</td>\n      <td>2.0</td>\n      <td>2.0</td>\n      <td>24289.0</td>\n      <td>496878.0</td>\n      <td>0.046605</td>\n      <td>24289.0</td>\n      <td>496878.0</td>\n      <td>51569.0</td>\n      <td>0.084817</td>\n    </tr>\n    <tr>\n      <th>26</th>\n      <td>Sub1</td>\n      <td>T2</td>\n      <td>3.0</td>\n      <td>2.0</td>\n      <td>3.0</td>\n      <td>183655.0</td>\n      <td>337512.0</td>\n      <td>0.352392</td>\n      <td>183655.0</td>\n      <td>337512.0</td>\n      <td>191108.0</td>\n      <td>0.515686</td>\n    </tr>\n    <tr>\n      <th>27</th>\n      <td>Sub1</td>\n      <td>T2</td>\n      <td>3.0</td>\n      <td>3.0</td>\n      <td>1.0</td>\n      <td>329358.0</td>\n      <td>153765.0</td>\n      <td>0.681727</td>\n      <td>329358.0</td>\n      <td>153765.0</td>\n      <td>437770.0</td>\n      <td>0.715301</td>\n    </tr>\n    <tr>\n      <th>28</th>\n      <td>Sub1</td>\n      <td>T2</td>\n      <td>3.0</td>\n      <td>3.0</td>\n      <td>2.0</td>\n      <td>30183.0</td>\n      <td>452940.0</td>\n      <td>0.062475</td>\n      <td>30183.0</td>\n      <td>452940.0</td>\n      <td>45675.0</td>\n      <td>0.114157</td>\n    </tr>\n    <tr>\n      <th>29</th>\n      <td>Sub1</td>\n      <td>T2</td>\n      <td>3.0</td>\n      <td>3.0</td>\n      <td>3.0</td>\n      <td>123582.0</td>\n      <td>359541.0</td>\n      <td>0.255798</td>\n      <td>123582.0</td>\n      <td>359541.0</td>\n      <td>251181.0</td>\n      <td>0.336596</td>\n    </tr>\n    <tr>\n      <th>30</th>\n      <td>Sub1</td>\n      <td>FLAIR</td>\n      <td>3.0</td>\n      <td>1.0</td>\n      <td>1.0</td>\n      <td>92955.0</td>\n      <td>120486.0</td>\n      <td>0.435507</td>\n      <td>92955.0</td>\n      <td>120486.0</td>\n      <td>30316.0</td>\n      <td>0.762686</td>\n    </tr>\n    <tr>\n      <th>31</th>\n      <td>Sub1</td>\n      <td>FLAIR</td>\n      <td>3.0</td>\n      <td>1.0</td>\n      <td>2.0</td>\n      <td>40060.0</td>\n      <td>173381.0</td>\n      <td>0.187687</td>\n      <td>40060.0</td>\n      <td>173381.0</td>\n      <td>467534.0</td>\n      <td>0.117655</td>\n    </tr>\n    <tr>\n      <th>32</th>\n      <td>Sub1</td>\n      <td>FLAIR</td>\n      <td>3.0</td>\n      <td>1.0</td>\n      <td>3.0</td>\n      <td>80426.0</td>\n      <td>133015.0</td>\n      <td>0.376807</td>\n      <td>80426.0</td>\n      <td>133015.0</td>\n      <td>506458.0</td>\n      <td>0.223437</td>\n    </tr>\n    <tr>\n      <th>33</th>\n      <td>Sub1</td>\n      <td>FLAIR</td>\n      <td>3.0</td>\n      <td>2.0</td>\n      <td>1.0</td>\n      <td>20518.0</td>\n      <td>500649.0</td>\n      <td>0.039369</td>\n      <td>20518.0</td>\n      <td>500649.0</td>\n      <td>102753.0</td>\n      <td>0.065771</td>\n    </tr>\n    <tr>\n      <th>34</th>\n      <td>Sub1</td>\n      <td>FLAIR</td>\n      <td>3.0</td>\n      <td>2.0</td>\n      <td>2.0</td>\n      <td>289171.0</td>\n      <td>231996.0</td>\n      <td>0.554853</td>\n      <td>289171.0</td>\n      <td>231996.0</td>\n      <td>218423.0</td>\n      <td>0.781977</td>\n    </tr>\n    <tr>\n      <th>35</th>\n      <td>Sub1</td>\n      <td>FLAIR</td>\n      <td>3.0</td>\n      <td>2.0</td>\n      <td>3.0</td>\n      <td>211478.0</td>\n      <td>309689.0</td>\n      <td>0.405778</td>\n      <td>211478.0</td>\n      <td>309689.0</td>\n      <td>375406.0</td>\n      <td>0.471747</td>\n    </tr>\n    <tr>\n      <th>36</th>\n      <td>Sub1</td>\n      <td>FLAIR</td>\n      <td>3.0</td>\n      <td>3.0</td>\n      <td>1.0</td>\n      <td>9788.0</td>\n      <td>473335.0</td>\n      <td>0.020260</td>\n      <td>9788.0</td>\n      <td>473335.0</td>\n      <td>113483.0</td>\n      <td>0.032812</td>\n    </tr>\n    <tr>\n      <th>37</th>\n      <td>Sub1</td>\n      <td>FLAIR</td>\n      <td>3.0</td>\n      <td>3.0</td>\n      <td>2.0</td>\n      <td>178361.0</td>\n      <td>304762.0</td>\n      <td>0.369183</td>\n      <td>178361.0</td>\n      <td>304762.0</td>\n      <td>329233.0</td>\n      <td>0.439120</td>\n    </tr>\n    <tr>\n      <th>38</th>\n      <td>Sub1</td>\n      <td>FLAIR</td>\n      <td>3.0</td>\n      <td>3.0</td>\n      <td>3.0</td>\n      <td>294974.0</td>\n      <td>188149.0</td>\n      <td>0.610557</td>\n      <td>294974.0</td>\n      <td>188149.0</td>\n      <td>291910.0</td>\n      <td>0.761191</td>\n    </tr>\n    <tr>\n      <th>12</th>\n      <td>Sub1</td>\n      <td>T1</td>\n      <td>2.0</td>\n      <td>1.0</td>\n      <td>1.0</td>\n      <td>323.0</td>\n      <td>213118.0</td>\n      <td>0.001513</td>\n      <td>323.0</td>\n      <td>213118.0</td>\n      <td>573971.0</td>\n      <td>0.000820</td>\n    </tr>\n    <tr>\n      <th>13</th>\n      <td>Sub1</td>\n      <td>T1</td>\n      <td>2.0</td>\n      <td>1.0</td>\n      <td>2.0</td>\n      <td>213118.0</td>\n      <td>323.0</td>\n      <td>0.998487</td>\n      <td>213118.0</td>\n      <td>323.0</td>\n      <td>430319.0</td>\n      <td>0.662104</td>\n    </tr>\n    <tr>\n      <th>14</th>\n      <td>Sub1</td>\n      <td>T1</td>\n      <td>2.0</td>\n      <td>2.0</td>\n      <td>1.0</td>\n      <td>93949.0</td>\n      <td>427218.0</td>\n      <td>0.180267</td>\n      <td>93949.0</td>\n      <td>427218.0</td>\n      <td>480345.0</td>\n      <td>0.187614</td>\n    </tr>\n    <tr>\n      <th>15</th>\n      <td>Sub1</td>\n      <td>T1</td>\n      <td>2.0</td>\n      <td>2.0</td>\n      <td>2.0</td>\n      <td>427218.0</td>\n      <td>93949.0</td>\n      <td>0.819733</td>\n      <td>427218.0</td>\n      <td>93949.0</td>\n      <td>216219.0</td>\n      <td>1.158736</td>\n    </tr>\n    <tr>\n      <th>16</th>\n      <td>Sub1</td>\n      <td>T1</td>\n      <td>2.0</td>\n      <td>3.0</td>\n      <td>1.0</td>\n      <td>480022.0</td>\n      <td>3101.0</td>\n      <td>0.993581</td>\n      <td>480022.0</td>\n      <td>3101.0</td>\n      <td>94272.0</td>\n      <td>1.662716</td>\n    </tr>\n    <tr>\n      <th>17</th>\n      <td>Sub1</td>\n      <td>T1</td>\n      <td>2.0</td>\n      <td>3.0</td>\n      <td>2.0</td>\n      <td>3101.0</td>\n      <td>480022.0</td>\n      <td>0.006419</td>\n      <td>3101.0</td>\n      <td>480022.0</td>\n      <td>640336.0</td>\n      <td>0.005520</td>\n    </tr>\n    <tr>\n      <th>18</th>\n      <td>Sub1</td>\n      <td>T2</td>\n      <td>2.0</td>\n      <td>1.0</td>\n      <td>1.0</td>\n      <td>32291.0</td>\n      <td>181150.0</td>\n      <td>0.151288</td>\n      <td>32291.0</td>\n      <td>181150.0</td>\n      <td>86924.0</td>\n      <td>0.215012</td>\n    </tr>\n    <tr>\n      <th>19</th>\n      <td>Sub1</td>\n      <td>T2</td>\n      <td>2.0</td>\n      <td>1.0</td>\n      <td>2.0</td>\n      <td>181150.0</td>\n      <td>32291.0</td>\n      <td>0.848712</td>\n      <td>181150.0</td>\n      <td>32291.0</td>\n      <td>917384.0</td>\n      <td>0.320386</td>\n    </tr>\n    <tr>\n      <th>20</th>\n      <td>Sub1</td>\n      <td>T2</td>\n      <td>2.0</td>\n      <td>2.0</td>\n      <td>1.0</td>\n      <td>43054.0</td>\n      <td>478113.0</td>\n      <td>0.082611</td>\n      <td>43054.0</td>\n      <td>478113.0</td>\n      <td>76161.0</td>\n      <td>0.144155</td>\n    </tr>\n    <tr>\n      <th>21</th>\n      <td>Sub1</td>\n      <td>T2</td>\n      <td>2.0</td>\n      <td>2.0</td>\n      <td>2.0</td>\n      <td>478113.0</td>\n      <td>43054.0</td>\n      <td>0.917389</td>\n      <td>478113.0</td>\n      <td>43054.0</td>\n      <td>620421.0</td>\n      <td>0.837628</td>\n    </tr>\n    <tr>\n      <th>22</th>\n      <td>Sub1</td>\n      <td>T2</td>\n      <td>2.0</td>\n      <td>3.0</td>\n      <td>1.0</td>\n      <td>43869.0</td>\n      <td>439254.0</td>\n      <td>0.090803</td>\n      <td>43869.0</td>\n      <td>439254.0</td>\n      <td>75346.0</td>\n      <td>0.157105</td>\n    </tr>\n    <tr>\n      <th>23</th>\n      <td>Sub1</td>\n      <td>T2</td>\n      <td>2.0</td>\n      <td>3.0</td>\n      <td>2.0</td>\n      <td>439254.0</td>\n      <td>43869.0</td>\n      <td>0.909197</td>\n      <td>439254.0</td>\n      <td>43869.0</td>\n      <td>659280.0</td>\n      <td>0.769000</td>\n    </tr>\n    <tr>\n      <th>24</th>\n      <td>Sub1</td>\n      <td>FLAIR</td>\n      <td>2.0</td>\n      <td>1.0</td>\n      <td>1.0</td>\n      <td>99155.0</td>\n      <td>114286.0</td>\n      <td>0.464555</td>\n      <td>99155.0</td>\n      <td>114286.0</td>\n      <td>938665.0</td>\n      <td>0.172128</td>\n    </tr>\n    <tr>\n      <th>25</th>\n      <td>Sub1</td>\n      <td>FLAIR</td>\n      <td>2.0</td>\n      <td>1.0</td>\n      <td>2.0</td>\n      <td>114286.0</td>\n      <td>99155.0</td>\n      <td>0.535445</td>\n      <td>114286.0</td>\n      <td>99155.0</td>\n      <td>65643.0</td>\n      <td>0.819008</td>\n    </tr>\n    <tr>\n      <th>26</th>\n      <td>Sub1</td>\n      <td>FLAIR</td>\n      <td>2.0</td>\n      <td>2.0</td>\n      <td>1.0</td>\n      <td>483518.0</td>\n      <td>37649.0</td>\n      <td>0.927760</td>\n      <td>483518.0</td>\n      <td>37649.0</td>\n      <td>554302.0</td>\n      <td>0.899176</td>\n    </tr>\n    <tr>\n      <th>27</th>\n      <td>Sub1</td>\n      <td>FLAIR</td>\n      <td>2.0</td>\n      <td>2.0</td>\n      <td>2.0</td>\n      <td>37649.0</td>\n      <td>483518.0</td>\n      <td>0.072240</td>\n      <td>37649.0</td>\n      <td>483518.0</td>\n      <td>142280.0</td>\n      <td>0.113495</td>\n    </tr>\n    <tr>\n      <th>28</th>\n      <td>Sub1</td>\n      <td>FLAIR</td>\n      <td>2.0</td>\n      <td>3.0</td>\n      <td>1.0</td>\n      <td>455140.0</td>\n      <td>27983.0</td>\n      <td>0.942079</td>\n      <td>455140.0</td>\n      <td>27983.0</td>\n      <td>582680.0</td>\n      <td>0.854079</td>\n    </tr>\n    <tr>\n      <th>29</th>\n      <td>Sub1</td>\n      <td>FLAIR</td>\n      <td>2.0</td>\n      <td>3.0</td>\n      <td>2.0</td>\n      <td>27983.0</td>\n      <td>455140.0</td>\n      <td>0.057921</td>\n      <td>27983.0</td>\n      <td>455140.0</td>\n      <td>151946.0</td>\n      <td>0.088126</td>\n    </tr>\n  </tbody>\n</table>\n</div>\n    <div class=\"colab-df-buttons\">\n\n  <div class=\"colab-df-container\">\n    <button class=\"colab-df-convert\" onclick=\"convertToInteractive('df-ccb3e918-c5e6-4398-8fed-c8e4816e3769')\"\n            title=\"Convert this dataframe to an interactive table.\"\n            style=\"display:none;\">\n\n  <svg xmlns=\"http://www.w3.org/2000/svg\" height=\"24px\" viewBox=\"0 -960 960 960\">\n    <path d=\"M120-120v-720h720v720H120Zm60-500h600v-160H180v160Zm220 220h160v-160H400v160Zm0 220h160v-160H400v160ZM180-400h160v-160H180v160Zm440 0h160v-160H620v160ZM180-180h160v-160H180v160Zm440 0h160v-160H620v160Z\"/>\n  </svg>\n    </button>\n\n  <style>\n    .colab-df-container {\n      display:flex;\n      gap: 12px;\n    }\n\n    .colab-df-convert {\n      background-color: #E8F0FE;\n      border: none;\n      border-radius: 50%;\n      cursor: pointer;\n      display: none;\n      fill: #1967D2;\n      height: 32px;\n      padding: 0 0 0 0;\n      width: 32px;\n    }\n\n    .colab-df-convert:hover {\n      background-color: #E2EBFA;\n      box-shadow: 0px 1px 2px rgba(60, 64, 67, 0.3), 0px 1px 3px 1px rgba(60, 64, 67, 0.15);\n      fill: #174EA6;\n    }\n\n    .colab-df-buttons div {\n      margin-bottom: 4px;\n    }\n\n    [theme=dark] .colab-df-convert {\n      background-color: #3B4455;\n      fill: #D2E3FC;\n    }\n\n    [theme=dark] .colab-df-convert:hover {\n      background-color: #434B5C;\n      box-shadow: 0px 1px 3px 1px rgba(0, 0, 0, 0.15);\n      filter: drop-shadow(0px 1px 2px rgba(0, 0, 0, 0.3));\n      fill: #FFFFFF;\n    }\n  </style>\n\n    <script>\n      const buttonEl =\n        document.querySelector('#df-ccb3e918-c5e6-4398-8fed-c8e4816e3769 button.colab-df-convert');\n      buttonEl.style.display =\n        google.colab.kernel.accessAllowed ? 'block' : 'none';\n\n      async function convertToInteractive(key) {\n        const element = document.querySelector('#df-ccb3e918-c5e6-4398-8fed-c8e4816e3769');\n        const dataTable =\n          await google.colab.kernel.invokeFunction('convertToInteractive',\n                                                    [key], {});\n        if (!dataTable) return;\n\n        const docLinkHtml = 'Like what you see? Visit the ' +\n          '<a target=\"_blank\" href=https://colab.research.google.com/notebooks/data_table.ipynb>data table notebook</a>'\n          + ' to learn more about interactive tables.';\n        element.innerHTML = '';\n        dataTable['output_type'] = 'display_data';\n        await google.colab.output.renderOutput(dataTable, element);\n        const docLink = document.createElement('div');\n        docLink.innerHTML = docLinkHtml;\n        element.appendChild(docLink);\n      }\n    </script>\n  </div>\n\n\n<div id=\"df-befd903d-98ee-4503-8389-24f3aa017cbe\">\n  <button class=\"colab-df-quickchart\" onclick=\"quickchart('df-befd903d-98ee-4503-8389-24f3aa017cbe')\"\n            title=\"Suggest charts\"\n            style=\"display:none;\">\n\n<svg xmlns=\"http://www.w3.org/2000/svg\" height=\"24px\"viewBox=\"0 0 24 24\"\n     width=\"24px\">\n    <g>\n        <path d=\"M19 3H5c-1.1 0-2 .9-2 2v14c0 1.1.9 2 2 2h14c1.1 0 2-.9 2-2V5c0-1.1-.9-2-2-2zM9 17H7v-7h2v7zm4 0h-2V7h2v10zm4 0h-2v-4h2v4z\"/>\n    </g>\n</svg>\n  </button>\n\n<style>\n  .colab-df-quickchart {\n      --bg-color: #E8F0FE;\n      --fill-color: #1967D2;\n      --hover-bg-color: #E2EBFA;\n      --hover-fill-color: #174EA6;\n      --disabled-fill-color: #AAA;\n      --disabled-bg-color: #DDD;\n  }\n\n  [theme=dark] .colab-df-quickchart {\n      --bg-color: #3B4455;\n      --fill-color: #D2E3FC;\n      --hover-bg-color: #434B5C;\n      --hover-fill-color: #FFFFFF;\n      --disabled-bg-color: #3B4455;\n      --disabled-fill-color: #666;\n  }\n\n  .colab-df-quickchart {\n    background-color: var(--bg-color);\n    border: none;\n    border-radius: 50%;\n    cursor: pointer;\n    display: none;\n    fill: var(--fill-color);\n    height: 32px;\n    padding: 0;\n    width: 32px;\n  }\n\n  .colab-df-quickchart:hover {\n    background-color: var(--hover-bg-color);\n    box-shadow: 0 1px 2px rgba(60, 64, 67, 0.3), 0 1px 3px 1px rgba(60, 64, 67, 0.15);\n    fill: var(--button-hover-fill-color);\n  }\n\n  .colab-df-quickchart-complete:disabled,\n  .colab-df-quickchart-complete:disabled:hover {\n    background-color: var(--disabled-bg-color);\n    fill: var(--disabled-fill-color);\n    box-shadow: none;\n  }\n\n  .colab-df-spinner {\n    border: 2px solid var(--fill-color);\n    border-color: transparent;\n    border-bottom-color: var(--fill-color);\n    animation:\n      spin 1s steps(1) infinite;\n  }\n\n  @keyframes spin {\n    0% {\n      border-color: transparent;\n      border-bottom-color: var(--fill-color);\n      border-left-color: var(--fill-color);\n    }\n    20% {\n      border-color: transparent;\n      border-left-color: var(--fill-color);\n      border-top-color: var(--fill-color);\n    }\n    30% {\n      border-color: transparent;\n      border-left-color: var(--fill-color);\n      border-top-color: var(--fill-color);\n      border-right-color: var(--fill-color);\n    }\n    40% {\n      border-color: transparent;\n      border-right-color: var(--fill-color);\n      border-top-color: var(--fill-color);\n    }\n    60% {\n      border-color: transparent;\n      border-right-color: var(--fill-color);\n    }\n    80% {\n      border-color: transparent;\n      border-right-color: var(--fill-color);\n      border-bottom-color: var(--fill-color);\n    }\n    90% {\n      border-color: transparent;\n      border-bottom-color: var(--fill-color);\n    }\n  }\n</style>\n\n  <script>\n    async function quickchart(key) {\n      const quickchartButtonEl =\n        document.querySelector('#' + key + ' button');\n      quickchartButtonEl.disabled = true;  // To prevent multiple clicks.\n      quickchartButtonEl.classList.add('colab-df-spinner');\n      try {\n        const charts = await google.colab.kernel.invokeFunction(\n            'suggestCharts', [key], {});\n      } catch (error) {\n        console.error('Error during call to suggestCharts:', error);\n      }\n      quickchartButtonEl.classList.remove('colab-df-spinner');\n      quickchartButtonEl.classList.add('colab-df-quickchart-complete');\n    }\n    (() => {\n      let quickchartButtonEl =\n        document.querySelector('#df-befd903d-98ee-4503-8389-24f3aa017cbe button');\n      quickchartButtonEl.style.display =\n        google.colab.kernel.accessAllowed ? 'block' : 'none';\n    })();\n  </script>\n</div>\n\n  <div id=\"id_45cf5f91-8843-49dc-a20d-e5c55235f526\">\n    <style>\n      .colab-df-generate {\n        background-color: #E8F0FE;\n        border: none;\n        border-radius: 50%;\n        cursor: pointer;\n        display: none;\n        fill: #1967D2;\n        height: 32px;\n        padding: 0 0 0 0;\n        width: 32px;\n      }\n\n      .colab-df-generate:hover {\n        background-color: #E2EBFA;\n        box-shadow: 0px 1px 2px rgba(60, 64, 67, 0.3), 0px 1px 3px 1px rgba(60, 64, 67, 0.15);\n        fill: #174EA6;\n      }\n\n      [theme=dark] .colab-df-generate {\n        background-color: #3B4455;\n        fill: #D2E3FC;\n      }\n\n      [theme=dark] .colab-df-generate:hover {\n        background-color: #434B5C;\n        box-shadow: 0px 1px 3px 1px rgba(0, 0, 0, 0.15);\n        filter: drop-shadow(0px 1px 2px rgba(0, 0, 0, 0.3));\n        fill: #FFFFFF;\n      }\n    </style>\n    <button class=\"colab-df-generate\" onclick=\"generateWithVariable('clean_df')\"\n            title=\"Generate code using this dataframe.\"\n            style=\"display:none;\">\n\n  <svg xmlns=\"http://www.w3.org/2000/svg\" height=\"24px\"viewBox=\"0 0 24 24\"\n       width=\"24px\">\n    <path d=\"M7,19H8.4L18.45,9,17,7.55,7,17.6ZM5,21V16.75L18.45,3.32a2,2,0,0,1,2.83,0l1.4,1.43a1.91,1.91,0,0,1,.58,1.4,1.91,1.91,0,0,1-.58,1.4L9.25,21ZM18.45,9,17,7.55Zm-12,3A5.31,5.31,0,0,0,4.9,8.1,5.31,5.31,0,0,0,1,6.5,5.31,5.31,0,0,0,4.9,4.9,5.31,5.31,0,0,0,6.5,1,5.31,5.31,0,0,0,8.1,4.9,5.31,5.31,0,0,0,12,6.5,5.46,5.46,0,0,0,6.5,12Z\"/>\n  </svg>\n    </button>\n    <script>\n      (() => {\n      const buttonEl =\n        document.querySelector('#id_45cf5f91-8843-49dc-a20d-e5c55235f526 button.colab-df-generate');\n      buttonEl.style.display =\n        google.colab.kernel.accessAllowed ? 'block' : 'none';\n\n      buttonEl.onclick = () => {\n        google.colab.notebook.generateWithVariable('clean_df');\n      }\n      })();\n    </script>\n  </div>\n\n    </div>\n  </div>\n",
            "application/vnd.google.colaboratory.intrinsic+json": {
              "type": "dataframe",
              "variable_name": "clean_df",
              "summary": "{\n  \"name\": \"clean_df\",\n  \"rows\": 45,\n  \"fields\": [\n    {\n      \"column\": \"Subject\",\n      \"properties\": {\n        \"dtype\": \"category\",\n        \"num_unique_values\": 1,\n        \"samples\": [\n          \"Sub1\"\n        ],\n        \"semantic_type\": \"\",\n        \"description\": \"\"\n      }\n    },\n    {\n      \"column\": \"sequences\",\n      \"properties\": {\n        \"dtype\": \"category\",\n        \"num_unique_values\": 3,\n        \"samples\": [\n          \"T1\"\n        ],\n        \"semantic_type\": \"\",\n        \"description\": \"\"\n      }\n    },\n    {\n      \"column\": \"k\",\n      \"properties\": {\n        \"dtype\": \"number\",\n        \"std\": 0.49543369430686224,\n        \"min\": 2.0,\n        \"max\": 3.0,\n        \"num_unique_values\": 2,\n        \"samples\": [\n          2.0\n        ],\n        \"semantic_type\": \"\",\n        \"description\": \"\"\n      }\n    },\n    {\n      \"column\": \"GT_Class\",\n      \"properties\": {\n        \"dtype\": \"number\",\n        \"std\": 0.8257228238447705,\n        \"min\": 1.0,\n        \"max\": 3.0,\n        \"num_unique_values\": 3,\n        \"samples\": [\n          1.0\n        ],\n        \"semantic_type\": \"\",\n        \"description\": \"\"\n      }\n    },\n    {\n      \"column\": \"Seg_Class\",\n      \"properties\": {\n        \"dtype\": \"number\",\n        \"std\": 0.7567874686642695,\n        \"min\": 1.0,\n        \"max\": 3.0,\n        \"num_unique_values\": 3,\n        \"samples\": [\n          1.0\n        ],\n        \"semantic_type\": \"\",\n        \"description\": \"\"\n      }\n    },\n    {\n      \"column\": \"TP_tpr\",\n      \"properties\": {\n        \"dtype\": \"number\",\n        \"std\": 162645.60123856578,\n        \"min\": 0.0,\n        \"max\": 483518.0,\n        \"num_unique_values\": 45,\n        \"samples\": [\n          99155.0\n        ],\n        \"semantic_type\": \"\",\n        \"description\": \"\"\n      }\n    },\n    {\n      \"column\": \"FN_tpr\",\n      \"properties\": {\n        \"dtype\": \"number\",\n        \"std\": 174044.73358066205,\n        \"min\": 323.0,\n        \"max\": 517602.0,\n        \"num_unique_values\": 45,\n        \"samples\": [\n          114286.0\n        ],\n        \"semantic_type\": \"\",\n        \"description\": \"\"\n      }\n    },\n    {\n      \"column\": \"TPR\",\n      \"properties\": {\n        \"dtype\": \"number\",\n        \"std\": 0.3507765640266029,\n        \"min\": 0.0,\n        \"max\": 0.9984867012429665,\n        \"num_unique_values\": 45,\n        \"samples\": [\n          0.46455460759647865\n        ],\n        \"semantic_type\": \"\",\n        \"description\": \"\"\n      }\n    },\n    {\n      \"column\": \"TP_dice\",\n      \"properties\": {\n        \"dtype\": \"number\",\n        \"std\": 162645.60123856578,\n        \"min\": 0.0,\n        \"max\": 483518.0,\n        \"num_unique_values\": 45,\n        \"samples\": [\n          99155.0\n        ],\n        \"semantic_type\": \"\",\n        \"description\": \"\"\n      }\n    },\n    {\n      \"column\": \"FN_dice\",\n      \"properties\": {\n        \"dtype\": \"number\",\n        \"std\": 174044.73358066205,\n        \"min\": 323.0,\n        \"max\": 517602.0,\n        \"num_unique_values\": 45,\n        \"samples\": [\n          114286.0\n        ],\n        \"semantic_type\": \"\",\n        \"description\": \"\"\n      }\n    },\n    {\n      \"column\": \"FP_dice\",\n      \"properties\": {\n        \"dtype\": \"number\",\n        \"std\": 242720.91772233543,\n        \"min\": 3772.0,\n        \"max\": 938665.0,\n        \"num_unique_values\": 45,\n        \"samples\": [\n          938665.0\n        ],\n        \"semantic_type\": \"\",\n        \"description\": \"\"\n      }\n    },\n    {\n      \"column\": \"Dice\",\n      \"properties\": {\n        \"dtype\": \"number\",\n        \"std\": 0.4655369503555081,\n        \"min\": 0.0,\n        \"max\": 1.6627161648438245,\n        \"num_unique_values\": 45,\n        \"samples\": [\n          0.17212825903172105\n        ],\n        \"semantic_type\": \"\",\n        \"description\": \"\"\n      }\n    }\n  ]\n}"
            }
          },
          "metadata": {}
        }
      ],
      "execution_count": null,
      "metadata": {
        "colab": {
          "base_uri": "https://localhost:8080/",
          "height": 1000
        },
        "id": "QtQpCrvskgQo",
        "outputId": "e0641ea6-c238-407d-84f7-af509edb0b55"
      }
    },
    {
      "cell_type": "code",
      "source": [
        "df_sorted = clean_df.sort_values([\"k\", 'Subject', 'sequences', 'Seg_Class', 'GT_Class'])\n",
        "df_sorted"
      ],
      "outputs": [
        {
          "output_type": "execute_result",
          "execution_count": 52,
          "data": {
            "text/plain": "   Subject sequences    k  GT_Class  Seg_Class    TP_tpr    FN_tpr       TPR  \\\n24    Sub1     FLAIR  2.0       1.0        1.0   99155.0  114286.0  0.464555   \n26    Sub1     FLAIR  2.0       2.0        1.0  483518.0   37649.0  0.927760   \n28    Sub1     FLAIR  2.0       3.0        1.0  455140.0   27983.0  0.942079   \n25    Sub1     FLAIR  2.0       1.0        2.0  114286.0   99155.0  0.535445   \n27    Sub1     FLAIR  2.0       2.0        2.0   37649.0  483518.0  0.072240   \n29    Sub1     FLAIR  2.0       3.0        2.0   27983.0  455140.0  0.057921   \n12    Sub1        T1  2.0       1.0        1.0     323.0  213118.0  0.001513   \n14    Sub1        T1  2.0       2.0        1.0   93949.0  427218.0  0.180267   \n16    Sub1        T1  2.0       3.0        1.0  480022.0    3101.0  0.993581   \n13    Sub1        T1  2.0       1.0        2.0  213118.0     323.0  0.998487   \n15    Sub1        T1  2.0       2.0        2.0  427218.0   93949.0  0.819733   \n17    Sub1        T1  2.0       3.0        2.0    3101.0  480022.0  0.006419   \n18    Sub1        T2  2.0       1.0        1.0   32291.0  181150.0  0.151288   \n20    Sub1        T2  2.0       2.0        1.0   43054.0  478113.0  0.082611   \n22    Sub1        T2  2.0       3.0        1.0   43869.0  439254.0  0.090803   \n19    Sub1        T2  2.0       1.0        2.0  181150.0   32291.0  0.848712   \n21    Sub1        T2  2.0       2.0        2.0  478113.0   43054.0  0.917389   \n23    Sub1        T2  2.0       3.0        2.0  439254.0   43869.0  0.909197   \n30    Sub1     FLAIR  3.0       1.0        1.0   92955.0  120486.0  0.435507   \n33    Sub1     FLAIR  3.0       2.0        1.0   20518.0  500649.0  0.039369   \n36    Sub1     FLAIR  3.0       3.0        1.0    9788.0  473335.0  0.020260   \n31    Sub1     FLAIR  3.0       1.0        2.0   40060.0  173381.0  0.187687   \n34    Sub1     FLAIR  3.0       2.0        2.0  289171.0  231996.0  0.554853   \n37    Sub1     FLAIR  3.0       3.0        2.0  178361.0  304762.0  0.369183   \n32    Sub1     FLAIR  3.0       1.0        3.0   80426.0  133015.0  0.376807   \n35    Sub1     FLAIR  3.0       2.0        3.0  211478.0  309689.0  0.405778   \n38    Sub1     FLAIR  3.0       3.0        3.0  294974.0  188149.0  0.610557   \n12    Sub1        T1  3.0       1.0        1.0  209146.0    4295.0  0.979877   \n15    Sub1        T1  3.0       2.0        1.0   41079.0  480088.0  0.078821   \n18    Sub1        T1  3.0       3.0        1.0       0.0  483123.0  0.000000   \n13    Sub1        T1  3.0       1.0        2.0     207.0  213234.0  0.000970   \n16    Sub1        T1  3.0       2.0        2.0    3565.0  517602.0  0.006840   \n19    Sub1        T1  3.0       3.0        2.0  356903.0  126220.0  0.738741   \n14    Sub1        T1  3.0       1.0        3.0    4088.0  209353.0  0.019153   \n17    Sub1        T1  3.0       2.0        3.0  476523.0   44644.0  0.914338   \n20    Sub1        T1  3.0       3.0        3.0  126220.0  356903.0  0.261259   \n21    Sub1        T2  3.0       1.0        1.0  124535.0   88906.0  0.583463   \n24    Sub1        T2  3.0       2.0        1.0  313223.0  207944.0  0.601003   \n27    Sub1        T2  3.0       3.0        1.0  329358.0  153765.0  0.681727   \n22    Sub1        T2  3.0       1.0        2.0   21385.0  192056.0  0.100192   \n25    Sub1        T2  3.0       2.0        2.0   24289.0  496878.0  0.046605   \n28    Sub1        T2  3.0       3.0        2.0   30183.0  452940.0  0.062475   \n23    Sub1        T2  3.0       1.0        3.0   67521.0  145920.0  0.316345   \n26    Sub1        T2  3.0       2.0        3.0  183655.0  337512.0  0.352392   \n29    Sub1        T2  3.0       3.0        3.0  123582.0  359541.0  0.255798   \n\n     TP_dice   FN_dice   FP_dice      Dice  \n24   99155.0  114286.0  938665.0  0.172128  \n26  483518.0   37649.0  554302.0  0.899176  \n28  455140.0   27983.0  582680.0  0.854079  \n25  114286.0   99155.0   65643.0  0.819008  \n27   37649.0  483518.0  142280.0  0.113495  \n29   27983.0  455140.0  151946.0  0.088126  \n12     323.0  213118.0  573971.0  0.000820  \n14   93949.0  427218.0  480345.0  0.187614  \n16  480022.0    3101.0   94272.0  1.662716  \n13  213118.0     323.0  430319.0  0.662104  \n15  427218.0   93949.0  216219.0  1.158736  \n17    3101.0  480022.0  640336.0  0.005520  \n18   32291.0  181150.0   86924.0  0.215012  \n20   43054.0  478113.0   76161.0  0.144155  \n22   43869.0  439254.0   75346.0  0.157105  \n19  181150.0   32291.0  917384.0  0.320386  \n21  478113.0   43054.0  620421.0  0.837628  \n23  439254.0   43869.0  659280.0  0.769000  \n30   92955.0  120486.0   30316.0  0.762686  \n33   20518.0  500649.0  102753.0  0.065771  \n36    9788.0  473335.0  113483.0  0.032812  \n31   40060.0  173381.0  467534.0  0.117655  \n34  289171.0  231996.0  218423.0  0.781977  \n37  178361.0  304762.0  329233.0  0.439120  \n32   80426.0  133015.0  506458.0  0.223437  \n35  211478.0  309689.0  375406.0  0.471747  \n38  294974.0  188149.0  291910.0  0.761191  \n12  209146.0    4295.0   41079.0  1.643454  \n15   41079.0  480088.0  209146.0  0.112497  \n18       0.0  483123.0  250225.0  0.000000  \n13     207.0  213234.0  360468.0  0.000721  \n16    3565.0  517602.0  357110.0  0.008118  \n19  356903.0  126220.0    3772.0  1.466037  \n14    4088.0  209353.0  602743.0  0.010017  \n17  476523.0   44644.0  130308.0  1.462905  \n20  126220.0  356903.0  480611.0  0.261939  \n21  124535.0   88906.0  642593.0  0.290958  \n24  313223.0  207944.0  453905.0  0.642461  \n27  329358.0  153765.0  437770.0  0.715301  \n22   21385.0  192056.0   54473.0  0.159641  \n25   24289.0  496878.0   51569.0  0.084817  \n28   30183.0  452940.0   45675.0  0.114157  \n23   67521.0  145920.0  307242.0  0.259356  \n26  183655.0  337512.0  191108.0  0.515686  \n29  123582.0  359541.0  251181.0  0.336596  ",
            "text/html": "\n  <div id=\"df-0debc713-4bdf-4e2f-a48d-79253f54a445\" class=\"colab-df-container\">\n    <div>\n<style scoped>\n    .dataframe tbody tr th:only-of-type {\n        vertical-align: middle;\n    }\n\n    .dataframe tbody tr th {\n        vertical-align: top;\n    }\n\n    .dataframe thead th {\n        text-align: right;\n    }\n</style>\n<table border=\"1\" class=\"dataframe\">\n  <thead>\n    <tr style=\"text-align: right;\">\n      <th></th>\n      <th>Subject</th>\n      <th>sequences</th>\n      <th>k</th>\n      <th>GT_Class</th>\n      <th>Seg_Class</th>\n      <th>TP_tpr</th>\n      <th>FN_tpr</th>\n      <th>TPR</th>\n      <th>TP_dice</th>\n      <th>FN_dice</th>\n      <th>FP_dice</th>\n      <th>Dice</th>\n    </tr>\n  </thead>\n  <tbody>\n    <tr>\n      <th>24</th>\n      <td>Sub1</td>\n      <td>FLAIR</td>\n      <td>2.0</td>\n      <td>1.0</td>\n      <td>1.0</td>\n      <td>99155.0</td>\n      <td>114286.0</td>\n      <td>0.464555</td>\n      <td>99155.0</td>\n      <td>114286.0</td>\n      <td>938665.0</td>\n      <td>0.172128</td>\n    </tr>\n    <tr>\n      <th>26</th>\n      <td>Sub1</td>\n      <td>FLAIR</td>\n      <td>2.0</td>\n      <td>2.0</td>\n      <td>1.0</td>\n      <td>483518.0</td>\n      <td>37649.0</td>\n      <td>0.927760</td>\n      <td>483518.0</td>\n      <td>37649.0</td>\n      <td>554302.0</td>\n      <td>0.899176</td>\n    </tr>\n    <tr>\n      <th>28</th>\n      <td>Sub1</td>\n      <td>FLAIR</td>\n      <td>2.0</td>\n      <td>3.0</td>\n      <td>1.0</td>\n      <td>455140.0</td>\n      <td>27983.0</td>\n      <td>0.942079</td>\n      <td>455140.0</td>\n      <td>27983.0</td>\n      <td>582680.0</td>\n      <td>0.854079</td>\n    </tr>\n    <tr>\n      <th>25</th>\n      <td>Sub1</td>\n      <td>FLAIR</td>\n      <td>2.0</td>\n      <td>1.0</td>\n      <td>2.0</td>\n      <td>114286.0</td>\n      <td>99155.0</td>\n      <td>0.535445</td>\n      <td>114286.0</td>\n      <td>99155.0</td>\n      <td>65643.0</td>\n      <td>0.819008</td>\n    </tr>\n    <tr>\n      <th>27</th>\n      <td>Sub1</td>\n      <td>FLAIR</td>\n      <td>2.0</td>\n      <td>2.0</td>\n      <td>2.0</td>\n      <td>37649.0</td>\n      <td>483518.0</td>\n      <td>0.072240</td>\n      <td>37649.0</td>\n      <td>483518.0</td>\n      <td>142280.0</td>\n      <td>0.113495</td>\n    </tr>\n    <tr>\n      <th>29</th>\n      <td>Sub1</td>\n      <td>FLAIR</td>\n      <td>2.0</td>\n      <td>3.0</td>\n      <td>2.0</td>\n      <td>27983.0</td>\n      <td>455140.0</td>\n      <td>0.057921</td>\n      <td>27983.0</td>\n      <td>455140.0</td>\n      <td>151946.0</td>\n      <td>0.088126</td>\n    </tr>\n    <tr>\n      <th>12</th>\n      <td>Sub1</td>\n      <td>T1</td>\n      <td>2.0</td>\n      <td>1.0</td>\n      <td>1.0</td>\n      <td>323.0</td>\n      <td>213118.0</td>\n      <td>0.001513</td>\n      <td>323.0</td>\n      <td>213118.0</td>\n      <td>573971.0</td>\n      <td>0.000820</td>\n    </tr>\n    <tr>\n      <th>14</th>\n      <td>Sub1</td>\n      <td>T1</td>\n      <td>2.0</td>\n      <td>2.0</td>\n      <td>1.0</td>\n      <td>93949.0</td>\n      <td>427218.0</td>\n      <td>0.180267</td>\n      <td>93949.0</td>\n      <td>427218.0</td>\n      <td>480345.0</td>\n      <td>0.187614</td>\n    </tr>\n    <tr>\n      <th>16</th>\n      <td>Sub1</td>\n      <td>T1</td>\n      <td>2.0</td>\n      <td>3.0</td>\n      <td>1.0</td>\n      <td>480022.0</td>\n      <td>3101.0</td>\n      <td>0.993581</td>\n      <td>480022.0</td>\n      <td>3101.0</td>\n      <td>94272.0</td>\n      <td>1.662716</td>\n    </tr>\n    <tr>\n      <th>13</th>\n      <td>Sub1</td>\n      <td>T1</td>\n      <td>2.0</td>\n      <td>1.0</td>\n      <td>2.0</td>\n      <td>213118.0</td>\n      <td>323.0</td>\n      <td>0.998487</td>\n      <td>213118.0</td>\n      <td>323.0</td>\n      <td>430319.0</td>\n      <td>0.662104</td>\n    </tr>\n    <tr>\n      <th>15</th>\n      <td>Sub1</td>\n      <td>T1</td>\n      <td>2.0</td>\n      <td>2.0</td>\n      <td>2.0</td>\n      <td>427218.0</td>\n      <td>93949.0</td>\n      <td>0.819733</td>\n      <td>427218.0</td>\n      <td>93949.0</td>\n      <td>216219.0</td>\n      <td>1.158736</td>\n    </tr>\n    <tr>\n      <th>17</th>\n      <td>Sub1</td>\n      <td>T1</td>\n      <td>2.0</td>\n      <td>3.0</td>\n      <td>2.0</td>\n      <td>3101.0</td>\n      <td>480022.0</td>\n      <td>0.006419</td>\n      <td>3101.0</td>\n      <td>480022.0</td>\n      <td>640336.0</td>\n      <td>0.005520</td>\n    </tr>\n    <tr>\n      <th>18</th>\n      <td>Sub1</td>\n      <td>T2</td>\n      <td>2.0</td>\n      <td>1.0</td>\n      <td>1.0</td>\n      <td>32291.0</td>\n      <td>181150.0</td>\n      <td>0.151288</td>\n      <td>32291.0</td>\n      <td>181150.0</td>\n      <td>86924.0</td>\n      <td>0.215012</td>\n    </tr>\n    <tr>\n      <th>20</th>\n      <td>Sub1</td>\n      <td>T2</td>\n      <td>2.0</td>\n      <td>2.0</td>\n      <td>1.0</td>\n      <td>43054.0</td>\n      <td>478113.0</td>\n      <td>0.082611</td>\n      <td>43054.0</td>\n      <td>478113.0</td>\n      <td>76161.0</td>\n      <td>0.144155</td>\n    </tr>\n    <tr>\n      <th>22</th>\n      <td>Sub1</td>\n      <td>T2</td>\n      <td>2.0</td>\n      <td>3.0</td>\n      <td>1.0</td>\n      <td>43869.0</td>\n      <td>439254.0</td>\n      <td>0.090803</td>\n      <td>43869.0</td>\n      <td>439254.0</td>\n      <td>75346.0</td>\n      <td>0.157105</td>\n    </tr>\n    <tr>\n      <th>19</th>\n      <td>Sub1</td>\n      <td>T2</td>\n      <td>2.0</td>\n      <td>1.0</td>\n      <td>2.0</td>\n      <td>181150.0</td>\n      <td>32291.0</td>\n      <td>0.848712</td>\n      <td>181150.0</td>\n      <td>32291.0</td>\n      <td>917384.0</td>\n      <td>0.320386</td>\n    </tr>\n    <tr>\n      <th>21</th>\n      <td>Sub1</td>\n      <td>T2</td>\n      <td>2.0</td>\n      <td>2.0</td>\n      <td>2.0</td>\n      <td>478113.0</td>\n      <td>43054.0</td>\n      <td>0.917389</td>\n      <td>478113.0</td>\n      <td>43054.0</td>\n      <td>620421.0</td>\n      <td>0.837628</td>\n    </tr>\n    <tr>\n      <th>23</th>\n      <td>Sub1</td>\n      <td>T2</td>\n      <td>2.0</td>\n      <td>3.0</td>\n      <td>2.0</td>\n      <td>439254.0</td>\n      <td>43869.0</td>\n      <td>0.909197</td>\n      <td>439254.0</td>\n      <td>43869.0</td>\n      <td>659280.0</td>\n      <td>0.769000</td>\n    </tr>\n    <tr>\n      <th>30</th>\n      <td>Sub1</td>\n      <td>FLAIR</td>\n      <td>3.0</td>\n      <td>1.0</td>\n      <td>1.0</td>\n      <td>92955.0</td>\n      <td>120486.0</td>\n      <td>0.435507</td>\n      <td>92955.0</td>\n      <td>120486.0</td>\n      <td>30316.0</td>\n      <td>0.762686</td>\n    </tr>\n    <tr>\n      <th>33</th>\n      <td>Sub1</td>\n      <td>FLAIR</td>\n      <td>3.0</td>\n      <td>2.0</td>\n      <td>1.0</td>\n      <td>20518.0</td>\n      <td>500649.0</td>\n      <td>0.039369</td>\n      <td>20518.0</td>\n      <td>500649.0</td>\n      <td>102753.0</td>\n      <td>0.065771</td>\n    </tr>\n    <tr>\n      <th>36</th>\n      <td>Sub1</td>\n      <td>FLAIR</td>\n      <td>3.0</td>\n      <td>3.0</td>\n      <td>1.0</td>\n      <td>9788.0</td>\n      <td>473335.0</td>\n      <td>0.020260</td>\n      <td>9788.0</td>\n      <td>473335.0</td>\n      <td>113483.0</td>\n      <td>0.032812</td>\n    </tr>\n    <tr>\n      <th>31</th>\n      <td>Sub1</td>\n      <td>FLAIR</td>\n      <td>3.0</td>\n      <td>1.0</td>\n      <td>2.0</td>\n      <td>40060.0</td>\n      <td>173381.0</td>\n      <td>0.187687</td>\n      <td>40060.0</td>\n      <td>173381.0</td>\n      <td>467534.0</td>\n      <td>0.117655</td>\n    </tr>\n    <tr>\n      <th>34</th>\n      <td>Sub1</td>\n      <td>FLAIR</td>\n      <td>3.0</td>\n      <td>2.0</td>\n      <td>2.0</td>\n      <td>289171.0</td>\n      <td>231996.0</td>\n      <td>0.554853</td>\n      <td>289171.0</td>\n      <td>231996.0</td>\n      <td>218423.0</td>\n      <td>0.781977</td>\n    </tr>\n    <tr>\n      <th>37</th>\n      <td>Sub1</td>\n      <td>FLAIR</td>\n      <td>3.0</td>\n      <td>3.0</td>\n      <td>2.0</td>\n      <td>178361.0</td>\n      <td>304762.0</td>\n      <td>0.369183</td>\n      <td>178361.0</td>\n      <td>304762.0</td>\n      <td>329233.0</td>\n      <td>0.439120</td>\n    </tr>\n    <tr>\n      <th>32</th>\n      <td>Sub1</td>\n      <td>FLAIR</td>\n      <td>3.0</td>\n      <td>1.0</td>\n      <td>3.0</td>\n      <td>80426.0</td>\n      <td>133015.0</td>\n      <td>0.376807</td>\n      <td>80426.0</td>\n      <td>133015.0</td>\n      <td>506458.0</td>\n      <td>0.223437</td>\n    </tr>\n    <tr>\n      <th>35</th>\n      <td>Sub1</td>\n      <td>FLAIR</td>\n      <td>3.0</td>\n      <td>2.0</td>\n      <td>3.0</td>\n      <td>211478.0</td>\n      <td>309689.0</td>\n      <td>0.405778</td>\n      <td>211478.0</td>\n      <td>309689.0</td>\n      <td>375406.0</td>\n      <td>0.471747</td>\n    </tr>\n    <tr>\n      <th>38</th>\n      <td>Sub1</td>\n      <td>FLAIR</td>\n      <td>3.0</td>\n      <td>3.0</td>\n      <td>3.0</td>\n      <td>294974.0</td>\n      <td>188149.0</td>\n      <td>0.610557</td>\n      <td>294974.0</td>\n      <td>188149.0</td>\n      <td>291910.0</td>\n      <td>0.761191</td>\n    </tr>\n    <tr>\n      <th>12</th>\n      <td>Sub1</td>\n      <td>T1</td>\n      <td>3.0</td>\n      <td>1.0</td>\n      <td>1.0</td>\n      <td>209146.0</td>\n      <td>4295.0</td>\n      <td>0.979877</td>\n      <td>209146.0</td>\n      <td>4295.0</td>\n      <td>41079.0</td>\n      <td>1.643454</td>\n    </tr>\n    <tr>\n      <th>15</th>\n      <td>Sub1</td>\n      <td>T1</td>\n      <td>3.0</td>\n      <td>2.0</td>\n      <td>1.0</td>\n      <td>41079.0</td>\n      <td>480088.0</td>\n      <td>0.078821</td>\n      <td>41079.0</td>\n      <td>480088.0</td>\n      <td>209146.0</td>\n      <td>0.112497</td>\n    </tr>\n    <tr>\n      <th>18</th>\n      <td>Sub1</td>\n      <td>T1</td>\n      <td>3.0</td>\n      <td>3.0</td>\n      <td>1.0</td>\n      <td>0.0</td>\n      <td>483123.0</td>\n      <td>0.000000</td>\n      <td>0.0</td>\n      <td>483123.0</td>\n      <td>250225.0</td>\n      <td>0.000000</td>\n    </tr>\n    <tr>\n      <th>13</th>\n      <td>Sub1</td>\n      <td>T1</td>\n      <td>3.0</td>\n      <td>1.0</td>\n      <td>2.0</td>\n      <td>207.0</td>\n      <td>213234.0</td>\n      <td>0.000970</td>\n      <td>207.0</td>\n      <td>213234.0</td>\n      <td>360468.0</td>\n      <td>0.000721</td>\n    </tr>\n    <tr>\n      <th>16</th>\n      <td>Sub1</td>\n      <td>T1</td>\n      <td>3.0</td>\n      <td>2.0</td>\n      <td>2.0</td>\n      <td>3565.0</td>\n      <td>517602.0</td>\n      <td>0.006840</td>\n      <td>3565.0</td>\n      <td>517602.0</td>\n      <td>357110.0</td>\n      <td>0.008118</td>\n    </tr>\n    <tr>\n      <th>19</th>\n      <td>Sub1</td>\n      <td>T1</td>\n      <td>3.0</td>\n      <td>3.0</td>\n      <td>2.0</td>\n      <td>356903.0</td>\n      <td>126220.0</td>\n      <td>0.738741</td>\n      <td>356903.0</td>\n      <td>126220.0</td>\n      <td>3772.0</td>\n      <td>1.466037</td>\n    </tr>\n    <tr>\n      <th>14</th>\n      <td>Sub1</td>\n      <td>T1</td>\n      <td>3.0</td>\n      <td>1.0</td>\n      <td>3.0</td>\n      <td>4088.0</td>\n      <td>209353.0</td>\n      <td>0.019153</td>\n      <td>4088.0</td>\n      <td>209353.0</td>\n      <td>602743.0</td>\n      <td>0.010017</td>\n    </tr>\n    <tr>\n      <th>17</th>\n      <td>Sub1</td>\n      <td>T1</td>\n      <td>3.0</td>\n      <td>2.0</td>\n      <td>3.0</td>\n      <td>476523.0</td>\n      <td>44644.0</td>\n      <td>0.914338</td>\n      <td>476523.0</td>\n      <td>44644.0</td>\n      <td>130308.0</td>\n      <td>1.462905</td>\n    </tr>\n    <tr>\n      <th>20</th>\n      <td>Sub1</td>\n      <td>T1</td>\n      <td>3.0</td>\n      <td>3.0</td>\n      <td>3.0</td>\n      <td>126220.0</td>\n      <td>356903.0</td>\n      <td>0.261259</td>\n      <td>126220.0</td>\n      <td>356903.0</td>\n      <td>480611.0</td>\n      <td>0.261939</td>\n    </tr>\n    <tr>\n      <th>21</th>\n      <td>Sub1</td>\n      <td>T2</td>\n      <td>3.0</td>\n      <td>1.0</td>\n      <td>1.0</td>\n      <td>124535.0</td>\n      <td>88906.0</td>\n      <td>0.583463</td>\n      <td>124535.0</td>\n      <td>88906.0</td>\n      <td>642593.0</td>\n      <td>0.290958</td>\n    </tr>\n    <tr>\n      <th>24</th>\n      <td>Sub1</td>\n      <td>T2</td>\n      <td>3.0</td>\n      <td>2.0</td>\n      <td>1.0</td>\n      <td>313223.0</td>\n      <td>207944.0</td>\n      <td>0.601003</td>\n      <td>313223.0</td>\n      <td>207944.0</td>\n      <td>453905.0</td>\n      <td>0.642461</td>\n    </tr>\n    <tr>\n      <th>27</th>\n      <td>Sub1</td>\n      <td>T2</td>\n      <td>3.0</td>\n      <td>3.0</td>\n      <td>1.0</td>\n      <td>329358.0</td>\n      <td>153765.0</td>\n      <td>0.681727</td>\n      <td>329358.0</td>\n      <td>153765.0</td>\n      <td>437770.0</td>\n      <td>0.715301</td>\n    </tr>\n    <tr>\n      <th>22</th>\n      <td>Sub1</td>\n      <td>T2</td>\n      <td>3.0</td>\n      <td>1.0</td>\n      <td>2.0</td>\n      <td>21385.0</td>\n      <td>192056.0</td>\n      <td>0.100192</td>\n      <td>21385.0</td>\n      <td>192056.0</td>\n      <td>54473.0</td>\n      <td>0.159641</td>\n    </tr>\n    <tr>\n      <th>25</th>\n      <td>Sub1</td>\n      <td>T2</td>\n      <td>3.0</td>\n      <td>2.0</td>\n      <td>2.0</td>\n      <td>24289.0</td>\n      <td>496878.0</td>\n      <td>0.046605</td>\n      <td>24289.0</td>\n      <td>496878.0</td>\n      <td>51569.0</td>\n      <td>0.084817</td>\n    </tr>\n    <tr>\n      <th>28</th>\n      <td>Sub1</td>\n      <td>T2</td>\n      <td>3.0</td>\n      <td>3.0</td>\n      <td>2.0</td>\n      <td>30183.0</td>\n      <td>452940.0</td>\n      <td>0.062475</td>\n      <td>30183.0</td>\n      <td>452940.0</td>\n      <td>45675.0</td>\n      <td>0.114157</td>\n    </tr>\n    <tr>\n      <th>23</th>\n      <td>Sub1</td>\n      <td>T2</td>\n      <td>3.0</td>\n      <td>1.0</td>\n      <td>3.0</td>\n      <td>67521.0</td>\n      <td>145920.0</td>\n      <td>0.316345</td>\n      <td>67521.0</td>\n      <td>145920.0</td>\n      <td>307242.0</td>\n      <td>0.259356</td>\n    </tr>\n    <tr>\n      <th>26</th>\n      <td>Sub1</td>\n      <td>T2</td>\n      <td>3.0</td>\n      <td>2.0</td>\n      <td>3.0</td>\n      <td>183655.0</td>\n      <td>337512.0</td>\n      <td>0.352392</td>\n      <td>183655.0</td>\n      <td>337512.0</td>\n      <td>191108.0</td>\n      <td>0.515686</td>\n    </tr>\n    <tr>\n      <th>29</th>\n      <td>Sub1</td>\n      <td>T2</td>\n      <td>3.0</td>\n      <td>3.0</td>\n      <td>3.0</td>\n      <td>123582.0</td>\n      <td>359541.0</td>\n      <td>0.255798</td>\n      <td>123582.0</td>\n      <td>359541.0</td>\n      <td>251181.0</td>\n      <td>0.336596</td>\n    </tr>\n  </tbody>\n</table>\n</div>\n    <div class=\"colab-df-buttons\">\n\n  <div class=\"colab-df-container\">\n    <button class=\"colab-df-convert\" onclick=\"convertToInteractive('df-0debc713-4bdf-4e2f-a48d-79253f54a445')\"\n            title=\"Convert this dataframe to an interactive table.\"\n            style=\"display:none;\">\n\n  <svg xmlns=\"http://www.w3.org/2000/svg\" height=\"24px\" viewBox=\"0 -960 960 960\">\n    <path d=\"M120-120v-720h720v720H120Zm60-500h600v-160H180v160Zm220 220h160v-160H400v160Zm0 220h160v-160H400v160ZM180-400h160v-160H180v160Zm440 0h160v-160H620v160ZM180-180h160v-160H180v160Zm440 0h160v-160H620v160Z\"/>\n  </svg>\n    </button>\n\n  <style>\n    .colab-df-container {\n      display:flex;\n      gap: 12px;\n    }\n\n    .colab-df-convert {\n      background-color: #E8F0FE;\n      border: none;\n      border-radius: 50%;\n      cursor: pointer;\n      display: none;\n      fill: #1967D2;\n      height: 32px;\n      padding: 0 0 0 0;\n      width: 32px;\n    }\n\n    .colab-df-convert:hover {\n      background-color: #E2EBFA;\n      box-shadow: 0px 1px 2px rgba(60, 64, 67, 0.3), 0px 1px 3px 1px rgba(60, 64, 67, 0.15);\n      fill: #174EA6;\n    }\n\n    .colab-df-buttons div {\n      margin-bottom: 4px;\n    }\n\n    [theme=dark] .colab-df-convert {\n      background-color: #3B4455;\n      fill: #D2E3FC;\n    }\n\n    [theme=dark] .colab-df-convert:hover {\n      background-color: #434B5C;\n      box-shadow: 0px 1px 3px 1px rgba(0, 0, 0, 0.15);\n      filter: drop-shadow(0px 1px 2px rgba(0, 0, 0, 0.3));\n      fill: #FFFFFF;\n    }\n  </style>\n\n    <script>\n      const buttonEl =\n        document.querySelector('#df-0debc713-4bdf-4e2f-a48d-79253f54a445 button.colab-df-convert');\n      buttonEl.style.display =\n        google.colab.kernel.accessAllowed ? 'block' : 'none';\n\n      async function convertToInteractive(key) {\n        const element = document.querySelector('#df-0debc713-4bdf-4e2f-a48d-79253f54a445');\n        const dataTable =\n          await google.colab.kernel.invokeFunction('convertToInteractive',\n                                                    [key], {});\n        if (!dataTable) return;\n\n        const docLinkHtml = 'Like what you see? Visit the ' +\n          '<a target=\"_blank\" href=https://colab.research.google.com/notebooks/data_table.ipynb>data table notebook</a>'\n          + ' to learn more about interactive tables.';\n        element.innerHTML = '';\n        dataTable['output_type'] = 'display_data';\n        await google.colab.output.renderOutput(dataTable, element);\n        const docLink = document.createElement('div');\n        docLink.innerHTML = docLinkHtml;\n        element.appendChild(docLink);\n      }\n    </script>\n  </div>\n\n\n<div id=\"df-d908c6a8-fbef-4227-82d9-e846f6eec328\">\n  <button class=\"colab-df-quickchart\" onclick=\"quickchart('df-d908c6a8-fbef-4227-82d9-e846f6eec328')\"\n            title=\"Suggest charts\"\n            style=\"display:none;\">\n\n<svg xmlns=\"http://www.w3.org/2000/svg\" height=\"24px\"viewBox=\"0 0 24 24\"\n     width=\"24px\">\n    <g>\n        <path d=\"M19 3H5c-1.1 0-2 .9-2 2v14c0 1.1.9 2 2 2h14c1.1 0 2-.9 2-2V5c0-1.1-.9-2-2-2zM9 17H7v-7h2v7zm4 0h-2V7h2v10zm4 0h-2v-4h2v4z\"/>\n    </g>\n</svg>\n  </button>\n\n<style>\n  .colab-df-quickchart {\n      --bg-color: #E8F0FE;\n      --fill-color: #1967D2;\n      --hover-bg-color: #E2EBFA;\n      --hover-fill-color: #174EA6;\n      --disabled-fill-color: #AAA;\n      --disabled-bg-color: #DDD;\n  }\n\n  [theme=dark] .colab-df-quickchart {\n      --bg-color: #3B4455;\n      --fill-color: #D2E3FC;\n      --hover-bg-color: #434B5C;\n      --hover-fill-color: #FFFFFF;\n      --disabled-bg-color: #3B4455;\n      --disabled-fill-color: #666;\n  }\n\n  .colab-df-quickchart {\n    background-color: var(--bg-color);\n    border: none;\n    border-radius: 50%;\n    cursor: pointer;\n    display: none;\n    fill: var(--fill-color);\n    height: 32px;\n    padding: 0;\n    width: 32px;\n  }\n\n  .colab-df-quickchart:hover {\n    background-color: var(--hover-bg-color);\n    box-shadow: 0 1px 2px rgba(60, 64, 67, 0.3), 0 1px 3px 1px rgba(60, 64, 67, 0.15);\n    fill: var(--button-hover-fill-color);\n  }\n\n  .colab-df-quickchart-complete:disabled,\n  .colab-df-quickchart-complete:disabled:hover {\n    background-color: var(--disabled-bg-color);\n    fill: var(--disabled-fill-color);\n    box-shadow: none;\n  }\n\n  .colab-df-spinner {\n    border: 2px solid var(--fill-color);\n    border-color: transparent;\n    border-bottom-color: var(--fill-color);\n    animation:\n      spin 1s steps(1) infinite;\n  }\n\n  @keyframes spin {\n    0% {\n      border-color: transparent;\n      border-bottom-color: var(--fill-color);\n      border-left-color: var(--fill-color);\n    }\n    20% {\n      border-color: transparent;\n      border-left-color: var(--fill-color);\n      border-top-color: var(--fill-color);\n    }\n    30% {\n      border-color: transparent;\n      border-left-color: var(--fill-color);\n      border-top-color: var(--fill-color);\n      border-right-color: var(--fill-color);\n    }\n    40% {\n      border-color: transparent;\n      border-right-color: var(--fill-color);\n      border-top-color: var(--fill-color);\n    }\n    60% {\n      border-color: transparent;\n      border-right-color: var(--fill-color);\n    }\n    80% {\n      border-color: transparent;\n      border-right-color: var(--fill-color);\n      border-bottom-color: var(--fill-color);\n    }\n    90% {\n      border-color: transparent;\n      border-bottom-color: var(--fill-color);\n    }\n  }\n</style>\n\n  <script>\n    async function quickchart(key) {\n      const quickchartButtonEl =\n        document.querySelector('#' + key + ' button');\n      quickchartButtonEl.disabled = true;  // To prevent multiple clicks.\n      quickchartButtonEl.classList.add('colab-df-spinner');\n      try {\n        const charts = await google.colab.kernel.invokeFunction(\n            'suggestCharts', [key], {});\n      } catch (error) {\n        console.error('Error during call to suggestCharts:', error);\n      }\n      quickchartButtonEl.classList.remove('colab-df-spinner');\n      quickchartButtonEl.classList.add('colab-df-quickchart-complete');\n    }\n    (() => {\n      let quickchartButtonEl =\n        document.querySelector('#df-d908c6a8-fbef-4227-82d9-e846f6eec328 button');\n      quickchartButtonEl.style.display =\n        google.colab.kernel.accessAllowed ? 'block' : 'none';\n    })();\n  </script>\n</div>\n\n  <div id=\"id_94f3397b-d0cd-48a2-bfcd-152868a3864b\">\n    <style>\n      .colab-df-generate {\n        background-color: #E8F0FE;\n        border: none;\n        border-radius: 50%;\n        cursor: pointer;\n        display: none;\n        fill: #1967D2;\n        height: 32px;\n        padding: 0 0 0 0;\n        width: 32px;\n      }\n\n      .colab-df-generate:hover {\n        background-color: #E2EBFA;\n        box-shadow: 0px 1px 2px rgba(60, 64, 67, 0.3), 0px 1px 3px 1px rgba(60, 64, 67, 0.15);\n        fill: #174EA6;\n      }\n\n      [theme=dark] .colab-df-generate {\n        background-color: #3B4455;\n        fill: #D2E3FC;\n      }\n\n      [theme=dark] .colab-df-generate:hover {\n        background-color: #434B5C;\n        box-shadow: 0px 1px 3px 1px rgba(0, 0, 0, 0.15);\n        filter: drop-shadow(0px 1px 2px rgba(0, 0, 0, 0.3));\n        fill: #FFFFFF;\n      }\n    </style>\n    <button class=\"colab-df-generate\" onclick=\"generateWithVariable('df_sorted')\"\n            title=\"Generate code using this dataframe.\"\n            style=\"display:none;\">\n\n  <svg xmlns=\"http://www.w3.org/2000/svg\" height=\"24px\"viewBox=\"0 0 24 24\"\n       width=\"24px\">\n    <path d=\"M7,19H8.4L18.45,9,17,7.55,7,17.6ZM5,21V16.75L18.45,3.32a2,2,0,0,1,2.83,0l1.4,1.43a1.91,1.91,0,0,1,.58,1.4,1.91,1.91,0,0,1-.58,1.4L9.25,21ZM18.45,9,17,7.55Zm-12,3A5.31,5.31,0,0,0,4.9,8.1,5.31,5.31,0,0,0,1,6.5,5.31,5.31,0,0,0,4.9,4.9,5.31,5.31,0,0,0,6.5,1,5.31,5.31,0,0,0,8.1,4.9,5.31,5.31,0,0,0,12,6.5,5.46,5.46,0,0,0,6.5,12Z\"/>\n  </svg>\n    </button>\n    <script>\n      (() => {\n      const buttonEl =\n        document.querySelector('#id_94f3397b-d0cd-48a2-bfcd-152868a3864b button.colab-df-generate');\n      buttonEl.style.display =\n        google.colab.kernel.accessAllowed ? 'block' : 'none';\n\n      buttonEl.onclick = () => {\n        google.colab.notebook.generateWithVariable('df_sorted');\n      }\n      })();\n    </script>\n  </div>\n\n    </div>\n  </div>\n",
            "application/vnd.google.colaboratory.intrinsic+json": {
              "type": "dataframe",
              "variable_name": "df_sorted",
              "summary": "{\n  \"name\": \"df_sorted\",\n  \"rows\": 45,\n  \"fields\": [\n    {\n      \"column\": \"Subject\",\n      \"properties\": {\n        \"dtype\": \"category\",\n        \"num_unique_values\": 1,\n        \"samples\": [\n          \"Sub1\"\n        ],\n        \"semantic_type\": \"\",\n        \"description\": \"\"\n      }\n    },\n    {\n      \"column\": \"sequences\",\n      \"properties\": {\n        \"dtype\": \"category\",\n        \"num_unique_values\": 3,\n        \"samples\": [\n          \"FLAIR\"\n        ],\n        \"semantic_type\": \"\",\n        \"description\": \"\"\n      }\n    },\n    {\n      \"column\": \"k\",\n      \"properties\": {\n        \"dtype\": \"number\",\n        \"std\": 0.4954336943068623,\n        \"min\": 2.0,\n        \"max\": 3.0,\n        \"num_unique_values\": 2,\n        \"samples\": [\n          3.0\n        ],\n        \"semantic_type\": \"\",\n        \"description\": \"\"\n      }\n    },\n    {\n      \"column\": \"GT_Class\",\n      \"properties\": {\n        \"dtype\": \"number\",\n        \"std\": 0.8257228238447705,\n        \"min\": 1.0,\n        \"max\": 3.0,\n        \"num_unique_values\": 3,\n        \"samples\": [\n          1.0\n        ],\n        \"semantic_type\": \"\",\n        \"description\": \"\"\n      }\n    },\n    {\n      \"column\": \"Seg_Class\",\n      \"properties\": {\n        \"dtype\": \"number\",\n        \"std\": 0.7567874686642696,\n        \"min\": 1.0,\n        \"max\": 3.0,\n        \"num_unique_values\": 3,\n        \"samples\": [\n          1.0\n        ],\n        \"semantic_type\": \"\",\n        \"description\": \"\"\n      }\n    },\n    {\n      \"column\": \"TP_tpr\",\n      \"properties\": {\n        \"dtype\": \"number\",\n        \"std\": 162645.60123856578,\n        \"min\": 0.0,\n        \"max\": 483518.0,\n        \"num_unique_values\": 45,\n        \"samples\": [\n          21385.0\n        ],\n        \"semantic_type\": \"\",\n        \"description\": \"\"\n      }\n    },\n    {\n      \"column\": \"FN_tpr\",\n      \"properties\": {\n        \"dtype\": \"number\",\n        \"std\": 174044.73358066205,\n        \"min\": 323.0,\n        \"max\": 517602.0,\n        \"num_unique_values\": 45,\n        \"samples\": [\n          192056.0\n        ],\n        \"semantic_type\": \"\",\n        \"description\": \"\"\n      }\n    },\n    {\n      \"column\": \"TPR\",\n      \"properties\": {\n        \"dtype\": \"number\",\n        \"std\": 0.35077656402660295,\n        \"min\": 0.0,\n        \"max\": 0.9984867012429665,\n        \"num_unique_values\": 45,\n        \"samples\": [\n          0.10019162204075131\n        ],\n        \"semantic_type\": \"\",\n        \"description\": \"\"\n      }\n    },\n    {\n      \"column\": \"TP_dice\",\n      \"properties\": {\n        \"dtype\": \"number\",\n        \"std\": 162645.60123856578,\n        \"min\": 0.0,\n        \"max\": 483518.0,\n        \"num_unique_values\": 45,\n        \"samples\": [\n          21385.0\n        ],\n        \"semantic_type\": \"\",\n        \"description\": \"\"\n      }\n    },\n    {\n      \"column\": \"FN_dice\",\n      \"properties\": {\n        \"dtype\": \"number\",\n        \"std\": 174044.73358066205,\n        \"min\": 323.0,\n        \"max\": 517602.0,\n        \"num_unique_values\": 45,\n        \"samples\": [\n          192056.0\n        ],\n        \"semantic_type\": \"\",\n        \"description\": \"\"\n      }\n    },\n    {\n      \"column\": \"FP_dice\",\n      \"properties\": {\n        \"dtype\": \"number\",\n        \"std\": 242720.91772233543,\n        \"min\": 3772.0,\n        \"max\": 938665.0,\n        \"num_unique_values\": 45,\n        \"samples\": [\n          54473.0\n        ],\n        \"semantic_type\": \"\",\n        \"description\": \"\"\n      }\n    },\n    {\n      \"column\": \"Dice\",\n      \"properties\": {\n        \"dtype\": \"number\",\n        \"std\": 0.46553695035550813,\n        \"min\": 0.0,\n        \"max\": 1.6627161648438245,\n        \"num_unique_values\": 45,\n        \"samples\": [\n          0.15964078025037887\n        ],\n        \"semantic_type\": \"\",\n        \"description\": \"\"\n      }\n    }\n  ]\n}"
            }
          },
          "metadata": {}
        }
      ],
      "execution_count": null,
      "metadata": {
        "id": "L_44h6pLfJmB",
        "colab": {
          "base_uri": "https://localhost:8080/",
          "height": 1000
        },
        "outputId": "69785963-96ba-4a47-ad12-4c7404ba2bec"
      }
    },
    {
      "cell_type": "code",
      "source": [
        "df1 = df_sorted.copy()\n",
        "df2 = df_sorted.copy()\n",
        "\n",
        "\n",
        "# For TPR maximum\n",
        "df_tpr_max = df1.loc[df1.groupby(['Subject', 'sequences', 'k', 'Seg_Class'])['TPR'].idxmax()]\n",
        "\n",
        "# For Dice maximum\n",
        "df_dice_max = df2.loc[df2.groupby(['Subject', 'sequences', 'k', 'Seg_Class'])['Dice'].idxmax()]"
      ],
      "outputs": [],
      "execution_count": null,
      "metadata": {
        "id": "9kisptA4fJhB"
      }
    },
    {
      "cell_type": "code",
      "source": [
        "df_grouped = df_dice_max.groupby(['sequences', \"k\"])[['TPR', 'Dice']].mean()\n",
        "df_grouped.plot(kind='bar', stacked=False, figsize=(10, 6))\n",
        "plt.title('Average TP, FN, and FP Dice Scores by Sequence')\n",
        "plt.xlabel('Sequence')\n",
        "plt.ylabel('Score')\n",
        "plt.legend(title='Metric')\n",
        "plt.show()"
      ],
      "outputs": [
        {
          "output_type": "display_data",
          "data": {
            "text/plain": "<Figure size 1000x600 with 1 Axes>",
            "image/png": "[encoded data removed]"
          },
          "metadata": {}
        }
      ],
      "execution_count": null,
      "metadata": {
        "colab": {
          "base_uri": "https://localhost:8080/",
          "height": 631
        },
        "id": "EzibkX8SlElf",
        "outputId": "558756c4-d334-49f0-eb7a-41aa1104e948"
      }
    },
    {
      "cell_type": "code",
      "source": [
        "df_grouped"
      ],
      "outputs": [
        {
          "output_type": "execute_result",
          "execution_count": 55,
          "data": {
            "text/plain": "                    TPR      Dice\nsequences k                      \nFLAIR     2.0  0.615801  0.682714\n          3.0  0.533639  0.768618\nT1        2.0  0.455312  0.706948\n          3.0  0.453103  0.782169\nT2        2.0  0.502048  0.382532\n          3.0  0.352795  0.380348",
            "text/html": "\n  <div id=\"df-e0a6df4f-23a6-4fc8-a15f-cc79267d2bcd\" class=\"colab-df-container\">\n    <div>\n<style scoped>\n    .dataframe tbody tr th:only-of-type {\n        vertical-align: middle;\n    }\n\n    .dataframe tbody tr th {\n        vertical-align: top;\n    }\n\n    .dataframe thead th {\n        text-align: right;\n    }\n</style>\n<table border=\"1\" class=\"dataframe\">\n  <thead>\n    <tr style=\"text-align: right;\">\n      <th></th>\n      <th></th>\n      <th>TPR</th>\n      <th>Dice</th>\n    </tr>\n    <tr>\n      <th>sequences</th>\n      <th>k</th>\n      <th></th>\n      <th></th>\n    </tr>\n  </thead>\n  <tbody>\n    <tr>\n      <th rowspan=\"2\" valign=\"top\">FLAIR</th>\n      <th>2.0</th>\n      <td>0.615801</td>\n      <td>0.682714</td>\n    </tr>\n    <tr>\n      <th>3.0</th>\n      <td>0.533639</td>\n      <td>0.768618</td>\n    </tr>\n    <tr>\n      <th rowspan=\"2\" valign=\"top\">T1</th>\n      <th>2.0</th>\n      <td>0.455312</td>\n      <td>0.706948</td>\n    </tr>\n    <tr>\n      <th>3.0</th>\n      <td>0.453103</td>\n      <td>0.782169</td>\n    </tr>\n    <tr>\n      <th rowspan=\"2\" valign=\"top\">T2</th>\n      <th>2.0</th>\n      <td>0.502048</td>\n      <td>0.382532</td>\n    </tr>\n    <tr>\n      <th>3.0</th>\n      <td>0.352795</td>\n      <td>0.380348</td>\n    </tr>\n  </tbody>\n</table>\n</div>\n    <div class=\"colab-df-buttons\">\n\n  <div class=\"colab-df-container\">\n    <button class=\"colab-df-convert\" onclick=\"convertToInteractive('df-e0a6df4f-23a6-4fc8-a15f-cc79267d2bcd')\"\n            title=\"Convert this dataframe to an interactive table.\"\n            style=\"display:none;\">\n\n  <svg xmlns=\"http://www.w3.org/2000/svg\" height=\"24px\" viewBox=\"0 -960 960 960\">\n    <path d=\"M120-120v-720h720v720H120Zm60-500h600v-160H180v160Zm220 220h160v-160H400v160Zm0 220h160v-160H400v160ZM180-400h160v-160H180v160Zm440 0h160v-160H620v160ZM180-180h160v-160H180v160Zm440 0h160v-160H620v160Z\"/>\n  </svg>\n    </button>\n\n  <style>\n    .colab-df-container {\n      display:flex;\n      gap: 12px;\n    }\n\n    .colab-df-convert {\n      background-color: #E8F0FE;\n      border: none;\n      border-radius: 50%;\n      cursor: pointer;\n      display: none;\n      fill: #1967D2;\n      height: 32px;\n      padding: 0 0 0 0;\n      width: 32px;\n    }\n\n    .colab-df-convert:hover {\n      background-color: #E2EBFA;\n      box-shadow: 0px 1px 2px rgba(60, 64, 67, 0.3), 0px 1px 3px 1px rgba(60, 64, 67, 0.15);\n      fill: #174EA6;\n    }\n\n    .colab-df-buttons div {\n      margin-bottom: 4px;\n    }\n\n    [theme=dark] .colab-df-convert {\n      background-color: #3B4455;\n      fill: #D2E3FC;\n    }\n\n    [theme=dark] .colab-df-convert:hover {\n      background-color: #434B5C;\n      box-shadow: 0px 1px 3px 1px rgba(0, 0, 0, 0.15);\n      filter: drop-shadow(0px 1px 2px rgba(0, 0, 0, 0.3));\n      fill: #FFFFFF;\n    }\n  </style>\n\n    <script>\n      const buttonEl =\n        document.querySelector('#df-e0a6df4f-23a6-4fc8-a15f-cc79267d2bcd button.colab-df-convert');\n      buttonEl.style.display =\n        google.colab.kernel.accessAllowed ? 'block' : 'none';\n\n      async function convertToInteractive(key) {\n        const element = document.querySelector('#df-e0a6df4f-23a6-4fc8-a15f-cc79267d2bcd');\n        const dataTable =\n          await google.colab.kernel.invokeFunction('convertToInteractive',\n                                                    [key], {});\n        if (!dataTable) return;\n\n        const docLinkHtml = 'Like what you see? Visit the ' +\n          '<a target=\"_blank\" href=https://colab.research.google.com/notebooks/data_table.ipynb>data table notebook</a>'\n          + ' to learn more about interactive tables.';\n        element.innerHTML = '';\n        dataTable['output_type'] = 'display_data';\n        await google.colab.output.renderOutput(dataTable, element);\n        const docLink = document.createElement('div');\n        docLink.innerHTML = docLinkHtml;\n        element.appendChild(docLink);\n      }\n    </script>\n  </div>\n\n\n<div id=\"df-41001d33-ebb1-4be7-98ae-e52f9bca93df\">\n  <button class=\"colab-df-quickchart\" onclick=\"quickchart('df-41001d33-ebb1-4be7-98ae-e52f9bca93df')\"\n            title=\"Suggest charts\"\n            style=\"display:none;\">\n\n<svg xmlns=\"http://www.w3.org/2000/svg\" height=\"24px\"viewBox=\"0 0 24 24\"\n     width=\"24px\">\n    <g>\n        <path d=\"M19 3H5c-1.1 0-2 .9-2 2v14c0 1.1.9 2 2 2h14c1.1 0 2-.9 2-2V5c0-1.1-.9-2-2-2zM9 17H7v-7h2v7zm4 0h-2V7h2v10zm4 0h-2v-4h2v4z\"/>\n    </g>\n</svg>\n  </button>\n\n<style>\n  .colab-df-quickchart {\n      --bg-color: #E8F0FE;\n      --fill-color: #1967D2;\n      --hover-bg-color: #E2EBFA;\n      --hover-fill-color: #174EA6;\n      --disabled-fill-color: #AAA;\n      --disabled-bg-color: #DDD;\n  }\n\n  [theme=dark] .colab-df-quickchart {\n      --bg-color: #3B4455;\n      --fill-color: #D2E3FC;\n      --hover-bg-color: #434B5C;\n      --hover-fill-color: #FFFFFF;\n      --disabled-bg-color: #3B4455;\n      --disabled-fill-color: #666;\n  }\n\n  .colab-df-quickchart {\n    background-color: var(--bg-color);\n    border: none;\n    border-radius: 50%;\n    cursor: pointer;\n    display: none;\n    fill: var(--fill-color);\n    height: 32px;\n    padding: 0;\n    width: 32px;\n  }\n\n  .colab-df-quickchart:hover {\n    background-color: var(--hover-bg-color);\n    box-shadow: 0 1px 2px rgba(60, 64, 67, 0.3), 0 1px 3px 1px rgba(60, 64, 67, 0.15);\n    fill: var(--button-hover-fill-color);\n  }\n\n  .colab-df-quickchart-complete:disabled,\n  .colab-df-quickchart-complete:disabled:hover {\n    background-color: var(--disabled-bg-color);\n    fill: var(--disabled-fill-color);\n    box-shadow: none;\n  }\n\n  .colab-df-spinner {\n    border: 2px solid var(--fill-color);\n    border-color: transparent;\n    border-bottom-color: var(--fill-color);\n    animation:\n      spin 1s steps(1) infinite;\n  }\n\n  @keyframes spin {\n    0% {\n      border-color: transparent;\n      border-bottom-color: var(--fill-color);\n      border-left-color: var(--fill-color);\n    }\n    20% {\n      border-color: transparent;\n      border-left-color: var(--fill-color);\n      border-top-color: var(--fill-color);\n    }\n    30% {\n      border-color: transparent;\n      border-left-color: var(--fill-color);\n      border-top-color: var(--fill-color);\n      border-right-color: var(--fill-color);\n    }\n    40% {\n      border-color: transparent;\n      border-right-color: var(--fill-color);\n      border-top-color: var(--fill-color);\n    }\n    60% {\n      border-color: transparent;\n      border-right-color: var(--fill-color);\n    }\n    80% {\n      border-color: transparent;\n      border-right-color: var(--fill-color);\n      border-bottom-color: var(--fill-color);\n    }\n    90% {\n      border-color: transparent;\n      border-bottom-color: var(--fill-color);\n    }\n  }\n</style>\n\n  <script>\n    async function quickchart(key) {\n      const quickchartButtonEl =\n        document.querySelector('#' + key + ' button');\n      quickchartButtonEl.disabled = true;  // To prevent multiple clicks.\n      quickchartButtonEl.classList.add('colab-df-spinner');\n      try {\n        const charts = await google.colab.kernel.invokeFunction(\n            'suggestCharts', [key], {});\n      } catch (error) {\n        console.error('Error during call to suggestCharts:', error);\n      }\n      quickchartButtonEl.classList.remove('colab-df-spinner');\n      quickchartButtonEl.classList.add('colab-df-quickchart-complete');\n    }\n    (() => {\n      let quickchartButtonEl =\n        document.querySelector('#df-41001d33-ebb1-4be7-98ae-e52f9bca93df button');\n      quickchartButtonEl.style.display =\n        google.colab.kernel.accessAllowed ? 'block' : 'none';\n    })();\n  </script>\n</div>\n\n  <div id=\"id_3efd9289-b4fa-47b3-beba-c1c27f0fe245\">\n    <style>\n      .colab-df-generate {\n        background-color: #E8F0FE;\n        border: none;\n        border-radius: 50%;\n        cursor: pointer;\n        display: none;\n        fill: #1967D2;\n        height: 32px;\n        padding: 0 0 0 0;\n        width: 32px;\n      }\n\n      .colab-df-generate:hover {\n        background-color: #E2EBFA;\n        box-shadow: 0px 1px 2px rgba(60, 64, 67, 0.3), 0px 1px 3px 1px rgba(60, 64, 67, 0.15);\n        fill: #174EA6;\n      }\n\n      [theme=dark] .colab-df-generate {\n        background-color: #3B4455;\n        fill: #D2E3FC;\n      }\n\n      [theme=dark] .colab-df-generate:hover {\n        background-color: #434B5C;\n        box-shadow: 0px 1px 3px 1px rgba(0, 0, 0, 0.15);\n        filter: drop-shadow(0px 1px 2px rgba(0, 0, 0, 0.3));\n        fill: #FFFFFF;\n      }\n    </style>\n    <button class=\"colab-df-generate\" onclick=\"generateWithVariable('df_grouped')\"\n            title=\"Generate code using this dataframe.\"\n            style=\"display:none;\">\n\n  <svg xmlns=\"http://www.w3.org/2000/svg\" height=\"24px\"viewBox=\"0 0 24 24\"\n       width=\"24px\">\n    <path d=\"M7,19H8.4L18.45,9,17,7.55,7,17.6ZM5,21V16.75L18.45,3.32a2,2,0,0,1,2.83,0l1.4,1.43a1.91,1.91,0,0,1,.58,1.4,1.91,1.91,0,0,1-.58,1.4L9.25,21ZM18.45,9,17,7.55Zm-12,3A5.31,5.31,0,0,0,4.9,8.1,5.31,5.31,0,0,0,1,6.5,5.31,5.31,0,0,0,4.9,4.9,5.31,5.31,0,0,0,6.5,1,5.31,5.31,0,0,0,8.1,4.9,5.31,5.31,0,0,0,12,6.5,5.46,5.46,0,0,0,6.5,12Z\"/>\n  </svg>\n    </button>\n    <script>\n      (() => {\n      const buttonEl =\n        document.querySelector('#id_3efd9289-b4fa-47b3-beba-c1c27f0fe245 button.colab-df-generate');\n      buttonEl.style.display =\n        google.colab.kernel.accessAllowed ? 'block' : 'none';\n\n      buttonEl.onclick = () => {\n        google.colab.notebook.generateWithVariable('df_grouped');\n      }\n      })();\n    </script>\n  </div>\n\n    </div>\n  </div>\n",
            "application/vnd.google.colaboratory.intrinsic+json": {
              "type": "dataframe",
              "variable_name": "df_grouped",
              "summary": "{\n  \"name\": \"df_grouped\",\n  \"rows\": 6,\n  \"fields\": [\n    {\n      \"column\": \"TPR\",\n      \"properties\": {\n        \"dtype\": \"number\",\n        \"std\": 0.08847722637645765,\n        \"min\": 0.35279511530627605,\n        \"max\": 0.6158013980272955,\n        \"num_unique_values\": 6,\n        \"samples\": [\n          0.6158013980272955,\n          0.5336387862240355,\n          0.35279511530627605\n        ],\n        \"semantic_type\": \"\",\n        \"description\": \"\"\n      }\n    },\n    {\n      \"column\": \"Dice\",\n      \"properties\": {\n        \"dtype\": \"number\",\n        \"std\": 0.18636331384036037,\n        \"min\": 0.38034815683061346,\n        \"max\": 0.7821685425496802,\n        \"num_unique_values\": 6,\n        \"samples\": [\n          0.682713795686724,\n          0.7686177012801085,\n          0.38034815683061346\n        ],\n        \"semantic_type\": \"\",\n        \"description\": \"\"\n      }\n    }\n  ]\n}"
            }
          },
          "metadata": {}
        }
      ],
      "execution_count": null,
      "metadata": {
        "colab": {
          "base_uri": "https://localhost:8080/",
          "height": 269
        },
        "id": "H35UpLFblUil",
        "outputId": "358ffaf5-3b27-4a74-9765-a7ec4174aa42"
      }
    },
    {
      "cell_type": "code",
      "source": [
        "df_grouped.to_csv(\"/content/drive/MyDrive/model prediction AIMI/sample_output/average.csv\")"
      ],
      "outputs": [],
      "execution_count": null,
      "metadata": {
        "id": "n0N0plB6lUim"
      }
    },
    {
      "cell_type": "code",
      "source": [
        "# Violin plot comparing TPR distributions across different sequences\n",
        "sns.violinplot(data=df_tpr_max, x='sequences', y='TPR')\n",
        "\n",
        "# Add titles and labels\n",
        "plt.title('Distribution of TPR Across Sequences')\n",
        "plt.xlabel('Sequences')\n",
        "plt.ylabel('TPR')\n",
        "\n",
        "# Show the plot\n",
        "plt.show()\n"
      ],
      "outputs": [
        {
          "output_type": "display_data",
          "data": {
            "text/plain": "<Figure size 640x480 with 1 Axes>",
            "image/png": "[encoded data removed]"
          },
          "metadata": {}
        }
      ],
      "execution_count": null,
      "metadata": {
        "colab": {
          "base_uri": "https://localhost:8080/",
          "height": 472
        },
        "id": "pr8EDFo0lUim",
        "outputId": "ae4658a9-d9de-4072-875d-e7d1a9e6d2fb"
      }
    },
    {
      "cell_type": "code",
      "source": [
        "# Violin plot comparing TPR distributions across different sequences\n",
        "sns.violinplot(data=df_dice_max, x='sequences', y='Dice')\n",
        "\n",
        "# Add titles and labels\n",
        "plt.title('Distribution of Dice score Across Sequences')\n",
        "plt.xlabel('Sequences')\n",
        "plt.ylabel('Dice')\n",
        "\n",
        "# Show the plot\n",
        "plt.show()\n"
      ],
      "outputs": [
        {
          "output_type": "display_data",
          "data": {
            "text/plain": "<Figure size 640x480 with 1 Axes>",
            "image/png": "[encoded data removed]"
          },
          "metadata": {}
        }
      ],
      "execution_count": null,
      "metadata": {
        "colab": {
          "base_uri": "https://localhost:8080/",
          "height": 472
        },
        "id": "FKxbXKfRlUim",
        "outputId": "0ab57466-cd2a-4bd0-a84a-907786919cb6"
      }
    },
    {
      "cell_type": "code",
      "source": [],
      "outputs": [],
      "execution_count": null,
      "metadata": {
        "id": "Op7y8GGVlEFU"
      }
    },
    {
      "cell_type": "code",
      "source": [],
      "outputs": [],
      "execution_count": null,
      "metadata": {
        "id": "DmVz3F2olECh"
      }
    },
    {
      "cell_type": "code",
      "source": [],
      "outputs": [],
      "execution_count": null,
      "metadata": {
        "id": "qi5gFk-tlD-L"
      }
    },
    {
      "cell_type": "code",
      "source": [],
      "outputs": [],
      "execution_count": null,
      "metadata": {
        "id": "oaPAjqoYiPTN"
      }
    },
    {
      "cell_type": "code",
      "source": [],
      "outputs": [],
      "execution_count": null,
      "metadata": {
        "id": "p73rSkwNiPP8"
      }
    }
  ],
  "metadata": {
    "colab": {
      "provenance": [],
      "gpuType": "T4"
    },
    "kernelspec": {
      "display_name": "Python 3",
      "name": "python3"
    },
    "language_info": {
      "name": "python"
    },
    "widgets": {
      "application/vnd.jupyter.widget-state+json": {
        "ffb2323df8144237b519bcef5dc0c1df": {
          "model_module": "@jupyter-widgets/base",
          "model_name": "LayoutModel",
          "model_module_version": "1.2.0",
          "state": {
            "_view_module_version": "1.2.0",
            "_model_name": "LayoutModel",
            "grid_row": null,
            "_model_module": "@jupyter-widgets/base",
            "overflow": null,
            "max_height": null,
            "display": null,
            "grid_auto_flow": null,
            "grid_template_rows": null,
            "align_self": null,
            "grid_auto_columns": null,
            "width": null,
            "grid_area": null,
            "align_items": null,
            "_view_name": "LayoutView",
            "left": null,
            "height": null,
            "_view_module": "@jupyter-widgets/base",
            "object_position": null,
            "justify_content": null,
            "bottom": null,
            "max_width": null,
            "border": null,
            "margin": null,
            "order": null,
            "grid_column": null,
            "grid_auto_rows": null,
            "padding": null,
            "grid_template_columns": null,
            "justify_items": null,
            "object_fit": null,
            "visibility": null,
            "_view_count": null,
            "flex_flow": null,
            "min_height": null,
            "top": null,
            "min_width": null,
            "flex": null,
            "_model_module_version": "1.2.0",
            "grid_template_areas": null,
            "overflow_x": null,
            "right": null,
            "overflow_y": null,
            "grid_gap": null,
            "align_content": null
          }
        },
        "720417a5fbe446e7b445554b7e7771dd": {
          "model_module": "@jupyter-widgets/base",
          "model_name": "LayoutModel",
          "model_module_version": "1.2.0",
          "state": {
            "_view_module_version": "1.2.0",
            "_model_name": "LayoutModel",
            "grid_row": null,
            "_model_module": "@jupyter-widgets/base",
            "overflow": null,
            "max_height": null,
            "display": null,
            "grid_auto_flow": null,
            "grid_template_rows": null,
            "align_self": null,
            "grid_auto_columns": null,
            "width": null,
            "grid_area": null,
            "align_items": null,
            "_view_name": "LayoutView",
            "left": null,
            "height": null,
            "_view_module": "@jupyter-widgets/base",
            "object_position": null,
            "justify_content": null,
            "bottom": null,
            "max_width": null,
            "border": null,
            "margin": null,
            "order": null,
            "grid_column": null,
            "grid_auto_rows": null,
            "padding": null,
            "grid_template_columns": null,
            "justify_items": null,
            "object_fit": null,
            "visibility": null,
            "_view_count": null,
            "flex_flow": null,
            "min_height": null,
            "top": null,
            "min_width": null,
            "flex": null,
            "_model_module_version": "1.2.0",
            "grid_template_areas": null,
            "overflow_x": null,
            "right": null,
            "overflow_y": null,
            "grid_gap": null,
            "align_content": null
          }
        },
        "7b00657720754cd892707400c306178f": {
          "model_module": "@jupyter-widgets/base",
          "model_name": "LayoutModel",
          "model_module_version": "1.2.0",
          "state": {
            "_view_module_version": "1.2.0",
            "_model_name": "LayoutModel",
            "grid_row": null,
            "_model_module": "@jupyter-widgets/base",
            "overflow": null,
            "max_height": null,
            "display": null,
            "grid_auto_flow": null,
            "grid_template_rows": null,
            "align_self": null,
            "grid_auto_columns": null,
            "width": null,
            "grid_area": null,
            "align_items": null,
            "_view_name": "LayoutView",
            "left": null,
            "height": null,
            "_view_module": "@jupyter-widgets/base",
            "object_position": null,
            "justify_content": null,
            "bottom": null,
            "max_width": null,
            "border": null,
            "margin": null,
            "order": null,
            "grid_column": null,
            "grid_auto_rows": null,
            "padding": null,
            "grid_template_columns": null,
            "justify_items": null,
            "object_fit": null,
            "visibility": null,
            "_view_count": null,
            "flex_flow": null,
            "min_height": null,
            "top": null,
            "min_width": null,
            "flex": null,
            "_model_module_version": "1.2.0",
            "grid_template_areas": null,
            "overflow_x": null,
            "right": null,
            "overflow_y": null,
            "grid_gap": null,
            "align_content": null
          }
        },
        "4b1b8deced3047edb6988d91aaf8cb2e": {
          "model_module": "@jupyter-widgets/base",
          "model_name": "LayoutModel",
          "model_module_version": "1.2.0",
          "state": {
            "_view_module_version": "1.2.0",
            "_model_name": "LayoutModel",
            "grid_row": null,
            "_model_module": "@jupyter-widgets/base",
            "overflow": null,
            "max_height": null,
            "display": null,
            "grid_auto_flow": null,
            "grid_template_rows": null,
            "align_self": null,
            "grid_auto_columns": null,
            "width": null,
            "grid_area": null,
            "align_items": null,
            "_view_name": "LayoutView",
            "left": null,
            "height": null,
            "_view_module": "@jupyter-widgets/base",
            "object_position": null,
            "justify_content": null,
            "bottom": null,
            "max_width": null,
            "border": null,
            "margin": null,
            "order": null,
            "grid_column": null,
            "grid_auto_rows": null,
            "padding": null,
            "grid_template_columns": null,
            "justify_items": null,
            "object_fit": null,
            "visibility": null,
            "_view_count": null,
            "flex_flow": null,
            "min_height": null,
            "top": null,
            "min_width": null,
            "flex": null,
            "_model_module_version": "1.2.0",
            "grid_template_areas": null,
            "overflow_x": null,
            "right": null,
            "overflow_y": null,
            "grid_gap": null,
            "align_content": null
          }
        },
        "8ee0b4af0d3a4551adfceb1504d24bf9": {
          "model_module": "@jupyter-widgets/base",
          "model_name": "LayoutModel",
          "model_module_version": "1.2.0",
          "state": {
            "_view_module_version": "1.2.0",
            "_model_name": "LayoutModel",
            "grid_row": null,
            "_model_module": "@jupyter-widgets/base",
            "overflow": null,
            "max_height": null,
            "display": null,
            "grid_auto_flow": null,
            "grid_template_rows": null,
            "align_self": null,
            "grid_auto_columns": null,
            "width": null,
            "grid_area": null,
            "align_items": null,
            "_view_name": "LayoutView",
            "left": null,
            "height": null,
            "_view_module": "@jupyter-widgets/base",
            "object_position": null,
            "justify_content": null,
            "bottom": null,
            "max_width": null,
            "border": null,
            "margin": null,
            "order": null,
            "grid_column": null,
            "grid_auto_rows": null,
            "padding": null,
            "grid_template_columns": null,
            "justify_items": null,
            "object_fit": null,
            "visibility": null,
            "_view_count": null,
            "flex_flow": null,
            "min_height": null,
            "top": null,
            "min_width": null,
            "flex": null,
            "_model_module_version": "1.2.0",
            "grid_template_areas": null,
            "overflow_x": null,
            "right": null,
            "overflow_y": null,
            "grid_gap": null,
            "align_content": null
          }
        },
        "a9de9c6998fa4985a1fce466b7facaa8": {
          "model_module": "@jupyter-widgets/base",
          "model_name": "LayoutModel",
          "model_module_version": "1.2.0",
          "state": {
            "_view_module_version": "1.2.0",
            "_model_name": "LayoutModel",
            "grid_row": null,
            "_model_module": "@jupyter-widgets/base",
            "overflow": null,
            "max_height": null,
            "display": null,
            "grid_auto_flow": null,
            "grid_template_rows": null,
            "align_self": null,
            "grid_auto_columns": null,
            "width": null,
            "grid_area": null,
            "align_items": null,
            "_view_name": "LayoutView",
            "left": null,
            "height": null,
            "_view_module": "@jupyter-widgets/base",
            "object_position": null,
            "justify_content": null,
            "bottom": null,
            "max_width": null,
            "border": null,
            "margin": null,
            "order": null,
            "grid_column": null,
            "grid_auto_rows": null,
            "padding": null,
            "grid_template_columns": null,
            "justify_items": null,
            "object_fit": null,
            "visibility": null,
            "_view_count": null,
            "flex_flow": null,
            "min_height": null,
            "top": null,
            "min_width": null,
            "flex": null,
            "_model_module_version": "1.2.0",
            "grid_template_areas": null,
            "overflow_x": null,
            "right": null,
            "overflow_y": null,
            "grid_gap": null,
            "align_content": null
          }
        },
        "d48492836e29474791db5f69d783641b": {
          "model_module": "@jupyter-widgets/controls",
          "model_name": "ProgressStyleModel",
          "model_module_version": "1.5.0",
          "state": {
            "_view_module_version": "1.2.0",
            "_model_name": "ProgressStyleModel",
            "_model_module": "@jupyter-widgets/controls",
            "description_width": "",
            "_view_name": "StyleView",
            "_view_module": "@jupyter-widgets/base",
            "_view_count": null,
            "bar_color": null,
            "_model_module_version": "1.5.0"
          }
        },
        "303379c97bf64e3087aa9fa8170a40f6": {
          "model_module": "@jupyter-widgets/controls",
          "model_name": "DescriptionStyleModel",
          "model_module_version": "1.5.0",
          "state": {
            "_model_module": "@jupyter-widgets/controls",
            "_model_module_version": "1.5.0",
            "_model_name": "DescriptionStyleModel",
            "_view_count": null,
            "_view_module": "@jupyter-widgets/base",
            "_view_module_version": "1.2.0",
            "_view_name": "StyleView",
            "description_width": ""
          }
        },
        "0aff0ae1ff81428f9148b2ad87db4834": {
          "model_module": "@jupyter-widgets/base",
          "model_name": "LayoutModel",
          "model_module_version": "1.2.0",
          "state": {
            "_view_module_version": "1.2.0",
            "_model_name": "LayoutModel",
            "grid_row": null,
            "_model_module": "@jupyter-widgets/base",
            "overflow": null,
            "max_height": null,
            "display": null,
            "grid_auto_flow": null,
            "grid_template_rows": null,
            "align_self": null,
            "grid_auto_columns": null,
            "width": null,
            "grid_area": null,
            "align_items": null,
            "_view_name": "LayoutView",
            "left": null,
            "height": null,
            "_view_module": "@jupyter-widgets/base",
            "object_position": null,
            "justify_content": null,
            "bottom": null,
            "max_width": null,
            "border": null,
            "margin": null,
            "order": null,
            "grid_column": null,
            "grid_auto_rows": null,
            "padding": null,
            "grid_template_columns": null,
            "justify_items": null,
            "object_fit": null,
            "visibility": null,
            "_view_count": null,
            "flex_flow": null,
            "min_height": null,
            "top": null,
            "min_width": null,
            "flex": null,
            "_model_module_version": "1.2.0",
            "grid_template_areas": null,
            "overflow_x": null,
            "right": null,
            "overflow_y": null,
            "grid_gap": null,
            "align_content": null
          }
        },
        "974e4228f8d342a988dbd1f0205b9c3d": {
          "model_module": "@jupyter-widgets/base",
          "model_name": "LayoutModel",
          "model_module_version": "1.2.0",
          "state": {
            "_view_module_version": "1.2.0",
            "_model_name": "LayoutModel",
            "grid_row": null,
            "_model_module": "@jupyter-widgets/base",
            "overflow": null,
            "max_height": null,
            "display": null,
            "grid_auto_flow": null,
            "grid_template_rows": null,
            "align_self": null,
            "grid_auto_columns": null,
            "width": null,
            "grid_area": null,
            "align_items": null,
            "_view_name": "LayoutView",
            "left": null,
            "height": null,
            "_view_module": "@jupyter-widgets/base",
            "object_position": null,
            "justify_content": null,
            "bottom": null,
            "max_width": null,
            "border": null,
            "margin": null,
            "order": null,
            "grid_column": null,
            "grid_auto_rows": null,
            "padding": null,
            "grid_template_columns": null,
            "justify_items": null,
            "object_fit": null,
            "visibility": null,
            "_view_count": null,
            "flex_flow": null,
            "min_height": null,
            "top": null,
            "min_width": null,
            "flex": null,
            "_model_module_version": "1.2.0",
            "grid_template_areas": null,
            "overflow_x": null,
            "right": null,
            "overflow_y": null,
            "grid_gap": null,
            "align_content": null
          }
        },
        "5cc78a717051441f8aa67b5395411b17": {
          "model_module": "@jupyter-widgets/controls",
          "model_name": "HTMLModel",
          "model_module_version": "1.5.0",
          "state": {
            "_view_module_version": "1.5.0",
            "description_tooltip": null,
            "_model_name": "HTMLModel",
            "_model_module": "@jupyter-widgets/controls",
            "_view_name": "HTMLView",
            "_view_module": "@jupyter-widgets/controls",
            "_dom_classes": [],
            "layout": "IPY_MODEL_720417a5fbe446e7b445554b7e7771dd",
            "value": "100%",
            "style": "IPY_MODEL_7c1ba7cb437f4de9bd269eb93bf65a94",
            "placeholder": "​",
            "_view_count": null,
            "_model_module_version": "1.5.0",
            "description": ""
          }
        },
        "ac13eaabcf9840cdad0c8e291d2d074d": {
          "model_module": "@jupyter-widgets/controls",
          "model_name": "FloatProgressModel",
          "model_module_version": "1.5.0",
          "state": {
            "_view_module_version": "1.5.0",
            "description_tooltip": null,
            "_model_name": "FloatProgressModel",
            "_model_module": "@jupyter-widgets/controls",
            "max": 20,
            "bar_style": "success",
            "_view_name": "ProgressView",
            "_view_module": "@jupyter-widgets/controls",
            "_dom_classes": [],
            "layout": "IPY_MODEL_1f033f6940f34e119bce3094fadda651",
            "orientation": "horizontal",
            "value": 20,
            "style": "IPY_MODEL_79ceb58b603b4e5495785ba4fec11008",
            "min": 0,
            "_view_count": null,
            "_model_module_version": "1.5.0",
            "description": ""
          }
        },
        "f6b68889aac544b6a079308969e73c29": {
          "model_module": "@jupyter-widgets/controls",
          "model_name": "ProgressStyleModel",
          "model_module_version": "1.5.0",
          "state": {
            "_view_module_version": "1.2.0",
            "_model_name": "ProgressStyleModel",
            "_model_module": "@jupyter-widgets/controls",
            "description_width": "",
            "_view_name": "StyleView",
            "_view_module": "@jupyter-widgets/base",
            "_view_count": null,
            "bar_color": null,
            "_model_module_version": "1.5.0"
          }
        },
        "7b66ddee8f7647439bee59cab72c50dd": {
          "model_module": "@jupyter-widgets/controls",
          "model_name": "HBoxModel",
          "model_module_version": "1.5.0",
          "state": {
            "_view_module_version": "1.5.0",
            "_model_name": "HBoxModel",
            "_model_module": "@jupyter-widgets/controls",
            "_view_name": "HBoxView",
            "_view_module": "@jupyter-widgets/controls",
            "_dom_classes": [],
            "layout": "IPY_MODEL_af7e7748e7ba49afb3d98211cc287f68",
            "_view_count": null,
            "_model_module_version": "1.5.0",
            "box_style": "",
            "children": [
              "IPY_MODEL_d18baa054daf40a6a4f5648cd33a4669",
              "IPY_MODEL_7410463dfcad46b58ef418cdfec8ec87",
              "IPY_MODEL_885ad1b4ef8b41eeb437b43b6f037ee2"
            ]
          }
        },
        "96e337bae58440ea9d38c0783599a016": {
          "model_module": "@jupyter-widgets/controls",
          "model_name": "HTMLModel",
          "model_module_version": "1.5.0",
          "state": {
            "_view_module_version": "1.5.0",
            "description_tooltip": null,
            "_model_name": "HTMLModel",
            "_model_module": "@jupyter-widgets/controls",
            "_view_name": "HTMLView",
            "_view_module": "@jupyter-widgets/controls",
            "_dom_classes": [],
            "layout": "IPY_MODEL_b9034c1819ee432d88a8d1308aada2a0",
            "value": " 20/20 [05:07&lt;00:00, 15.24s/it]",
            "style": "IPY_MODEL_38ef87c9110649bfb0c62eeb2320420d",
            "placeholder": "​",
            "_view_count": null,
            "_model_module_version": "1.5.0",
            "description": ""
          }
        },
        "4422fe215a6042ebb008157ef51bf7e4": {
          "model_module": "@jupyter-widgets/controls",
          "model_name": "DescriptionStyleModel",
          "model_module_version": "1.5.0",
          "state": {
            "_model_module": "@jupyter-widgets/controls",
            "_model_module_version": "1.5.0",
            "_model_name": "DescriptionStyleModel",
            "_view_count": null,
            "_view_module": "@jupyter-widgets/base",
            "_view_module_version": "1.2.0",
            "_view_name": "StyleView",
            "description_width": ""
          }
        },
        "2f950bfc7ee54caaa3ccdf4f52c09e77": {
          "model_module": "@jupyter-widgets/base",
          "model_name": "LayoutModel",
          "model_module_version": "1.2.0",
          "state": {
            "_view_module_version": "1.2.0",
            "_model_name": "LayoutModel",
            "grid_row": null,
            "_model_module": "@jupyter-widgets/base",
            "overflow": null,
            "max_height": null,
            "display": null,
            "grid_auto_flow": null,
            "grid_template_rows": null,
            "align_self": null,
            "grid_auto_columns": null,
            "width": null,
            "grid_area": null,
            "align_items": null,
            "_view_name": "LayoutView",
            "left": null,
            "height": null,
            "_view_module": "@jupyter-widgets/base",
            "object_position": null,
            "justify_content": null,
            "bottom": null,
            "max_width": null,
            "border": null,
            "margin": null,
            "order": null,
            "grid_column": null,
            "grid_auto_rows": null,
            "padding": null,
            "grid_template_columns": null,
            "justify_items": null,
            "object_fit": null,
            "visibility": null,
            "_view_count": null,
            "flex_flow": null,
            "min_height": null,
            "top": null,
            "min_width": null,
            "flex": null,
            "_model_module_version": "1.2.0",
            "grid_template_areas": null,
            "overflow_x": null,
            "right": null,
            "overflow_y": null,
            "grid_gap": null,
            "align_content": null
          }
        },
        "b190c349d94142f7aace2b80b00d6644": {
          "model_module": "@jupyter-widgets/controls",
          "model_name": "DescriptionStyleModel",
          "model_module_version": "1.5.0",
          "state": {
            "_model_module": "@jupyter-widgets/controls",
            "_model_module_version": "1.5.0",
            "_model_name": "DescriptionStyleModel",
            "_view_count": null,
            "_view_module": "@jupyter-widgets/base",
            "_view_module_version": "1.2.0",
            "_view_name": "StyleView",
            "description_width": ""
          }
        },
        "d67d7e7ddd2540d7979a01e086be8b54": {
          "model_module": "@jupyter-widgets/controls",
          "model_name": "DescriptionStyleModel",
          "model_module_version": "1.5.0",
          "state": {
            "_model_module": "@jupyter-widgets/controls",
            "_model_module_version": "1.5.0",
            "_model_name": "DescriptionStyleModel",
            "_view_count": null,
            "_view_module": "@jupyter-widgets/base",
            "_view_module_version": "1.2.0",
            "_view_name": "StyleView",
            "description_width": ""
          }
        },
        "3c336e06a6904a55bd946c6772997925": {
          "model_module": "@jupyter-widgets/base",
          "model_name": "LayoutModel",
          "model_module_version": "1.2.0",
          "state": {
            "_view_module_version": "1.2.0",
            "_model_name": "LayoutModel",
            "grid_row": null,
            "_model_module": "@jupyter-widgets/base",
            "overflow": null,
            "max_height": null,
            "display": null,
            "grid_auto_flow": null,
            "grid_template_rows": null,
            "align_self": null,
            "grid_auto_columns": null,
            "width": null,
            "grid_area": null,
            "align_items": null,
            "_view_name": "LayoutView",
            "left": null,
            "height": null,
            "_view_module": "@jupyter-widgets/base",
            "object_position": null,
            "justify_content": null,
            "bottom": null,
            "max_width": null,
            "border": null,
            "margin": null,
            "order": null,
            "grid_column": null,
            "grid_auto_rows": null,
            "padding": null,
            "grid_template_columns": null,
            "justify_items": null,
            "object_fit": null,
            "visibility": null,
            "_view_count": null,
            "flex_flow": null,
            "min_height": null,
            "top": null,
            "min_width": null,
            "flex": null,
            "_model_module_version": "1.2.0",
            "grid_template_areas": null,
            "overflow_x": null,
            "right": null,
            "overflow_y": null,
            "grid_gap": null,
            "align_content": null
          }
        },
        "af7e7748e7ba49afb3d98211cc287f68": {
          "model_module": "@jupyter-widgets/base",
          "model_name": "LayoutModel",
          "model_module_version": "1.2.0",
          "state": {
            "_view_module_version": "1.2.0",
            "_model_name": "LayoutModel",
            "grid_row": null,
            "_model_module": "@jupyter-widgets/base",
            "overflow": null,
            "max_height": null,
            "display": null,
            "grid_auto_flow": null,
            "grid_template_rows": null,
            "align_self": null,
            "grid_auto_columns": null,
            "width": null,
            "grid_area": null,
            "align_items": null,
            "_view_name": "LayoutView",
            "left": null,
            "height": null,
            "_view_module": "@jupyter-widgets/base",
            "object_position": null,
            "justify_content": null,
            "bottom": null,
            "max_width": null,
            "border": null,
            "margin": null,
            "order": null,
            "grid_column": null,
            "grid_auto_rows": null,
            "padding": null,
            "grid_template_columns": null,
            "justify_items": null,
            "object_fit": null,
            "visibility": null,
            "_view_count": null,
            "flex_flow": null,
            "min_height": null,
            "top": null,
            "min_width": null,
            "flex": null,
            "_model_module_version": "1.2.0",
            "grid_template_areas": null,
            "overflow_x": null,
            "right": null,
            "overflow_y": null,
            "grid_gap": null,
            "align_content": null
          }
        },
        "a34be677ee744ae4b62af98bbd3a4bef": {
          "model_module": "@jupyter-widgets/controls",
          "model_name": "HBoxModel",
          "model_module_version": "1.5.0",
          "state": {
            "_view_module_version": "1.5.0",
            "_model_name": "HBoxModel",
            "_model_module": "@jupyter-widgets/controls",
            "_view_name": "HBoxView",
            "_view_module": "@jupyter-widgets/controls",
            "_dom_classes": [],
            "layout": "IPY_MODEL_8ee0b4af0d3a4551adfceb1504d24bf9",
            "_view_count": null,
            "_model_module_version": "1.5.0",
            "box_style": "",
            "children": [
              "IPY_MODEL_5cc78a717051441f8aa67b5395411b17",
              "IPY_MODEL_4f40d38ba3e247a996ef4ab0e3cc16ef",
              "IPY_MODEL_a12c8b604fa24b4f8e29c8adbeafa42a"
            ]
          }
        },
        "65b6bf46608047e6854953bc4c5b51c4": {
          "model_module": "@jupyter-widgets/controls",
          "model_name": "FloatProgressModel",
          "model_module_version": "1.5.0",
          "state": {
            "_view_module_version": "1.5.0",
            "description_tooltip": null,
            "_model_name": "FloatProgressModel",
            "_model_module": "@jupyter-widgets/controls",
            "max": 3,
            "bar_style": "success",
            "_view_name": "ProgressView",
            "_view_module": "@jupyter-widgets/controls",
            "_dom_classes": [],
            "layout": "IPY_MODEL_2f950bfc7ee54caaa3ccdf4f52c09e77",
            "orientation": "horizontal",
            "value": 3,
            "style": "IPY_MODEL_d48492836e29474791db5f69d783641b",
            "min": 0,
            "_view_count": null,
            "_model_module_version": "1.5.0",
            "description": ""
          }
        },
        "2d7419823cb444949c1b259594cb5c60": {
          "model_module": "@jupyter-widgets/base",
          "model_name": "LayoutModel",
          "model_module_version": "1.2.0",
          "state": {
            "_view_module_version": "1.2.0",
            "_model_name": "LayoutModel",
            "grid_row": null,
            "_model_module": "@jupyter-widgets/base",
            "overflow": null,
            "max_height": null,
            "display": null,
            "grid_auto_flow": null,
            "grid_template_rows": null,
            "align_self": null,
            "grid_auto_columns": null,
            "width": null,
            "grid_area": null,
            "align_items": null,
            "_view_name": "LayoutView",
            "left": null,
            "height": null,
            "_view_module": "@jupyter-widgets/base",
            "object_position": null,
            "justify_content": null,
            "bottom": null,
            "max_width": null,
            "border": null,
            "margin": null,
            "order": null,
            "grid_column": null,
            "grid_auto_rows": null,
            "padding": null,
            "grid_template_columns": null,
            "justify_items": null,
            "object_fit": null,
            "visibility": null,
            "_view_count": null,
            "flex_flow": null,
            "min_height": null,
            "top": null,
            "min_width": null,
            "flex": null,
            "_model_module_version": "1.2.0",
            "grid_template_areas": null,
            "overflow_x": null,
            "right": null,
            "overflow_y": null,
            "grid_gap": null,
            "align_content": null
          }
        },
        "49a418ee43ab493983535c918509a9cf": {
          "model_module": "@jupyter-widgets/base",
          "model_name": "LayoutModel",
          "model_module_version": "1.2.0",
          "state": {
            "_view_module_version": "1.2.0",
            "_model_name": "LayoutModel",
            "grid_row": null,
            "_model_module": "@jupyter-widgets/base",
            "overflow": null,
            "max_height": null,
            "display": null,
            "grid_auto_flow": null,
            "grid_template_rows": null,
            "align_self": null,
            "grid_auto_columns": null,
            "width": null,
            "grid_area": null,
            "align_items": null,
            "_view_name": "LayoutView",
            "left": null,
            "height": null,
            "_view_module": "@jupyter-widgets/base",
            "object_position": null,
            "justify_content": null,
            "bottom": null,
            "max_width": null,
            "border": null,
            "margin": null,
            "order": null,
            "grid_column": null,
            "grid_auto_rows": null,
            "padding": null,
            "grid_template_columns": null,
            "justify_items": null,
            "object_fit": null,
            "visibility": null,
            "_view_count": null,
            "flex_flow": null,
            "min_height": null,
            "top": null,
            "min_width": null,
            "flex": null,
            "_model_module_version": "1.2.0",
            "grid_template_areas": null,
            "overflow_x": null,
            "right": null,
            "overflow_y": null,
            "grid_gap": null,
            "align_content": null
          }
        },
        "ac46171ab13f4f4c8ecbc0e3b1b73731": {
          "model_module": "@jupyter-widgets/controls",
          "model_name": "DescriptionStyleModel",
          "model_module_version": "1.5.0",
          "state": {
            "_model_module": "@jupyter-widgets/controls",
            "_model_module_version": "1.5.0",
            "_model_name": "DescriptionStyleModel",
            "_view_count": null,
            "_view_module": "@jupyter-widgets/base",
            "_view_module_version": "1.2.0",
            "_view_name": "StyleView",
            "description_width": ""
          }
        },
        "2018aa76ae3843b39bd9fa9a9de1cf2d": {
          "model_module": "@jupyter-widgets/controls",
          "model_name": "HTMLModel",
          "model_module_version": "1.5.0",
          "state": {
            "_view_module_version": "1.5.0",
            "description_tooltip": null,
            "_model_name": "HTMLModel",
            "_model_module": "@jupyter-widgets/controls",
            "_view_name": "HTMLView",
            "_view_module": "@jupyter-widgets/controls",
            "_dom_classes": [],
            "layout": "IPY_MODEL_66d7e33c84d04c72ac25c2fe779bf860",
            "value": " 20/20 [03:46&lt;00:00, 10.73s/it]",
            "style": "IPY_MODEL_de532c25555a4116b16827002e604fc8",
            "placeholder": "​",
            "_view_count": null,
            "_model_module_version": "1.5.0",
            "description": ""
          }
        },
        "bd23b72a6f6f42b6b8534d06da8e1e09": {
          "model_module": "@jupyter-widgets/controls",
          "model_name": "HTMLModel",
          "model_module_version": "1.5.0",
          "state": {
            "_view_module_version": "1.5.0",
            "description_tooltip": null,
            "_model_name": "HTMLModel",
            "_model_module": "@jupyter-widgets/controls",
            "_view_name": "HTMLView",
            "_view_module": "@jupyter-widgets/controls",
            "_dom_classes": [],
            "layout": "IPY_MODEL_5afbd84110914c34aad5546075e62ee0",
            "value": "100%",
            "style": "IPY_MODEL_82628fc20b8b45f8b4af32286467b5fd",
            "placeholder": "​",
            "_view_count": null,
            "_model_module_version": "1.5.0",
            "description": ""
          }
        },
        "5e65fa14ee8844e2b24a97ae00365abd": {
          "model_module": "@jupyter-widgets/controls",
          "model_name": "DescriptionStyleModel",
          "model_module_version": "1.5.0",
          "state": {
            "_model_module": "@jupyter-widgets/controls",
            "_model_module_version": "1.5.0",
            "_model_name": "DescriptionStyleModel",
            "_view_count": null,
            "_view_module": "@jupyter-widgets/base",
            "_view_module_version": "1.2.0",
            "_view_name": "StyleView",
            "description_width": ""
          }
        },
        "eb4104c65ac94886ac2b2899e5969b08": {
          "model_module": "@jupyter-widgets/controls",
          "model_name": "ProgressStyleModel",
          "model_module_version": "1.5.0",
          "state": {
            "_view_module_version": "1.2.0",
            "_model_name": "ProgressStyleModel",
            "_model_module": "@jupyter-widgets/controls",
            "description_width": "",
            "_view_name": "StyleView",
            "_view_module": "@jupyter-widgets/base",
            "_view_count": null,
            "bar_color": null,
            "_model_module_version": "1.5.0"
          }
        },
        "66d7e33c84d04c72ac25c2fe779bf860": {
          "model_module": "@jupyter-widgets/base",
          "model_name": "LayoutModel",
          "model_module_version": "1.2.0",
          "state": {
            "_view_module_version": "1.2.0",
            "_model_name": "LayoutModel",
            "grid_row": null,
            "_model_module": "@jupyter-widgets/base",
            "overflow": null,
            "max_height": null,
            "display": null,
            "grid_auto_flow": null,
            "grid_template_rows": null,
            "align_self": null,
            "grid_auto_columns": null,
            "width": null,
            "grid_area": null,
            "align_items": null,
            "_view_name": "LayoutView",
            "left": null,
            "height": null,
            "_view_module": "@jupyter-widgets/base",
            "object_position": null,
            "justify_content": null,
            "bottom": null,
            "max_width": null,
            "border": null,
            "margin": null,
            "order": null,
            "grid_column": null,
            "grid_auto_rows": null,
            "padding": null,
            "grid_template_columns": null,
            "justify_items": null,
            "object_fit": null,
            "visibility": null,
            "_view_count": null,
            "flex_flow": null,
            "min_height": null,
            "top": null,
            "min_width": null,
            "flex": null,
            "_model_module_version": "1.2.0",
            "grid_template_areas": null,
            "overflow_x": null,
            "right": null,
            "overflow_y": null,
            "grid_gap": null,
            "align_content": null
          }
        },
        "de532c25555a4116b16827002e604fc8": {
          "model_module": "@jupyter-widgets/controls",
          "model_name": "DescriptionStyleModel",
          "model_module_version": "1.5.0",
          "state": {
            "_model_module": "@jupyter-widgets/controls",
            "_model_module_version": "1.5.0",
            "_model_name": "DescriptionStyleModel",
            "_view_count": null,
            "_view_module": "@jupyter-widgets/base",
            "_view_module_version": "1.2.0",
            "_view_name": "StyleView",
            "description_width": ""
          }
        },
        "1b85fab11d04424c993f02f7e9bc691b": {
          "model_module": "@jupyter-widgets/base",
          "model_name": "LayoutModel",
          "model_module_version": "1.2.0",
          "state": {
            "_view_module_version": "1.2.0",
            "_model_name": "LayoutModel",
            "grid_row": null,
            "_model_module": "@jupyter-widgets/base",
            "overflow": null,
            "max_height": null,
            "display": null,
            "grid_auto_flow": null,
            "grid_template_rows": null,
            "align_self": null,
            "grid_auto_columns": null,
            "width": null,
            "grid_area": null,
            "align_items": null,
            "_view_name": "LayoutView",
            "left": null,
            "height": null,
            "_view_module": "@jupyter-widgets/base",
            "object_position": null,
            "justify_content": null,
            "bottom": null,
            "max_width": null,
            "border": null,
            "margin": null,
            "order": null,
            "grid_column": null,
            "grid_auto_rows": null,
            "padding": null,
            "grid_template_columns": null,
            "justify_items": null,
            "object_fit": null,
            "visibility": null,
            "_view_count": null,
            "flex_flow": null,
            "min_height": null,
            "top": null,
            "min_width": null,
            "flex": null,
            "_model_module_version": "1.2.0",
            "grid_template_areas": null,
            "overflow_x": null,
            "right": null,
            "overflow_y": null,
            "grid_gap": null,
            "align_content": null
          }
        },
        "79ceb58b603b4e5495785ba4fec11008": {
          "model_module": "@jupyter-widgets/controls",
          "model_name": "ProgressStyleModel",
          "model_module_version": "1.5.0",
          "state": {
            "_view_module_version": "1.2.0",
            "_model_name": "ProgressStyleModel",
            "_model_module": "@jupyter-widgets/controls",
            "description_width": "",
            "_view_name": "StyleView",
            "_view_module": "@jupyter-widgets/base",
            "_view_count": null,
            "bar_color": null,
            "_model_module_version": "1.5.0"
          }
        },
        "554ea4782228432085ef2f51e8472d4a": {
          "model_module": "@jupyter-widgets/controls",
          "model_name": "DescriptionStyleModel",
          "model_module_version": "1.5.0",
          "state": {
            "_model_module": "@jupyter-widgets/controls",
            "_model_module_version": "1.5.0",
            "_model_name": "DescriptionStyleModel",
            "_view_count": null,
            "_view_module": "@jupyter-widgets/base",
            "_view_module_version": "1.2.0",
            "_view_name": "StyleView",
            "description_width": ""
          }
        },
        "38ef87c9110649bfb0c62eeb2320420d": {
          "model_module": "@jupyter-widgets/controls",
          "model_name": "DescriptionStyleModel",
          "model_module_version": "1.5.0",
          "state": {
            "_model_module": "@jupyter-widgets/controls",
            "_model_module_version": "1.5.0",
            "_model_name": "DescriptionStyleModel",
            "_view_count": null,
            "_view_module": "@jupyter-widgets/base",
            "_view_module_version": "1.2.0",
            "_view_name": "StyleView",
            "description_width": ""
          }
        },
        "4001dd06f82040a4af2fa29aa517e58f": {
          "model_module": "@jupyter-widgets/controls",
          "model_name": "HBoxModel",
          "model_module_version": "1.5.0",
          "state": {
            "_view_module_version": "1.5.0",
            "_model_name": "HBoxModel",
            "_model_module": "@jupyter-widgets/controls",
            "_view_name": "HBoxView",
            "_view_module": "@jupyter-widgets/controls",
            "_dom_classes": [],
            "layout": "IPY_MODEL_cfe338266984452fbf3a12fde8381080",
            "_view_count": null,
            "_model_module_version": "1.5.0",
            "box_style": "",
            "children": [
              "IPY_MODEL_1abd42e206ac4550a5ef1bdd5fca4ed7",
              "IPY_MODEL_56343a49360a4e0eac938cef79b6d50f",
              "IPY_MODEL_2018aa76ae3843b39bd9fa9a9de1cf2d"
            ]
          }
        },
        "27cfb1baa2e64369b0e04e9cdec0d411": {
          "model_module": "@jupyter-widgets/controls",
          "model_name": "FloatProgressModel",
          "model_module_version": "1.5.0",
          "state": {
            "_view_module_version": "1.5.0",
            "description_tooltip": null,
            "_model_name": "FloatProgressModel",
            "_model_module": "@jupyter-widgets/controls",
            "max": 20,
            "bar_style": "success",
            "_view_name": "ProgressView",
            "_view_module": "@jupyter-widgets/controls",
            "_dom_classes": [],
            "layout": "IPY_MODEL_7d6a522c3f574afebf549e3c198970c3",
            "orientation": "horizontal",
            "value": 20,
            "style": "IPY_MODEL_3c5c422be5154bf891dc672fb814663b",
            "min": 0,
            "_view_count": null,
            "_model_module_version": "1.5.0",
            "description": ""
          }
        },
        "32feebe086034b6691b3f3af9ab71b4b": {
          "model_module": "@jupyter-widgets/base",
          "model_name": "LayoutModel",
          "model_module_version": "1.2.0",
          "state": {
            "_view_module_version": "1.2.0",
            "_model_name": "LayoutModel",
            "grid_row": null,
            "_model_module": "@jupyter-widgets/base",
            "overflow": null,
            "max_height": null,
            "display": null,
            "grid_auto_flow": null,
            "grid_template_rows": null,
            "align_self": null,
            "grid_auto_columns": null,
            "width": null,
            "grid_area": null,
            "align_items": null,
            "_view_name": "LayoutView",
            "left": null,
            "height": null,
            "_view_module": "@jupyter-widgets/base",
            "object_position": null,
            "justify_content": null,
            "bottom": null,
            "max_width": null,
            "border": null,
            "margin": null,
            "order": null,
            "grid_column": null,
            "grid_auto_rows": null,
            "padding": null,
            "grid_template_columns": null,
            "justify_items": null,
            "object_fit": null,
            "visibility": null,
            "_view_count": null,
            "flex_flow": null,
            "min_height": null,
            "top": null,
            "min_width": null,
            "flex": null,
            "_model_module_version": "1.2.0",
            "grid_template_areas": null,
            "overflow_x": null,
            "right": null,
            "overflow_y": null,
            "grid_gap": null,
            "align_content": null
          }
        },
        "6fda3cbac11a4b6bb534393265a5a041": {
          "model_module": "@jupyter-widgets/controls",
          "model_name": "HTMLModel",
          "model_module_version": "1.5.0",
          "state": {
            "_view_module_version": "1.5.0",
            "description_tooltip": null,
            "_model_name": "HTMLModel",
            "_model_module": "@jupyter-widgets/controls",
            "_view_name": "HTMLView",
            "_view_module": "@jupyter-widgets/controls",
            "_dom_classes": [],
            "layout": "IPY_MODEL_cf29f2c570a846ee9725031afe6ac3d0",
            "value": " 60/60 [10:42&lt;00:00, 10.46s/it]",
            "style": "IPY_MODEL_a11375687aff470886adf079ba1c8e34",
            "placeholder": "​",
            "_view_count": null,
            "_model_module_version": "1.5.0",
            "description": ""
          }
        },
        "94556943cc4e418bb111d94ba4024a37": {
          "model_module": "@jupyter-widgets/base",
          "model_name": "LayoutModel",
          "model_module_version": "1.2.0",
          "state": {
            "_view_module_version": "1.2.0",
            "_model_name": "LayoutModel",
            "grid_row": null,
            "_model_module": "@jupyter-widgets/base",
            "overflow": null,
            "max_height": null,
            "display": null,
            "grid_auto_flow": null,
            "grid_template_rows": null,
            "align_self": null,
            "grid_auto_columns": null,
            "width": null,
            "grid_area": null,
            "align_items": null,
            "_view_name": "LayoutView",
            "left": null,
            "height": null,
            "_view_module": "@jupyter-widgets/base",
            "object_position": null,
            "justify_content": null,
            "bottom": null,
            "max_width": null,
            "border": null,
            "margin": null,
            "order": null,
            "grid_column": null,
            "grid_auto_rows": null,
            "padding": null,
            "grid_template_columns": null,
            "justify_items": null,
            "object_fit": null,
            "visibility": null,
            "_view_count": null,
            "flex_flow": null,
            "min_height": null,
            "top": null,
            "min_width": null,
            "flex": null,
            "_model_module_version": "1.2.0",
            "grid_template_areas": null,
            "overflow_x": null,
            "right": null,
            "overflow_y": null,
            "grid_gap": null,
            "align_content": null
          }
        },
        "0f1233f86d4744b59f44eb25e6198a5f": {
          "model_module": "@jupyter-widgets/controls",
          "model_name": "HBoxModel",
          "model_module_version": "1.5.0",
          "state": {
            "_view_module_version": "1.5.0",
            "_model_name": "HBoxModel",
            "_model_module": "@jupyter-widgets/controls",
            "_view_name": "HBoxView",
            "_view_module": "@jupyter-widgets/controls",
            "_dom_classes": [],
            "layout": "IPY_MODEL_94556943cc4e418bb111d94ba4024a37",
            "_view_count": null,
            "_model_module_version": "1.5.0",
            "box_style": "",
            "children": [
              "IPY_MODEL_44abae5d48e74d9db7b6c82c13ba280c",
              "IPY_MODEL_8b1b3dd77ff74aa499ea0c356621e1fd",
              "IPY_MODEL_30829a83976e49f18bd7460f8fc64308"
            ]
          }
        },
        "44abae5d48e74d9db7b6c82c13ba280c": {
          "model_module": "@jupyter-widgets/controls",
          "model_name": "HTMLModel",
          "model_module_version": "1.5.0",
          "state": {
            "_view_module_version": "1.5.0",
            "description_tooltip": null,
            "_model_name": "HTMLModel",
            "_model_module": "@jupyter-widgets/controls",
            "_view_name": "HTMLView",
            "_view_module": "@jupyter-widgets/controls",
            "_dom_classes": [],
            "layout": "IPY_MODEL_be6cb9d021a04f0b85f916128c4a8038",
            "value": "100%",
            "style": "IPY_MODEL_4422fe215a6042ebb008157ef51bf7e4",
            "placeholder": "​",
            "_view_count": null,
            "_model_module_version": "1.5.0",
            "description": ""
          }
        },
        "8db993d53c054963bf1cb043c4829c1b": {
          "model_module": "@jupyter-widgets/controls",
          "model_name": "DescriptionStyleModel",
          "model_module_version": "1.5.0",
          "state": {
            "_model_module": "@jupyter-widgets/controls",
            "_model_module_version": "1.5.0",
            "_model_name": "DescriptionStyleModel",
            "_view_count": null,
            "_view_module": "@jupyter-widgets/base",
            "_view_module_version": "1.2.0",
            "_view_name": "StyleView",
            "description_width": ""
          }
        },
        "cfe338266984452fbf3a12fde8381080": {
          "model_module": "@jupyter-widgets/base",
          "model_name": "LayoutModel",
          "model_module_version": "1.2.0",
          "state": {
            "_view_module_version": "1.2.0",
            "_model_name": "LayoutModel",
            "grid_row": null,
            "_model_module": "@jupyter-widgets/base",
            "overflow": null,
            "max_height": null,
            "display": null,
            "grid_auto_flow": null,
            "grid_template_rows": null,
            "align_self": null,
            "grid_auto_columns": null,
            "width": null,
            "grid_area": null,
            "align_items": null,
            "_view_name": "LayoutView",
            "left": null,
            "height": null,
            "_view_module": "@jupyter-widgets/base",
            "object_position": null,
            "justify_content": null,
            "bottom": null,
            "max_width": null,
            "border": null,
            "margin": null,
            "order": null,
            "grid_column": null,
            "grid_auto_rows": null,
            "padding": null,
            "grid_template_columns": null,
            "justify_items": null,
            "object_fit": null,
            "visibility": null,
            "_view_count": null,
            "flex_flow": null,
            "min_height": null,
            "top": null,
            "min_width": null,
            "flex": null,
            "_model_module_version": "1.2.0",
            "grid_template_areas": null,
            "overflow_x": null,
            "right": null,
            "overflow_y": null,
            "grid_gap": null,
            "align_content": null
          }
        },
        "4f40d38ba3e247a996ef4ab0e3cc16ef": {
          "model_module": "@jupyter-widgets/controls",
          "model_name": "FloatProgressModel",
          "model_module_version": "1.5.0",
          "state": {
            "_view_module_version": "1.5.0",
            "description_tooltip": null,
            "_model_name": "FloatProgressModel",
            "_model_module": "@jupyter-widgets/controls",
            "max": 3,
            "bar_style": "success",
            "_view_name": "ProgressView",
            "_view_module": "@jupyter-widgets/controls",
            "_dom_classes": [],
            "layout": "IPY_MODEL_a9de9c6998fa4985a1fce466b7facaa8",
            "orientation": "horizontal",
            "value": 3,
            "style": "IPY_MODEL_6f9f503758cc4c4893215515cc11268c",
            "min": 0,
            "_view_count": null,
            "_model_module_version": "1.5.0",
            "description": ""
          }
        },
        "82628fc20b8b45f8b4af32286467b5fd": {
          "model_module": "@jupyter-widgets/controls",
          "model_name": "DescriptionStyleModel",
          "model_module_version": "1.5.0",
          "state": {
            "_model_module": "@jupyter-widgets/controls",
            "_model_module_version": "1.5.0",
            "_model_name": "DescriptionStyleModel",
            "_view_count": null,
            "_view_module": "@jupyter-widgets/base",
            "_view_module_version": "1.2.0",
            "_view_name": "StyleView",
            "description_width": ""
          }
        },
        "8bf76c72ab614a77a7c4b56f4a04d193": {
          "model_module": "@jupyter-widgets/controls",
          "model_name": "HTMLModel",
          "model_module_version": "1.5.0",
          "state": {
            "_view_module_version": "1.5.0",
            "description_tooltip": null,
            "_model_name": "HTMLModel",
            "_model_module": "@jupyter-widgets/controls",
            "_view_name": "HTMLView",
            "_view_module": "@jupyter-widgets/controls",
            "_dom_classes": [],
            "layout": "IPY_MODEL_4b1b8deced3047edb6988d91aaf8cb2e",
            "value": "100%",
            "style": "IPY_MODEL_554ea4782228432085ef2f51e8472d4a",
            "placeholder": "​",
            "_view_count": null,
            "_model_module_version": "1.5.0",
            "description": ""
          }
        },
        "3e4a3f8ed0fb4fdc9de9bdcd9b8165b6": {
          "model_module": "@jupyter-widgets/base",
          "model_name": "LayoutModel",
          "model_module_version": "1.2.0",
          "state": {
            "_view_module_version": "1.2.0",
            "_model_name": "LayoutModel",
            "grid_row": null,
            "_model_module": "@jupyter-widgets/base",
            "overflow": null,
            "max_height": null,
            "display": null,
            "grid_auto_flow": null,
            "grid_template_rows": null,
            "align_self": null,
            "grid_auto_columns": null,
            "width": null,
            "grid_area": null,
            "align_items": null,
            "_view_name": "LayoutView",
            "left": null,
            "height": null,
            "_view_module": "@jupyter-widgets/base",
            "object_position": null,
            "justify_content": null,
            "bottom": null,
            "max_width": null,
            "border": null,
            "margin": null,
            "order": null,
            "grid_column": null,
            "grid_auto_rows": null,
            "padding": null,
            "grid_template_columns": null,
            "justify_items": null,
            "object_fit": null,
            "visibility": null,
            "_view_count": null,
            "flex_flow": null,
            "min_height": null,
            "top": null,
            "min_width": null,
            "flex": null,
            "_model_module_version": "1.2.0",
            "grid_template_areas": null,
            "overflow_x": null,
            "right": null,
            "overflow_y": null,
            "grid_gap": null,
            "align_content": null
          }
        },
        "d18baa054daf40a6a4f5648cd33a4669": {
          "model_module": "@jupyter-widgets/controls",
          "model_name": "HTMLModel",
          "model_module_version": "1.5.0",
          "state": {
            "_view_module_version": "1.5.0",
            "description_tooltip": null,
            "_model_name": "HTMLModel",
            "_model_module": "@jupyter-widgets/controls",
            "_view_name": "HTMLView",
            "_view_module": "@jupyter-widgets/controls",
            "_dom_classes": [],
            "layout": "IPY_MODEL_49a418ee43ab493983535c918509a9cf",
            "value": "Processing Subjects: 100%",
            "style": "IPY_MODEL_8db993d53c054963bf1cb043c4829c1b",
            "placeholder": "​",
            "_view_count": null,
            "_model_module_version": "1.5.0",
            "description": ""
          }
        },
        "bfa97fe2def34877820d95848b22a842": {
          "model_module": "@jupyter-widgets/base",
          "model_name": "LayoutModel",
          "model_module_version": "1.2.0",
          "state": {
            "_view_module_version": "1.2.0",
            "_model_name": "LayoutModel",
            "grid_row": null,
            "_model_module": "@jupyter-widgets/base",
            "overflow": null,
            "max_height": null,
            "display": null,
            "grid_auto_flow": null,
            "grid_template_rows": null,
            "align_self": null,
            "grid_auto_columns": null,
            "width": null,
            "grid_area": null,
            "align_items": null,
            "_view_name": "LayoutView",
            "left": null,
            "height": null,
            "_view_module": "@jupyter-widgets/base",
            "object_position": null,
            "justify_content": null,
            "bottom": null,
            "max_width": null,
            "border": null,
            "margin": null,
            "order": null,
            "grid_column": null,
            "grid_auto_rows": null,
            "padding": null,
            "grid_template_columns": null,
            "justify_items": null,
            "object_fit": null,
            "visibility": null,
            "_view_count": null,
            "flex_flow": null,
            "min_height": null,
            "top": null,
            "min_width": null,
            "flex": null,
            "_model_module_version": "1.2.0",
            "grid_template_areas": null,
            "overflow_x": null,
            "right": null,
            "overflow_y": null,
            "grid_gap": null,
            "align_content": null
          }
        },
        "7f6d7269e0ee499e87f63925bdea2ad7": {
          "model_module": "@jupyter-widgets/controls",
          "model_name": "HTMLModel",
          "model_module_version": "1.5.0",
          "state": {
            "_view_module_version": "1.5.0",
            "description_tooltip": null,
            "_model_name": "HTMLModel",
            "_model_module": "@jupyter-widgets/controls",
            "_view_name": "HTMLView",
            "_view_module": "@jupyter-widgets/controls",
            "_dom_classes": [],
            "layout": "IPY_MODEL_3e4a3f8ed0fb4fdc9de9bdcd9b8165b6",
            "value": " 3/3 [00:29&lt;00:00,  9.65s/it]",
            "style": "IPY_MODEL_ac46171ab13f4f4c8ecbc0e3b1b73731",
            "placeholder": "​",
            "_view_count": null,
            "_model_module_version": "1.5.0",
            "description": ""
          }
        },
        "9d2a495e15aa4b7da43ab78a65a9b151": {
          "model_module": "@jupyter-widgets/controls",
          "model_name": "ProgressStyleModel",
          "model_module_version": "1.5.0",
          "state": {
            "_view_module_version": "1.2.0",
            "_model_name": "ProgressStyleModel",
            "_model_module": "@jupyter-widgets/controls",
            "description_width": "",
            "_view_name": "StyleView",
            "_view_module": "@jupyter-widgets/base",
            "_view_count": null,
            "bar_color": null,
            "_model_module_version": "1.5.0"
          }
        },
        "43f25dc3a0f749a385603859fd7e43cf": {
          "model_module": "@jupyter-widgets/base",
          "model_name": "LayoutModel",
          "model_module_version": "1.2.0",
          "state": {
            "_view_module_version": "1.2.0",
            "_model_name": "LayoutModel",
            "grid_row": null,
            "_model_module": "@jupyter-widgets/base",
            "overflow": null,
            "max_height": null,
            "display": null,
            "grid_auto_flow": null,
            "grid_template_rows": null,
            "align_self": null,
            "grid_auto_columns": null,
            "width": null,
            "grid_area": null,
            "align_items": null,
            "_view_name": "LayoutView",
            "left": null,
            "height": null,
            "_view_module": "@jupyter-widgets/base",
            "object_position": null,
            "justify_content": null,
            "bottom": null,
            "max_width": null,
            "border": null,
            "margin": null,
            "order": null,
            "grid_column": null,
            "grid_auto_rows": null,
            "padding": null,
            "grid_template_columns": null,
            "justify_items": null,
            "object_fit": null,
            "visibility": null,
            "_view_count": null,
            "flex_flow": null,
            "min_height": null,
            "top": null,
            "min_width": null,
            "flex": null,
            "_model_module_version": "1.2.0",
            "grid_template_areas": null,
            "overflow_x": null,
            "right": null,
            "overflow_y": null,
            "grid_gap": null,
            "align_content": null
          }
        },
        "8eaaa336ae7f4852beeaa8ff45a63c30": {
          "model_module": "@jupyter-widgets/controls",
          "model_name": "ProgressStyleModel",
          "model_module_version": "1.5.0",
          "state": {
            "_view_module_version": "1.2.0",
            "_model_name": "ProgressStyleModel",
            "_model_module": "@jupyter-widgets/controls",
            "description_width": "",
            "_view_name": "StyleView",
            "_view_module": "@jupyter-widgets/base",
            "_view_count": null,
            "bar_color": null,
            "_model_module_version": "1.5.0"
          }
        },
        "e9280a58917f410abe638804fa3c1351": {
          "model_module": "@jupyter-widgets/controls",
          "model_name": "ProgressStyleModel",
          "model_module_version": "1.5.0",
          "state": {
            "_view_module_version": "1.2.0",
            "_model_name": "ProgressStyleModel",
            "_model_module": "@jupyter-widgets/controls",
            "description_width": "",
            "_view_name": "StyleView",
            "_view_module": "@jupyter-widgets/base",
            "_view_count": null,
            "bar_color": null,
            "_model_module_version": "1.5.0"
          }
        },
        "be6cb9d021a04f0b85f916128c4a8038": {
          "model_module": "@jupyter-widgets/base",
          "model_name": "LayoutModel",
          "model_module_version": "1.2.0",
          "state": {
            "_view_module_version": "1.2.0",
            "_model_name": "LayoutModel",
            "grid_row": null,
            "_model_module": "@jupyter-widgets/base",
            "overflow": null,
            "max_height": null,
            "display": null,
            "grid_auto_flow": null,
            "grid_template_rows": null,
            "align_self": null,
            "grid_auto_columns": null,
            "width": null,
            "grid_area": null,
            "align_items": null,
            "_view_name": "LayoutView",
            "left": null,
            "height": null,
            "_view_module": "@jupyter-widgets/base",
            "object_position": null,
            "justify_content": null,
            "bottom": null,
            "max_width": null,
            "border": null,
            "margin": null,
            "order": null,
            "grid_column": null,
            "grid_auto_rows": null,
            "padding": null,
            "grid_template_columns": null,
            "justify_items": null,
            "object_fit": null,
            "visibility": null,
            "_view_count": null,
            "flex_flow": null,
            "min_height": null,
            "top": null,
            "min_width": null,
            "flex": null,
            "_model_module_version": "1.2.0",
            "grid_template_areas": null,
            "overflow_x": null,
            "right": null,
            "overflow_y": null,
            "grid_gap": null,
            "align_content": null
          }
        },
        "cf093cfd3765407b9a075dba341b4575": {
          "model_module": "@jupyter-widgets/base",
          "model_name": "LayoutModel",
          "model_module_version": "1.2.0",
          "state": {
            "_view_module_version": "1.2.0",
            "_model_name": "LayoutModel",
            "grid_row": null,
            "_model_module": "@jupyter-widgets/base",
            "overflow": null,
            "max_height": null,
            "display": null,
            "grid_auto_flow": null,
            "grid_template_rows": null,
            "align_self": null,
            "grid_auto_columns": null,
            "width": null,
            "grid_area": null,
            "align_items": null,
            "_view_name": "LayoutView",
            "left": null,
            "height": null,
            "_view_module": "@jupyter-widgets/base",
            "object_position": null,
            "justify_content": null,
            "bottom": null,
            "max_width": null,
            "border": null,
            "margin": null,
            "order": null,
            "grid_column": null,
            "grid_auto_rows": null,
            "padding": null,
            "grid_template_columns": null,
            "justify_items": null,
            "object_fit": null,
            "visibility": null,
            "_view_count": null,
            "flex_flow": null,
            "min_height": null,
            "top": null,
            "min_width": null,
            "flex": null,
            "_model_module_version": "1.2.0",
            "grid_template_areas": null,
            "overflow_x": null,
            "right": null,
            "overflow_y": null,
            "grid_gap": null,
            "align_content": null
          }
        },
        "1d2e1046ef8740c09c98c1ae52c5f718": {
          "model_module": "@jupyter-widgets/controls",
          "model_name": "ProgressStyleModel",
          "model_module_version": "1.5.0",
          "state": {
            "_view_module_version": "1.2.0",
            "_model_name": "ProgressStyleModel",
            "_model_module": "@jupyter-widgets/controls",
            "description_width": "",
            "_view_name": "StyleView",
            "_view_module": "@jupyter-widgets/base",
            "_view_count": null,
            "bar_color": null,
            "_model_module_version": "1.5.0"
          }
        },
        "aad2188e63b643638d0ae81d8b1a2e3f": {
          "model_module": "@jupyter-widgets/base",
          "model_name": "LayoutModel",
          "model_module_version": "1.2.0",
          "state": {
            "_view_module_version": "1.2.0",
            "_model_name": "LayoutModel",
            "grid_row": null,
            "_model_module": "@jupyter-widgets/base",
            "overflow": null,
            "max_height": null,
            "display": null,
            "grid_auto_flow": null,
            "grid_template_rows": null,
            "align_self": null,
            "grid_auto_columns": null,
            "width": null,
            "grid_area": null,
            "align_items": null,
            "_view_name": "LayoutView",
            "left": null,
            "height": null,
            "_view_module": "@jupyter-widgets/base",
            "object_position": null,
            "justify_content": null,
            "bottom": null,
            "max_width": null,
            "border": null,
            "margin": null,
            "order": null,
            "grid_column": null,
            "grid_auto_rows": null,
            "padding": null,
            "grid_template_columns": null,
            "justify_items": null,
            "object_fit": null,
            "visibility": null,
            "_view_count": null,
            "flex_flow": null,
            "min_height": null,
            "top": null,
            "min_width": null,
            "flex": null,
            "_model_module_version": "1.2.0",
            "grid_template_areas": null,
            "overflow_x": null,
            "right": null,
            "overflow_y": null,
            "grid_gap": null,
            "align_content": null
          }
        },
        "abad86e05629418cbcff3cc1a721deab": {
          "model_module": "@jupyter-widgets/base",
          "model_name": "LayoutModel",
          "model_module_version": "1.2.0",
          "state": {
            "_view_module_version": "1.2.0",
            "_model_name": "LayoutModel",
            "grid_row": null,
            "_model_module": "@jupyter-widgets/base",
            "overflow": null,
            "max_height": null,
            "display": null,
            "grid_auto_flow": null,
            "grid_template_rows": null,
            "align_self": null,
            "grid_auto_columns": null,
            "width": null,
            "grid_area": null,
            "align_items": null,
            "_view_name": "LayoutView",
            "left": null,
            "height": null,
            "_view_module": "@jupyter-widgets/base",
            "object_position": null,
            "justify_content": null,
            "bottom": null,
            "max_width": null,
            "border": null,
            "margin": null,
            "order": null,
            "grid_column": null,
            "grid_auto_rows": null,
            "padding": null,
            "grid_template_columns": null,
            "justify_items": null,
            "object_fit": null,
            "visibility": null,
            "_view_count": null,
            "flex_flow": null,
            "min_height": null,
            "top": null,
            "min_width": null,
            "flex": null,
            "_model_module_version": "1.2.0",
            "grid_template_areas": null,
            "overflow_x": null,
            "right": null,
            "overflow_y": null,
            "grid_gap": null,
            "align_content": null
          }
        },
        "28de276d178549479e055969a3560740": {
          "model_module": "@jupyter-widgets/controls",
          "model_name": "DescriptionStyleModel",
          "model_module_version": "1.5.0",
          "state": {
            "_model_module": "@jupyter-widgets/controls",
            "_model_module_version": "1.5.0",
            "_model_name": "DescriptionStyleModel",
            "_view_count": null,
            "_view_module": "@jupyter-widgets/base",
            "_view_module_version": "1.2.0",
            "_view_name": "StyleView",
            "description_width": ""
          }
        },
        "a11375687aff470886adf079ba1c8e34": {
          "model_module": "@jupyter-widgets/controls",
          "model_name": "DescriptionStyleModel",
          "model_module_version": "1.5.0",
          "state": {
            "_model_module": "@jupyter-widgets/controls",
            "_model_module_version": "1.5.0",
            "_model_name": "DescriptionStyleModel",
            "_view_count": null,
            "_view_module": "@jupyter-widgets/base",
            "_view_module_version": "1.2.0",
            "_view_name": "StyleView",
            "description_width": ""
          }
        },
        "e3bea0d91aa84e7fbbaf2cc5a22819a1": {
          "model_module": "@jupyter-widgets/base",
          "model_name": "LayoutModel",
          "model_module_version": "1.2.0",
          "state": {
            "_view_module_version": "1.2.0",
            "_model_name": "LayoutModel",
            "grid_row": null,
            "_model_module": "@jupyter-widgets/base",
            "overflow": null,
            "max_height": null,
            "display": null,
            "grid_auto_flow": null,
            "grid_template_rows": null,
            "align_self": null,
            "grid_auto_columns": null,
            "width": null,
            "grid_area": null,
            "align_items": null,
            "_view_name": "LayoutView",
            "left": null,
            "height": null,
            "_view_module": "@jupyter-widgets/base",
            "object_position": null,
            "justify_content": null,
            "bottom": null,
            "max_width": null,
            "border": null,
            "margin": null,
            "order": null,
            "grid_column": null,
            "grid_auto_rows": null,
            "padding": null,
            "grid_template_columns": null,
            "justify_items": null,
            "object_fit": null,
            "visibility": null,
            "_view_count": null,
            "flex_flow": null,
            "min_height": null,
            "top": null,
            "min_width": null,
            "flex": null,
            "_model_module_version": "1.2.0",
            "grid_template_areas": null,
            "overflow_x": null,
            "right": null,
            "overflow_y": null,
            "grid_gap": null,
            "align_content": null
          }
        },
        "7c1ba7cb437f4de9bd269eb93bf65a94": {
          "model_module": "@jupyter-widgets/controls",
          "model_name": "DescriptionStyleModel",
          "model_module_version": "1.5.0",
          "state": {
            "_model_module": "@jupyter-widgets/controls",
            "_model_module_version": "1.5.0",
            "_model_name": "DescriptionStyleModel",
            "_view_count": null,
            "_view_module": "@jupyter-widgets/base",
            "_view_module_version": "1.2.0",
            "_view_name": "StyleView",
            "description_width": ""
          }
        },
        "56343a49360a4e0eac938cef79b6d50f": {
          "model_module": "@jupyter-widgets/controls",
          "model_name": "FloatProgressModel",
          "model_module_version": "1.5.0",
          "state": {
            "_view_module_version": "1.5.0",
            "description_tooltip": null,
            "_model_name": "FloatProgressModel",
            "_model_module": "@jupyter-widgets/controls",
            "max": 20,
            "bar_style": "success",
            "_view_name": "ProgressView",
            "_view_module": "@jupyter-widgets/controls",
            "_dom_classes": [],
            "layout": "IPY_MODEL_11344693703242fa82b728b721a4795c",
            "orientation": "horizontal",
            "value": 20,
            "style": "IPY_MODEL_1d2e1046ef8740c09c98c1ae52c5f718",
            "min": 0,
            "_view_count": null,
            "_model_module_version": "1.5.0",
            "description": ""
          }
        },
        "3c5c422be5154bf891dc672fb814663b": {
          "model_module": "@jupyter-widgets/controls",
          "model_name": "ProgressStyleModel",
          "model_module_version": "1.5.0",
          "state": {
            "_view_module_version": "1.2.0",
            "_model_name": "ProgressStyleModel",
            "_model_module": "@jupyter-widgets/controls",
            "description_width": "",
            "_view_name": "StyleView",
            "_view_module": "@jupyter-widgets/base",
            "_view_count": null,
            "bar_color": null,
            "_model_module_version": "1.5.0"
          }
        },
        "1f2a3266a2ac43479e0160df90556f6b": {
          "model_module": "@jupyter-widgets/controls",
          "model_name": "HTMLModel",
          "model_module_version": "1.5.0",
          "state": {
            "_view_module_version": "1.5.0",
            "description_tooltip": null,
            "_model_name": "HTMLModel",
            "_model_module": "@jupyter-widgets/controls",
            "_view_name": "HTMLView",
            "_view_module": "@jupyter-widgets/controls",
            "_dom_classes": [],
            "layout": "IPY_MODEL_c7c8c1502923433792b70d0d7ac55adc",
            "value": "100%",
            "style": "IPY_MODEL_5e65fa14ee8844e2b24a97ae00365abd",
            "placeholder": "​",
            "_view_count": null,
            "_model_module_version": "1.5.0",
            "description": ""
          }
        },
        "757b056e27754b539d923ac25252e024": {
          "model_module": "@jupyter-widgets/base",
          "model_name": "LayoutModel",
          "model_module_version": "1.2.0",
          "state": {
            "_view_module_version": "1.2.0",
            "_model_name": "LayoutModel",
            "grid_row": null,
            "_model_module": "@jupyter-widgets/base",
            "overflow": null,
            "max_height": null,
            "display": null,
            "grid_auto_flow": null,
            "grid_template_rows": null,
            "align_self": null,
            "grid_auto_columns": null,
            "width": null,
            "grid_area": null,
            "align_items": null,
            "_view_name": "LayoutView",
            "left": null,
            "height": null,
            "_view_module": "@jupyter-widgets/base",
            "object_position": null,
            "justify_content": null,
            "bottom": null,
            "max_width": null,
            "border": null,
            "margin": null,
            "order": null,
            "grid_column": null,
            "grid_auto_rows": null,
            "padding": null,
            "grid_template_columns": null,
            "justify_items": null,
            "object_fit": null,
            "visibility": null,
            "_view_count": null,
            "flex_flow": null,
            "min_height": null,
            "top": null,
            "min_width": null,
            "flex": null,
            "_model_module_version": "1.2.0",
            "grid_template_areas": null,
            "overflow_x": null,
            "right": null,
            "overflow_y": null,
            "grid_gap": null,
            "align_content": null
          }
        },
        "dd58105ff8c1403798bdbdaa78f556d1": {
          "model_module": "@jupyter-widgets/controls",
          "model_name": "FloatProgressModel",
          "model_module_version": "1.5.0",
          "state": {
            "_view_module_version": "1.5.0",
            "description_tooltip": null,
            "_model_name": "FloatProgressModel",
            "_model_module": "@jupyter-widgets/controls",
            "max": 60,
            "bar_style": "success",
            "_view_name": "ProgressView",
            "_view_module": "@jupyter-widgets/controls",
            "_dom_classes": [],
            "layout": "IPY_MODEL_bbaed39130e64bd3a638aa47e852b477",
            "orientation": "horizontal",
            "value": 60,
            "style": "IPY_MODEL_8eaaa336ae7f4852beeaa8ff45a63c30",
            "min": 0,
            "_view_count": null,
            "_model_module_version": "1.5.0",
            "description": ""
          }
        },
        "cf29f2c570a846ee9725031afe6ac3d0": {
          "model_module": "@jupyter-widgets/base",
          "model_name": "LayoutModel",
          "model_module_version": "1.2.0",
          "state": {
            "_view_module_version": "1.2.0",
            "_model_name": "LayoutModel",
            "grid_row": null,
            "_model_module": "@jupyter-widgets/base",
            "overflow": null,
            "max_height": null,
            "display": null,
            "grid_auto_flow": null,
            "grid_template_rows": null,
            "align_self": null,
            "grid_auto_columns": null,
            "width": null,
            "grid_area": null,
            "align_items": null,
            "_view_name": "LayoutView",
            "left": null,
            "height": null,
            "_view_module": "@jupyter-widgets/base",
            "object_position": null,
            "justify_content": null,
            "bottom": null,
            "max_width": null,
            "border": null,
            "margin": null,
            "order": null,
            "grid_column": null,
            "grid_auto_rows": null,
            "padding": null,
            "grid_template_columns": null,
            "justify_items": null,
            "object_fit": null,
            "visibility": null,
            "_view_count": null,
            "flex_flow": null,
            "min_height": null,
            "top": null,
            "min_width": null,
            "flex": null,
            "_model_module_version": "1.2.0",
            "grid_template_areas": null,
            "overflow_x": null,
            "right": null,
            "overflow_y": null,
            "grid_gap": null,
            "align_content": null
          }
        },
        "30829a83976e49f18bd7460f8fc64308": {
          "model_module": "@jupyter-widgets/controls",
          "model_name": "HTMLModel",
          "model_module_version": "1.5.0",
          "state": {
            "_view_module_version": "1.5.0",
            "description_tooltip": null,
            "_model_name": "HTMLModel",
            "_model_module": "@jupyter-widgets/controls",
            "_view_name": "HTMLView",
            "_view_module": "@jupyter-widgets/controls",
            "_dom_classes": [],
            "layout": "IPY_MODEL_32feebe086034b6691b3f3af9ab71b4b",
            "value": " 3/3 [00:27&lt;00:00,  9.07s/it]",
            "style": "IPY_MODEL_303379c97bf64e3087aa9fa8170a40f6",
            "placeholder": "​",
            "_view_count": null,
            "_model_module_version": "1.5.0",
            "description": ""
          }
        },
        "7a90131be0e84be1a10bc9dbc59c56b7": {
          "model_module": "@jupyter-widgets/controls",
          "model_name": "FloatProgressModel",
          "model_module_version": "1.5.0",
          "state": {
            "_view_module_version": "1.5.0",
            "description_tooltip": null,
            "_model_name": "FloatProgressModel",
            "_model_module": "@jupyter-widgets/controls",
            "max": 60,
            "bar_style": "success",
            "_view_name": "ProgressView",
            "_view_module": "@jupyter-widgets/controls",
            "_dom_classes": [],
            "layout": "IPY_MODEL_43f25dc3a0f749a385603859fd7e43cf",
            "orientation": "horizontal",
            "value": 60,
            "style": "IPY_MODEL_f6b68889aac544b6a079308969e73c29",
            "min": 0,
            "_view_count": null,
            "_model_module_version": "1.5.0",
            "description": ""
          }
        },
        "bbaed39130e64bd3a638aa47e852b477": {
          "model_module": "@jupyter-widgets/base",
          "model_name": "LayoutModel",
          "model_module_version": "1.2.0",
          "state": {
            "_view_module_version": "1.2.0",
            "_model_name": "LayoutModel",
            "grid_row": null,
            "_model_module": "@jupyter-widgets/base",
            "overflow": null,
            "max_height": null,
            "display": null,
            "grid_auto_flow": null,
            "grid_template_rows": null,
            "align_self": null,
            "grid_auto_columns": null,
            "width": null,
            "grid_area": null,
            "align_items": null,
            "_view_name": "LayoutView",
            "left": null,
            "height": null,
            "_view_module": "@jupyter-widgets/base",
            "object_position": null,
            "justify_content": null,
            "bottom": null,
            "max_width": null,
            "border": null,
            "margin": null,
            "order": null,
            "grid_column": null,
            "grid_auto_rows": null,
            "padding": null,
            "grid_template_columns": null,
            "justify_items": null,
            "object_fit": null,
            "visibility": null,
            "_view_count": null,
            "flex_flow": null,
            "min_height": null,
            "top": null,
            "min_width": null,
            "flex": null,
            "_model_module_version": "1.2.0",
            "grid_template_areas": null,
            "overflow_x": null,
            "right": null,
            "overflow_y": null,
            "grid_gap": null,
            "align_content": null
          }
        },
        "f53062b1b4104e748eda1fc2166f6761": {
          "model_module": "@jupyter-widgets/controls",
          "model_name": "DescriptionStyleModel",
          "model_module_version": "1.5.0",
          "state": {
            "_model_module": "@jupyter-widgets/controls",
            "_model_module_version": "1.5.0",
            "_model_name": "DescriptionStyleModel",
            "_view_count": null,
            "_view_module": "@jupyter-widgets/base",
            "_view_module_version": "1.2.0",
            "_view_name": "StyleView",
            "description_width": ""
          }
        },
        "c0d4216ddd89425cb7778b70b3089dbd": {
          "model_module": "@jupyter-widgets/controls",
          "model_name": "HTMLModel",
          "model_module_version": "1.5.0",
          "state": {
            "_view_module_version": "1.5.0",
            "description_tooltip": null,
            "_model_name": "HTMLModel",
            "_model_module": "@jupyter-widgets/controls",
            "_view_name": "HTMLView",
            "_view_module": "@jupyter-widgets/controls",
            "_dom_classes": [],
            "layout": "IPY_MODEL_757b056e27754b539d923ac25252e024",
            "value": "Processing Subjects: 100%",
            "style": "IPY_MODEL_bba23552943440ba96127ceae9758741",
            "placeholder": "​",
            "_view_count": null,
            "_model_module_version": "1.5.0",
            "description": ""
          }
        },
        "6739b97d1f5346bbb3bd73241367c4c3": {
          "model_module": "@jupyter-widgets/controls",
          "model_name": "DescriptionStyleModel",
          "model_module_version": "1.5.0",
          "state": {
            "_model_module": "@jupyter-widgets/controls",
            "_model_module_version": "1.5.0",
            "_model_name": "DescriptionStyleModel",
            "_view_count": null,
            "_view_module": "@jupyter-widgets/base",
            "_view_module_version": "1.2.0",
            "_view_name": "StyleView",
            "description_width": ""
          }
        },
        "b9034c1819ee432d88a8d1308aada2a0": {
          "model_module": "@jupyter-widgets/base",
          "model_name": "LayoutModel",
          "model_module_version": "1.2.0",
          "state": {
            "_view_module_version": "1.2.0",
            "_model_name": "LayoutModel",
            "grid_row": null,
            "_model_module": "@jupyter-widgets/base",
            "overflow": null,
            "max_height": null,
            "display": null,
            "grid_auto_flow": null,
            "grid_template_rows": null,
            "align_self": null,
            "grid_auto_columns": null,
            "width": null,
            "grid_area": null,
            "align_items": null,
            "_view_name": "LayoutView",
            "left": null,
            "height": null,
            "_view_module": "@jupyter-widgets/base",
            "object_position": null,
            "justify_content": null,
            "bottom": null,
            "max_width": null,
            "border": null,
            "margin": null,
            "order": null,
            "grid_column": null,
            "grid_auto_rows": null,
            "padding": null,
            "grid_template_columns": null,
            "justify_items": null,
            "object_fit": null,
            "visibility": null,
            "_view_count": null,
            "flex_flow": null,
            "min_height": null,
            "top": null,
            "min_width": null,
            "flex": null,
            "_model_module_version": "1.2.0",
            "grid_template_areas": null,
            "overflow_x": null,
            "right": null,
            "overflow_y": null,
            "grid_gap": null,
            "align_content": null
          }
        },
        "5afbd84110914c34aad5546075e62ee0": {
          "model_module": "@jupyter-widgets/base",
          "model_name": "LayoutModel",
          "model_module_version": "1.2.0",
          "state": {
            "_view_module_version": "1.2.0",
            "_model_name": "LayoutModel",
            "grid_row": null,
            "_model_module": "@jupyter-widgets/base",
            "overflow": null,
            "max_height": null,
            "display": null,
            "grid_auto_flow": null,
            "grid_template_rows": null,
            "align_self": null,
            "grid_auto_columns": null,
            "width": null,
            "grid_area": null,
            "align_items": null,
            "_view_name": "LayoutView",
            "left": null,
            "height": null,
            "_view_module": "@jupyter-widgets/base",
            "object_position": null,
            "justify_content": null,
            "bottom": null,
            "max_width": null,
            "border": null,
            "margin": null,
            "order": null,
            "grid_column": null,
            "grid_auto_rows": null,
            "padding": null,
            "grid_template_columns": null,
            "justify_items": null,
            "object_fit": null,
            "visibility": null,
            "_view_count": null,
            "flex_flow": null,
            "min_height": null,
            "top": null,
            "min_width": null,
            "flex": null,
            "_model_module_version": "1.2.0",
            "grid_template_areas": null,
            "overflow_x": null,
            "right": null,
            "overflow_y": null,
            "grid_gap": null,
            "align_content": null
          }
        },
        "1f033f6940f34e119bce3094fadda651": {
          "model_module": "@jupyter-widgets/base",
          "model_name": "LayoutModel",
          "model_module_version": "1.2.0",
          "state": {
            "_view_module_version": "1.2.0",
            "_model_name": "LayoutModel",
            "grid_row": null,
            "_model_module": "@jupyter-widgets/base",
            "overflow": null,
            "max_height": null,
            "display": null,
            "grid_auto_flow": null,
            "grid_template_rows": null,
            "align_self": null,
            "grid_auto_columns": null,
            "width": null,
            "grid_area": null,
            "align_items": null,
            "_view_name": "LayoutView",
            "left": null,
            "height": null,
            "_view_module": "@jupyter-widgets/base",
            "object_position": null,
            "justify_content": null,
            "bottom": null,
            "max_width": null,
            "border": null,
            "margin": null,
            "order": null,
            "grid_column": null,
            "grid_auto_rows": null,
            "padding": null,
            "grid_template_columns": null,
            "justify_items": null,
            "object_fit": null,
            "visibility": null,
            "_view_count": null,
            "flex_flow": null,
            "min_height": null,
            "top": null,
            "min_width": null,
            "flex": null,
            "_model_module_version": "1.2.0",
            "grid_template_areas": null,
            "overflow_x": null,
            "right": null,
            "overflow_y": null,
            "grid_gap": null,
            "align_content": null
          }
        },
        "5d9cf665c8cf4a62912eef0464fa0a1f": {
          "model_module": "@jupyter-widgets/base",
          "model_name": "LayoutModel",
          "model_module_version": "1.2.0",
          "state": {
            "_view_module_version": "1.2.0",
            "_model_name": "LayoutModel",
            "grid_row": null,
            "_model_module": "@jupyter-widgets/base",
            "overflow": null,
            "max_height": null,
            "display": null,
            "grid_auto_flow": null,
            "grid_template_rows": null,
            "align_self": null,
            "grid_auto_columns": null,
            "width": null,
            "grid_area": null,
            "align_items": null,
            "_view_name": "LayoutView",
            "left": null,
            "height": null,
            "_view_module": "@jupyter-widgets/base",
            "object_position": null,
            "justify_content": null,
            "bottom": null,
            "max_width": null,
            "border": null,
            "margin": null,
            "order": null,
            "grid_column": null,
            "grid_auto_rows": null,
            "padding": null,
            "grid_template_columns": null,
            "justify_items": null,
            "object_fit": null,
            "visibility": null,
            "_view_count": null,
            "flex_flow": null,
            "min_height": null,
            "top": null,
            "min_width": null,
            "flex": null,
            "_model_module_version": "1.2.0",
            "grid_template_areas": null,
            "overflow_x": null,
            "right": null,
            "overflow_y": null,
            "grid_gap": null,
            "align_content": null
          }
        },
        "7410463dfcad46b58ef418cdfec8ec87": {
          "model_module": "@jupyter-widgets/controls",
          "model_name": "FloatProgressModel",
          "model_module_version": "1.5.0",
          "state": {
            "_view_module_version": "1.5.0",
            "description_tooltip": null,
            "_model_name": "FloatProgressModel",
            "_model_module": "@jupyter-widgets/controls",
            "max": 20,
            "bar_style": "success",
            "_view_name": "ProgressView",
            "_view_module": "@jupyter-widgets/controls",
            "_dom_classes": [],
            "layout": "IPY_MODEL_1b85fab11d04424c993f02f7e9bc691b",
            "orientation": "horizontal",
            "value": 20,
            "style": "IPY_MODEL_eb4104c65ac94886ac2b2899e5969b08",
            "min": 0,
            "_view_count": null,
            "_model_module_version": "1.5.0",
            "description": ""
          }
        },
        "a9ca032a0f8e4b648510e10aa04cfee0": {
          "model_module": "@jupyter-widgets/controls",
          "model_name": "HBoxModel",
          "model_module_version": "1.5.0",
          "state": {
            "_view_module_version": "1.5.0",
            "_model_name": "HBoxModel",
            "_model_module": "@jupyter-widgets/controls",
            "_view_name": "HBoxView",
            "_view_module": "@jupyter-widgets/controls",
            "_dom_classes": [],
            "layout": "IPY_MODEL_cf093cfd3765407b9a075dba341b4575",
            "_view_count": null,
            "_model_module_version": "1.5.0",
            "box_style": "",
            "children": [
              "IPY_MODEL_ea3e99ef112a43559b3971b21336cc69",
              "IPY_MODEL_7a90131be0e84be1a10bc9dbc59c56b7",
              "IPY_MODEL_6fda3cbac11a4b6bb534393265a5a041"
            ]
          }
        },
        "2940f7cc00014ad8ab9132debc757dda": {
          "model_module": "@jupyter-widgets/controls",
          "model_name": "HTMLModel",
          "model_module_version": "1.5.0",
          "state": {
            "_view_module_version": "1.5.0",
            "description_tooltip": null,
            "_model_name": "HTMLModel",
            "_model_module": "@jupyter-widgets/controls",
            "_view_name": "HTMLView",
            "_view_module": "@jupyter-widgets/controls",
            "_dom_classes": [],
            "layout": "IPY_MODEL_99b69c6d67114fd7824eaa8f59dee453",
            "value": "Processing Subjects: 100%",
            "style": "IPY_MODEL_28de276d178549479e055969a3560740",
            "placeholder": "​",
            "_view_count": null,
            "_model_module_version": "1.5.0",
            "description": ""
          }
        },
        "17e8fe3d4815482982d34a04b73a5cd5": {
          "model_module": "@jupyter-widgets/base",
          "model_name": "LayoutModel",
          "model_module_version": "1.2.0",
          "state": {
            "_view_module_version": "1.2.0",
            "_model_name": "LayoutModel",
            "grid_row": null,
            "_model_module": "@jupyter-widgets/base",
            "overflow": null,
            "max_height": null,
            "display": null,
            "grid_auto_flow": null,
            "grid_template_rows": null,
            "align_self": null,
            "grid_auto_columns": null,
            "width": null,
            "grid_area": null,
            "align_items": null,
            "_view_name": "LayoutView",
            "left": null,
            "height": null,
            "_view_module": "@jupyter-widgets/base",
            "object_position": null,
            "justify_content": null,
            "bottom": null,
            "max_width": null,
            "border": null,
            "margin": null,
            "order": null,
            "grid_column": null,
            "grid_auto_rows": null,
            "padding": null,
            "grid_template_columns": null,
            "justify_items": null,
            "object_fit": null,
            "visibility": null,
            "_view_count": null,
            "flex_flow": null,
            "min_height": null,
            "top": null,
            "min_width": null,
            "flex": null,
            "_model_module_version": "1.2.0",
            "grid_template_areas": null,
            "overflow_x": null,
            "right": null,
            "overflow_y": null,
            "grid_gap": null,
            "align_content": null
          }
        },
        "7d6a522c3f574afebf549e3c198970c3": {
          "model_module": "@jupyter-widgets/base",
          "model_name": "LayoutModel",
          "model_module_version": "1.2.0",
          "state": {
            "_view_module_version": "1.2.0",
            "_model_name": "LayoutModel",
            "grid_row": null,
            "_model_module": "@jupyter-widgets/base",
            "overflow": null,
            "max_height": null,
            "display": null,
            "grid_auto_flow": null,
            "grid_template_rows": null,
            "align_self": null,
            "grid_auto_columns": null,
            "width": null,
            "grid_area": null,
            "align_items": null,
            "_view_name": "LayoutView",
            "left": null,
            "height": null,
            "_view_module": "@jupyter-widgets/base",
            "object_position": null,
            "justify_content": null,
            "bottom": null,
            "max_width": null,
            "border": null,
            "margin": null,
            "order": null,
            "grid_column": null,
            "grid_auto_rows": null,
            "padding": null,
            "grid_template_columns": null,
            "justify_items": null,
            "object_fit": null,
            "visibility": null,
            "_view_count": null,
            "flex_flow": null,
            "min_height": null,
            "top": null,
            "min_width": null,
            "flex": null,
            "_model_module_version": "1.2.0",
            "grid_template_areas": null,
            "overflow_x": null,
            "right": null,
            "overflow_y": null,
            "grid_gap": null,
            "align_content": null
          }
        },
        "33d2bc156e154c94aabefa92431f7323": {
          "model_module": "@jupyter-widgets/controls",
          "model_name": "HBoxModel",
          "model_module_version": "1.5.0",
          "state": {
            "_view_module_version": "1.5.0",
            "_model_name": "HBoxModel",
            "_model_module": "@jupyter-widgets/controls",
            "_view_name": "HBoxView",
            "_view_module": "@jupyter-widgets/controls",
            "_dom_classes": [],
            "layout": "IPY_MODEL_7b00657720754cd892707400c306178f",
            "_view_count": null,
            "_model_module_version": "1.5.0",
            "box_style": "",
            "children": [
              "IPY_MODEL_2940f7cc00014ad8ab9132debc757dda",
              "IPY_MODEL_ac13eaabcf9840cdad0c8e291d2d074d",
              "IPY_MODEL_dc384a0f685a436eaac0f1a5de17d30e"
            ]
          }
        },
        "885ad1b4ef8b41eeb437b43b6f037ee2": {
          "model_module": "@jupyter-widgets/controls",
          "model_name": "HTMLModel",
          "model_module_version": "1.5.0",
          "state": {
            "_view_module_version": "1.5.0",
            "description_tooltip": null,
            "_model_name": "HTMLModel",
            "_model_module": "@jupyter-widgets/controls",
            "_view_name": "HTMLView",
            "_view_module": "@jupyter-widgets/controls",
            "_dom_classes": [],
            "layout": "IPY_MODEL_974e4228f8d342a988dbd1f0205b9c3d",
            "value": " 20/20 [00:23&lt;00:00,  1.10it/s]",
            "style": "IPY_MODEL_d67d7e7ddd2540d7979a01e086be8b54",
            "placeholder": "​",
            "_view_count": null,
            "_model_module_version": "1.5.0",
            "description": ""
          }
        },
        "a79cbc830b884cf6bc9b8e231066c833": {
          "model_module": "@jupyter-widgets/controls",
          "model_name": "DescriptionStyleModel",
          "model_module_version": "1.5.0",
          "state": {
            "_model_module": "@jupyter-widgets/controls",
            "_model_module_version": "1.5.0",
            "_model_name": "DescriptionStyleModel",
            "_view_count": null,
            "_view_module": "@jupyter-widgets/base",
            "_view_module_version": "1.2.0",
            "_view_name": "StyleView",
            "description_width": ""
          }
        },
        "8b1b3dd77ff74aa499ea0c356621e1fd": {
          "model_module": "@jupyter-widgets/controls",
          "model_name": "FloatProgressModel",
          "model_module_version": "1.5.0",
          "state": {
            "_view_module_version": "1.5.0",
            "description_tooltip": null,
            "_model_name": "FloatProgressModel",
            "_model_module": "@jupyter-widgets/controls",
            "max": 3,
            "bar_style": "success",
            "_view_name": "ProgressView",
            "_view_module": "@jupyter-widgets/controls",
            "_dom_classes": [],
            "layout": "IPY_MODEL_74b6fc91a4734684af01c031accf55d8",
            "orientation": "horizontal",
            "value": 3,
            "style": "IPY_MODEL_9d2a495e15aa4b7da43ab78a65a9b151",
            "min": 0,
            "_view_count": null,
            "_model_module_version": "1.5.0",
            "description": ""
          }
        },
        "c7c8c1502923433792b70d0d7ac55adc": {
          "model_module": "@jupyter-widgets/base",
          "model_name": "LayoutModel",
          "model_module_version": "1.2.0",
          "state": {
            "_view_module_version": "1.2.0",
            "_model_name": "LayoutModel",
            "grid_row": null,
            "_model_module": "@jupyter-widgets/base",
            "overflow": null,
            "max_height": null,
            "display": null,
            "grid_auto_flow": null,
            "grid_template_rows": null,
            "align_self": null,
            "grid_auto_columns": null,
            "width": null,
            "grid_area": null,
            "align_items": null,
            "_view_name": "LayoutView",
            "left": null,
            "height": null,
            "_view_module": "@jupyter-widgets/base",
            "object_position": null,
            "justify_content": null,
            "bottom": null,
            "max_width": null,
            "border": null,
            "margin": null,
            "order": null,
            "grid_column": null,
            "grid_auto_rows": null,
            "padding": null,
            "grid_template_columns": null,
            "justify_items": null,
            "object_fit": null,
            "visibility": null,
            "_view_count": null,
            "flex_flow": null,
            "min_height": null,
            "top": null,
            "min_width": null,
            "flex": null,
            "_model_module_version": "1.2.0",
            "grid_template_areas": null,
            "overflow_x": null,
            "right": null,
            "overflow_y": null,
            "grid_gap": null,
            "align_content": null
          }
        },
        "9ab7d933c5a142bdaf701f5bcf2d57d3": {
          "model_module": "@jupyter-widgets/controls",
          "model_name": "HBoxModel",
          "model_module_version": "1.5.0",
          "state": {
            "_view_module_version": "1.5.0",
            "_model_name": "HBoxModel",
            "_model_module": "@jupyter-widgets/controls",
            "_view_name": "HBoxView",
            "_view_module": "@jupyter-widgets/controls",
            "_dom_classes": [],
            "layout": "IPY_MODEL_bfa97fe2def34877820d95848b22a842",
            "_view_count": null,
            "_model_module_version": "1.5.0",
            "box_style": "",
            "children": [
              "IPY_MODEL_8bf76c72ab614a77a7c4b56f4a04d193",
              "IPY_MODEL_f92264e3edee461b86ef904523bddfd4",
              "IPY_MODEL_7f6d7269e0ee499e87f63925bdea2ad7"
            ]
          }
        },
        "11344693703242fa82b728b721a4795c": {
          "model_module": "@jupyter-widgets/base",
          "model_name": "LayoutModel",
          "model_module_version": "1.2.0",
          "state": {
            "_view_module_version": "1.2.0",
            "_model_name": "LayoutModel",
            "grid_row": null,
            "_model_module": "@jupyter-widgets/base",
            "overflow": null,
            "max_height": null,
            "display": null,
            "grid_auto_flow": null,
            "grid_template_rows": null,
            "align_self": null,
            "grid_auto_columns": null,
            "width": null,
            "grid_area": null,
            "align_items": null,
            "_view_name": "LayoutView",
            "left": null,
            "height": null,
            "_view_module": "@jupyter-widgets/base",
            "object_position": null,
            "justify_content": null,
            "bottom": null,
            "max_width": null,
            "border": null,
            "margin": null,
            "order": null,
            "grid_column": null,
            "grid_auto_rows": null,
            "padding": null,
            "grid_template_columns": null,
            "justify_items": null,
            "object_fit": null,
            "visibility": null,
            "_view_count": null,
            "flex_flow": null,
            "min_height": null,
            "top": null,
            "min_width": null,
            "flex": null,
            "_model_module_version": "1.2.0",
            "grid_template_areas": null,
            "overflow_x": null,
            "right": null,
            "overflow_y": null,
            "grid_gap": null,
            "align_content": null
          }
        },
        "7664b4a1cf6047b49e58338abce88d1b": {
          "model_module": "@jupyter-widgets/controls",
          "model_name": "HBoxModel",
          "model_module_version": "1.5.0",
          "state": {
            "_view_module_version": "1.5.0",
            "_model_name": "HBoxModel",
            "_model_module": "@jupyter-widgets/controls",
            "_view_name": "HBoxView",
            "_view_module": "@jupyter-widgets/controls",
            "_dom_classes": [],
            "layout": "IPY_MODEL_e3bea0d91aa84e7fbbaf2cc5a22819a1",
            "_view_count": null,
            "_model_module_version": "1.5.0",
            "box_style": "",
            "children": [
              "IPY_MODEL_bd23b72a6f6f42b6b8534d06da8e1e09",
              "IPY_MODEL_dd58105ff8c1403798bdbdaa78f556d1",
              "IPY_MODEL_f78aba44f2034cbdb035c49d3ff312b8"
            ]
          }
        },
        "dc384a0f685a436eaac0f1a5de17d30e": {
          "model_module": "@jupyter-widgets/controls",
          "model_name": "HTMLModel",
          "model_module_version": "1.5.0",
          "state": {
            "_view_module_version": "1.5.0",
            "description_tooltip": null,
            "_model_name": "HTMLModel",
            "_model_module": "@jupyter-widgets/controls",
            "_view_name": "HTMLView",
            "_view_module": "@jupyter-widgets/controls",
            "_dom_classes": [],
            "layout": "IPY_MODEL_16af17c2ffd04c4db00440d9c52fcbe2",
            "value": " 20/20 [00:20&lt;00:00,  1.55it/s]",
            "style": "IPY_MODEL_6739b97d1f5346bbb3bd73241367c4c3",
            "placeholder": "​",
            "_view_count": null,
            "_model_module_version": "1.5.0",
            "description": ""
          }
        },
        "1abd42e206ac4550a5ef1bdd5fca4ed7": {
          "model_module": "@jupyter-widgets/controls",
          "model_name": "HTMLModel",
          "model_module_version": "1.5.0",
          "state": {
            "_view_module_version": "1.5.0",
            "description_tooltip": null,
            "_model_name": "HTMLModel",
            "_model_module": "@jupyter-widgets/controls",
            "_view_name": "HTMLView",
            "_view_module": "@jupyter-widgets/controls",
            "_dom_classes": [],
            "layout": "IPY_MODEL_3c336e06a6904a55bd946c6772997925",
            "value": "Processing Subjects: 100%",
            "style": "IPY_MODEL_a79cbc830b884cf6bc9b8e231066c833",
            "placeholder": "​",
            "_view_count": null,
            "_model_module_version": "1.5.0",
            "description": ""
          }
        },
        "7f5e1c63ce854b8b81f214989354b833": {
          "model_module": "@jupyter-widgets/controls",
          "model_name": "HBoxModel",
          "model_module_version": "1.5.0",
          "state": {
            "_view_module_version": "1.5.0",
            "_model_name": "HBoxModel",
            "_model_module": "@jupyter-widgets/controls",
            "_view_name": "HBoxView",
            "_view_module": "@jupyter-widgets/controls",
            "_dom_classes": [],
            "layout": "IPY_MODEL_aad2188e63b643638d0ae81d8b1a2e3f",
            "_view_count": null,
            "_model_module_version": "1.5.0",
            "box_style": "",
            "children": [
              "IPY_MODEL_1f2a3266a2ac43479e0160df90556f6b",
              "IPY_MODEL_65b6bf46608047e6854953bc4c5b51c4",
              "IPY_MODEL_c8d54f47674c4d048a5018e313618a56"
            ]
          }
        },
        "bba23552943440ba96127ceae9758741": {
          "model_module": "@jupyter-widgets/controls",
          "model_name": "DescriptionStyleModel",
          "model_module_version": "1.5.0",
          "state": {
            "_model_module": "@jupyter-widgets/controls",
            "_model_module_version": "1.5.0",
            "_model_name": "DescriptionStyleModel",
            "_view_count": null,
            "_view_module": "@jupyter-widgets/base",
            "_view_module_version": "1.2.0",
            "_view_name": "StyleView",
            "description_width": ""
          }
        },
        "f78aba44f2034cbdb035c49d3ff312b8": {
          "model_module": "@jupyter-widgets/controls",
          "model_name": "HTMLModel",
          "model_module_version": "1.5.0",
          "state": {
            "_view_module_version": "1.5.0",
            "description_tooltip": null,
            "_model_name": "HTMLModel",
            "_model_module": "@jupyter-widgets/controls",
            "_view_name": "HTMLView",
            "_view_module": "@jupyter-widgets/controls",
            "_dom_classes": [],
            "layout": "IPY_MODEL_17e8fe3d4815482982d34a04b73a5cd5",
            "value": " 60/60 [10:46&lt;00:00, 10.48s/it]",
            "style": "IPY_MODEL_3d107fe4fbec4330adafc796eaa68fbb",
            "placeholder": "​",
            "_view_count": null,
            "_model_module_version": "1.5.0",
            "description": ""
          }
        },
        "3d107fe4fbec4330adafc796eaa68fbb": {
          "model_module": "@jupyter-widgets/controls",
          "model_name": "DescriptionStyleModel",
          "model_module_version": "1.5.0",
          "state": {
            "_model_module": "@jupyter-widgets/controls",
            "_model_module_version": "1.5.0",
            "_model_name": "DescriptionStyleModel",
            "_view_count": null,
            "_view_module": "@jupyter-widgets/base",
            "_view_module_version": "1.2.0",
            "_view_name": "StyleView",
            "description_width": ""
          }
        },
        "f92264e3edee461b86ef904523bddfd4": {
          "model_module": "@jupyter-widgets/controls",
          "model_name": "FloatProgressModel",
          "model_module_version": "1.5.0",
          "state": {
            "_view_module_version": "1.5.0",
            "description_tooltip": null,
            "_model_name": "FloatProgressModel",
            "_model_module": "@jupyter-widgets/controls",
            "max": 3,
            "bar_style": "success",
            "_view_name": "ProgressView",
            "_view_module": "@jupyter-widgets/controls",
            "_dom_classes": [],
            "layout": "IPY_MODEL_2d7419823cb444949c1b259594cb5c60",
            "orientation": "horizontal",
            "value": 3,
            "style": "IPY_MODEL_e9280a58917f410abe638804fa3c1351",
            "min": 0,
            "_view_count": null,
            "_model_module_version": "1.5.0",
            "description": ""
          }
        },
        "ea99480a16374af196433c6146b45e99": {
          "model_module": "@jupyter-widgets/controls",
          "model_name": "HBoxModel",
          "model_module_version": "1.5.0",
          "state": {
            "_view_module_version": "1.5.0",
            "_model_name": "HBoxModel",
            "_model_module": "@jupyter-widgets/controls",
            "_view_name": "HBoxView",
            "_view_module": "@jupyter-widgets/controls",
            "_dom_classes": [],
            "layout": "IPY_MODEL_5d9cf665c8cf4a62912eef0464fa0a1f",
            "_view_count": null,
            "_model_module_version": "1.5.0",
            "box_style": "",
            "children": [
              "IPY_MODEL_c0d4216ddd89425cb7778b70b3089dbd",
              "IPY_MODEL_27cfb1baa2e64369b0e04e9cdec0d411",
              "IPY_MODEL_96e337bae58440ea9d38c0783599a016"
            ]
          }
        },
        "82c993fc75de44e1a2f214b3a506e4e6": {
          "model_module": "@jupyter-widgets/controls",
          "model_name": "DescriptionStyleModel",
          "model_module_version": "1.5.0",
          "state": {
            "_model_module": "@jupyter-widgets/controls",
            "_model_module_version": "1.5.0",
            "_model_name": "DescriptionStyleModel",
            "_view_count": null,
            "_view_module": "@jupyter-widgets/base",
            "_view_module_version": "1.2.0",
            "_view_name": "StyleView",
            "description_width": ""
          }
        },
        "99b69c6d67114fd7824eaa8f59dee453": {
          "model_module": "@jupyter-widgets/base",
          "model_name": "LayoutModel",
          "model_module_version": "1.2.0",
          "state": {
            "_view_module_version": "1.2.0",
            "_model_name": "LayoutModel",
            "grid_row": null,
            "_model_module": "@jupyter-widgets/base",
            "overflow": null,
            "max_height": null,
            "display": null,
            "grid_auto_flow": null,
            "grid_template_rows": null,
            "align_self": null,
            "grid_auto_columns": null,
            "width": null,
            "grid_area": null,
            "align_items": null,
            "_view_name": "LayoutView",
            "left": null,
            "height": null,
            "_view_module": "@jupyter-widgets/base",
            "object_position": null,
            "justify_content": null,
            "bottom": null,
            "max_width": null,
            "border": null,
            "margin": null,
            "order": null,
            "grid_column": null,
            "grid_auto_rows": null,
            "padding": null,
            "grid_template_columns": null,
            "justify_items": null,
            "object_fit": null,
            "visibility": null,
            "_view_count": null,
            "flex_flow": null,
            "min_height": null,
            "top": null,
            "min_width": null,
            "flex": null,
            "_model_module_version": "1.2.0",
            "grid_template_areas": null,
            "overflow_x": null,
            "right": null,
            "overflow_y": null,
            "grid_gap": null,
            "align_content": null
          }
        },
        "74b6fc91a4734684af01c031accf55d8": {
          "model_module": "@jupyter-widgets/base",
          "model_name": "LayoutModel",
          "model_module_version": "1.2.0",
          "state": {
            "_view_module_version": "1.2.0",
            "_model_name": "LayoutModel",
            "grid_row": null,
            "_model_module": "@jupyter-widgets/base",
            "overflow": null,
            "max_height": null,
            "display": null,
            "grid_auto_flow": null,
            "grid_template_rows": null,
            "align_self": null,
            "grid_auto_columns": null,
            "width": null,
            "grid_area": null,
            "align_items": null,
            "_view_name": "LayoutView",
            "left": null,
            "height": null,
            "_view_module": "@jupyter-widgets/base",
            "object_position": null,
            "justify_content": null,
            "bottom": null,
            "max_width": null,
            "border": null,
            "margin": null,
            "order": null,
            "grid_column": null,
            "grid_auto_rows": null,
            "padding": null,
            "grid_template_columns": null,
            "justify_items": null,
            "object_fit": null,
            "visibility": null,
            "_view_count": null,
            "flex_flow": null,
            "min_height": null,
            "top": null,
            "min_width": null,
            "flex": null,
            "_model_module_version": "1.2.0",
            "grid_template_areas": null,
            "overflow_x": null,
            "right": null,
            "overflow_y": null,
            "grid_gap": null,
            "align_content": null
          }
        },
        "6f9f503758cc4c4893215515cc11268c": {
          "model_module": "@jupyter-widgets/controls",
          "model_name": "ProgressStyleModel",
          "model_module_version": "1.5.0",
          "state": {
            "_view_module_version": "1.2.0",
            "_model_name": "ProgressStyleModel",
            "_model_module": "@jupyter-widgets/controls",
            "description_width": "",
            "_view_name": "StyleView",
            "_view_module": "@jupyter-widgets/base",
            "_view_count": null,
            "bar_color": null,
            "_model_module_version": "1.5.0"
          }
        },
        "ea3e99ef112a43559b3971b21336cc69": {
          "model_module": "@jupyter-widgets/controls",
          "model_name": "HTMLModel",
          "model_module_version": "1.5.0",
          "state": {
            "_view_module_version": "1.5.0",
            "description_tooltip": null,
            "_model_name": "HTMLModel",
            "_model_module": "@jupyter-widgets/controls",
            "_view_name": "HTMLView",
            "_view_module": "@jupyter-widgets/controls",
            "_dom_classes": [],
            "layout": "IPY_MODEL_abad86e05629418cbcff3cc1a721deab",
            "value": "100%",
            "style": "IPY_MODEL_f53062b1b4104e748eda1fc2166f6761",
            "placeholder": "​",
            "_view_count": null,
            "_model_module_version": "1.5.0",
            "description": ""
          }
        },
        "a12c8b604fa24b4f8e29c8adbeafa42a": {
          "model_module": "@jupyter-widgets/controls",
          "model_name": "HTMLModel",
          "model_module_version": "1.5.0",
          "state": {
            "_view_module_version": "1.5.0",
            "description_tooltip": null,
            "_model_name": "HTMLModel",
            "_model_module": "@jupyter-widgets/controls",
            "_view_name": "HTMLView",
            "_view_module": "@jupyter-widgets/controls",
            "_dom_classes": [],
            "layout": "IPY_MODEL_0aff0ae1ff81428f9148b2ad87db4834",
            "value": " 3/3 [00:31&lt;00:00, 10.53s/it]",
            "style": "IPY_MODEL_b190c349d94142f7aace2b80b00d6644",
            "placeholder": "​",
            "_view_count": null,
            "_model_module_version": "1.5.0",
            "description": ""
          }
        },
        "c8d54f47674c4d048a5018e313618a56": {
          "model_module": "@jupyter-widgets/controls",
          "model_name": "HTMLModel",
          "model_module_version": "1.5.0",
          "state": {
            "_view_module_version": "1.5.0",
            "description_tooltip": null,
            "_model_name": "HTMLModel",
            "_model_module": "@jupyter-widgets/controls",
            "_view_name": "HTMLView",
            "_view_module": "@jupyter-widgets/controls",
            "_dom_classes": [],
            "layout": "IPY_MODEL_ffb2323df8144237b519bcef5dc0c1df",
            "value": " 3/3 [00:31&lt;00:00, 10.59s/it]",
            "style": "IPY_MODEL_82c993fc75de44e1a2f214b3a506e4e6",
            "placeholder": "​",
            "_view_count": null,
            "_model_module_version": "1.5.0",
            "description": ""
          }
        },
        "16af17c2ffd04c4db00440d9c52fcbe2": {
          "model_module": "@jupyter-widgets/base",
          "model_name": "LayoutModel",
          "model_module_version": "1.2.0",
          "state": {
            "_view_module_version": "1.2.0",
            "_model_name": "LayoutModel",
            "grid_row": null,
            "_model_module": "@jupyter-widgets/base",
            "overflow": null,
            "max_height": null,
            "display": null,
            "grid_auto_flow": null,
            "grid_template_rows": null,
            "align_self": null,
            "grid_auto_columns": null,
            "width": null,
            "grid_area": null,
            "align_items": null,
            "_view_name": "LayoutView",
            "left": null,
            "height": null,
            "_view_module": "@jupyter-widgets/base",
            "object_position": null,
            "justify_content": null,
            "bottom": null,
            "max_width": null,
            "border": null,
            "margin": null,
            "order": null,
            "grid_column": null,
            "grid_auto_rows": null,
            "padding": null,
            "grid_template_columns": null,
            "justify_items": null,
            "object_fit": null,
            "visibility": null,
            "_view_count": null,
            "flex_flow": null,
            "min_height": null,
            "top": null,
            "min_width": null,
            "flex": null,
            "_model_module_version": "1.2.0",
            "grid_template_areas": null,
            "overflow_x": null,
            "right": null,
            "overflow_y": null,
            "grid_gap": null,
            "align_content": null
          }
        }
      }
    },
    "accelerator": "GPU",
    "nteract": {
      "version": "nteract-front-end@1.0.0"
    }
  },
  "nbformat": 4,
  "nbformat_minor": 0
}